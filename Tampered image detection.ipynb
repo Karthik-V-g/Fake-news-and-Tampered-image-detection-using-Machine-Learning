{
  "nbformat": 4,
  "nbformat_minor": 0,
  "metadata": {
    "accelerator": "GPU",
    "colab": {
      "name": "fid.ipynb",
      "provenance": [],
      "collapsed_sections": []
    },
    "kernelspec": {
      "display_name": "Python 3",
      "language": "python",
      "name": "python3"
    },
    "language_info": {
      "codemirror_mode": {
        "name": "ipython",
        "version": 3
      },
      "file_extension": ".py",
      "mimetype": "text/x-python",
      "name": "python",
      "nbconvert_exporter": "python",
      "pygments_lexer": "ipython3",
      "version": "3.7.6"
    }
  },
  "cells": [
    {
      "cell_type": "code",
      "metadata": {
        "colab": {
          "base_uri": "https://localhost:8080/"
        },
        "id": "KBPVH53m8L-M",
        "outputId": "ef429f2a-fd6f-440e-c208-1fa999c92b59"
      },
      "source": [
        "pip install --upgrade pip"
      ],
      "execution_count": null,
      "outputs": [
        {
          "output_type": "stream",
          "text": [
            "Requirement already satisfied: pip in /usr/local/lib/python3.7/dist-packages (21.0.1)\n"
          ],
          "name": "stdout"
        }
      ]
    },
    {
      "cell_type": "code",
      "metadata": {
        "colab": {
          "base_uri": "https://localhost:8080/"
        },
        "id": "83gtog9-8L-o",
        "outputId": "ec8e1e1a-531e-4a35-c4ad-c5af1a322a31"
      },
      "source": [
        "!pip install keras-tuner\n"
      ],
      "execution_count": null,
      "outputs": [
        {
          "output_type": "stream",
          "text": [
            "Collecting keras-tuner\n",
            "\u001b[?25l  Downloading https://files.pythonhosted.org/packages/20/ec/1ef246787174b1e2bb591c95f29d3c1310070cad877824f907faba3dade9/keras-tuner-1.0.2.tar.gz (62kB)\n",
            "\r\u001b[K     |█████▏                          | 10kB 12.7MB/s eta 0:00:01\r\u001b[K     |██████████▍                     | 20kB 8.1MB/s eta 0:00:01\r\u001b[K     |███████████████▋                | 30kB 8.1MB/s eta 0:00:01\r\u001b[K     |████████████████████▉           | 40kB 7.6MB/s eta 0:00:01\r\u001b[K     |██████████████████████████      | 51kB 4.6MB/s eta 0:00:01\r\u001b[K     |███████████████████████████████▎| 61kB 5.2MB/s eta 0:00:01\r\u001b[K     |████████████████████████████████| 71kB 3.5MB/s \n",
            "\u001b[?25hRequirement already satisfied: packaging in /usr/local/lib/python3.7/dist-packages (from keras-tuner) (20.9)\n",
            "Requirement already satisfied: future in /usr/local/lib/python3.7/dist-packages (from keras-tuner) (0.16.0)\n",
            "Requirement already satisfied: numpy in /usr/local/lib/python3.7/dist-packages (from keras-tuner) (1.19.5)\n",
            "Requirement already satisfied: tabulate in /usr/local/lib/python3.7/dist-packages (from keras-tuner) (0.8.9)\n",
            "Collecting terminaltables\n",
            "  Downloading https://files.pythonhosted.org/packages/9b/c4/4a21174f32f8a7e1104798c445dacdc1d4df86f2f26722767034e4de4bff/terminaltables-3.1.0.tar.gz\n",
            "Collecting colorama\n",
            "  Downloading https://files.pythonhosted.org/packages/44/98/5b86278fbbf250d239ae0ecb724f8572af1c91f4a11edf4d36a206189440/colorama-0.4.4-py2.py3-none-any.whl\n",
            "Requirement already satisfied: tqdm in /usr/local/lib/python3.7/dist-packages (from keras-tuner) (4.41.1)\n",
            "Requirement already satisfied: requests in /usr/local/lib/python3.7/dist-packages (from keras-tuner) (2.23.0)\n",
            "Requirement already satisfied: scipy in /usr/local/lib/python3.7/dist-packages (from keras-tuner) (1.4.1)\n",
            "Requirement already satisfied: scikit-learn in /usr/local/lib/python3.7/dist-packages (from keras-tuner) (0.22.2.post1)\n",
            "Requirement already satisfied: pyparsing>=2.0.2 in /usr/local/lib/python3.7/dist-packages (from packaging->keras-tuner) (2.4.7)\n",
            "Requirement already satisfied: chardet<4,>=3.0.2 in /usr/local/lib/python3.7/dist-packages (from requests->keras-tuner) (3.0.4)\n",
            "Requirement already satisfied: certifi>=2017.4.17 in /usr/local/lib/python3.7/dist-packages (from requests->keras-tuner) (2020.12.5)\n",
            "Requirement already satisfied: idna<3,>=2.5 in /usr/local/lib/python3.7/dist-packages (from requests->keras-tuner) (2.10)\n",
            "Requirement already satisfied: urllib3!=1.25.0,!=1.25.1,<1.26,>=1.21.1 in /usr/local/lib/python3.7/dist-packages (from requests->keras-tuner) (1.24.3)\n",
            "Requirement already satisfied: joblib>=0.11 in /usr/local/lib/python3.7/dist-packages (from scikit-learn->keras-tuner) (1.0.1)\n",
            "Building wheels for collected packages: keras-tuner, terminaltables\n",
            "  Building wheel for keras-tuner (setup.py) ... \u001b[?25l\u001b[?25hdone\n",
            "  Created wheel for keras-tuner: filename=keras_tuner-1.0.2-cp37-none-any.whl size=78938 sha256=1d1341a8e22022450252351a45cb7227f5907d8962201fb39aacd4d14e5e9003\n",
            "  Stored in directory: /root/.cache/pip/wheels/bb/a1/8a/7c3de0efb3707a1701b36ebbfdbc4e67aedf6d4943a1f463d6\n",
            "  Building wheel for terminaltables (setup.py) ... \u001b[?25l\u001b[?25hdone\n",
            "  Created wheel for terminaltables: filename=terminaltables-3.1.0-cp37-none-any.whl size=15356 sha256=d3bec90b8a40fa5715ceca3f1f8c1055470b21931cda7ba0bcfc85d41c4beae6\n",
            "  Stored in directory: /root/.cache/pip/wheels/30/6b/50/6c75775b681fb36cdfac7f19799888ef9d8813aff9e379663e\n",
            "Successfully built keras-tuner terminaltables\n",
            "Installing collected packages: terminaltables, colorama, keras-tuner\n",
            "Successfully installed colorama-0.4.4 keras-tuner-1.0.2 terminaltables-3.1.0\n"
          ],
          "name": "stdout"
        }
      ]
    },
    {
      "cell_type": "code",
      "metadata": {
        "colab": {
          "base_uri": "https://localhost:8080/"
        },
        "id": "qcoV5Asz8L-q",
        "outputId": "9a522ccd-8412-48d7-a175-45952de2600d"
      },
      "source": [
        "\n",
        "!pip install imutils\n"
      ],
      "execution_count": null,
      "outputs": [
        {
          "output_type": "stream",
          "text": [
            "Requirement already satisfied: imutils in /usr/local/lib/python3.7/dist-packages (0.5.4)\n"
          ],
          "name": "stdout"
        }
      ]
    },
    {
      "cell_type": "code",
      "metadata": {
        "id": "mtjaTtNG8L-r"
      },
      "source": [
        "import tensorflow as tf\n",
        "from tensorflow import keras\n",
        "import numpy as np\n",
        "import os\n",
        "#import cv2\n",
        "from imutils import paths\n",
        "from keras.utils.np_utils import to_categorical\n",
        "from sklearn.model_selection import train_test_split\n",
        "import pandas as pd\n",
        "import matplotlib.pyplot as plt\n",
        "from math import sqrt\n",
        "from tqdm import tqdm\n",
        "from PIL import Image, ImageChops, ImageEnhance\n",
        "from sklearn.metrics import roc_curve, roc_auc_score, auc, mean_squared_error, classification_report, confusion_matrix\n",
        "from sklearn.metrics import accuracy_score"
      ],
      "execution_count": null,
      "outputs": []
    },
    {
      "cell_type": "code",
      "metadata": {
        "colab": {
          "base_uri": "https://localhost:8080/"
        },
        "id": "U-43u5zA8L-s",
        "outputId": "75734b85-4786-433b-c15b-97f89f9548e8"
      },
      "source": [
        "print(tf.__version__)"
      ],
      "execution_count": null,
      "outputs": [
        {
          "output_type": "stream",
          "text": [
            "2.4.1\n"
          ],
          "name": "stdout"
        }
      ]
    },
    {
      "cell_type": "code",
      "metadata": {
        "colab": {
          "base_uri": "https://localhost:8080/",
          "height": 36
        },
        "id": "yT_2qdbli1WT",
        "outputId": "447238cd-419e-4fe6-92f1-6656d1d16c96"
      },
      "source": [
        "\n",
        "tf.test.gpu_device_name()"
      ],
      "execution_count": null,
      "outputs": [
        {
          "output_type": "execute_result",
          "data": {
            "application/vnd.google.colaboratory.intrinsic+json": {
              "type": "string"
            },
            "text/plain": [
              "''"
            ]
          },
          "metadata": {
            "tags": []
          },
          "execution_count": 5
        }
      ]
    },
    {
      "cell_type": "code",
      "metadata": {
        "id": "N2xicVWg8L-v"
      },
      "source": [
        "def ErrorLevelAnalysis(path, quality):\n",
        "    filename = path\n",
        "    resaved_filename = filename.split('.')[0] + '.resaved.jpg'\n",
        "    ELA_filename = filename.split('.')[0] + '.ela.png'\n",
        "    \n",
        "    im = Image.open(filename).convert('RGB')\n",
        "    im.save(resaved_filename, 'JPEG', quality=quality)\n",
        "    resaved_im = Image.open(resaved_filename)\n",
        "    os.remove(resaved_filename)\n",
        "    ela_im = ImageChops.difference(im, resaved_im)\n",
        "     \n",
        "    \n",
        "    extrema = ela_im.getextrema()\n",
        "    max_diff = max([ex[1] for ex in extrema])\n",
        "    if max_diff == 0:\n",
        "        max_diff = 1\n",
        "    scale = 255.0 / max_diff\n",
        "    \n",
        "    ela_im = ImageEnhance.Brightness(ela_im).enhance(scale)\n",
        "    \n",
        "    return ela_im"
      ],
      "execution_count": null,
      "outputs": []
    },
    {
      "cell_type": "code",
      "metadata": {
        "id": "9hpyhe1ea8TJ"
      },
      "source": [
        ""
      ],
      "execution_count": null,
      "outputs": []
    },
    {
      "cell_type": "code",
      "metadata": {
        "id": "bVlZF48e8L-z"
      },
      "source": [
        "#Image.open(\"/kaggle/input/imgtst/imgtst/org/Im_2.jpg\")"
      ],
      "execution_count": null,
      "outputs": []
    },
    {
      "cell_type": "code",
      "metadata": {
        "id": "HJmqUeLE8L-0"
      },
      "source": [
        "#ErrorLevelAnalysis(\"/kaggle/input/imgtst/imgtst/org/Im_2.jpg\")"
      ],
      "execution_count": null,
      "outputs": []
    },
    {
      "cell_type": "code",
      "metadata": {
        "id": "5C_4HepLanHX"
      },
      "source": [
        "import io,sys\n"
      ],
      "execution_count": null,
      "outputs": []
    },
    {
      "cell_type": "code",
      "metadata": {
        "colab": {
          "base_uri": "https://localhost:8080/"
        },
        "id": "g1ORKQbpaA5Z",
        "outputId": "8be871bf-2455-4909-f663-5f7b86fffb39"
      },
      "source": [
        " from google.colab import drive\n",
        "drive.mount('/content/drive')\n"
      ],
      "execution_count": null,
      "outputs": [
        {
          "output_type": "stream",
          "text": [
            "Mounted at /content/drive\n"
          ],
          "name": "stdout"
        }
      ]
    },
    {
      "cell_type": "code",
      "metadata": {
        "id": "MRf482nobDKD"
      },
      "source": [
        "Image.open(\"drive/My Drive/collab/csa/original.jpg\")"
      ],
      "execution_count": null,
      "outputs": []
    },
    {
      "cell_type": "code",
      "metadata": {
        "id": "6dHfuVVRbMJ4"
      },
      "source": [
        "path_org=\"drive/My Drive/collab/csa/ogr/\"\n",
        "path_fak=\"drive/My Drive/collab/csa/fke/\"\n"
      ],
      "execution_count": null,
      "outputs": []
    },
    {
      "cell_type": "code",
      "metadata": {
        "id": "tuMemIC38L-4"
      },
      "source": [
        "\n",
        "\n",
        "org = os.listdir(path_org)\n",
        "fak = os.listdir(path_fak)\n"
      ],
      "execution_count": null,
      "outputs": []
    },
    {
      "cell_type": "code",
      "metadata": {
        "colab": {
          "base_uri": "https://localhost:8080/"
        },
        "id": "IS2KDaOZ8L-4",
        "outputId": "d9353f3a-1d7c-4f79-f22c-c97bcc2364e9"
      },
      "source": [
        "images_names = []\n",
        "\n",
        "for imgname in tqdm(os.listdir(path_org)):\n",
        "    try:\n",
        "        if imgname.endswith('png') or imgname.endswith('jpg'):\n",
        "             \n",
        "                imgnamefinal = path_org +'/'+ imgname  + ',0\\n'\n",
        "                images_names.append(imgnamefinal)\n",
        "                \n",
        "    except:\n",
        "           print(path_org+imgname)\n",
        "            \n",
        "            \n",
        "for imgname in tqdm(os.listdir(path_fak)):\n",
        "    try:\n",
        "        if imgname.endswith('png') or imgname.endswith('jpg') :\n",
        "            \n",
        "                    imgnamefinal = path_fak +'/'+imgname + ',1\\n'\n",
        "                    images_names.append(imgnamefinal)\n",
        "                   \n",
        "    except:\n",
        "          print(path_fak+imgname)\n",
        "          "
      ],
      "execution_count": null,
      "outputs": [
        {
          "output_type": "stream",
          "text": [
            "100%|██████████| 800/800 [00:00<00:00, 244316.53it/s]\n",
            "100%|██████████| 921/921 [00:00<00:00, 345863.91it/s]\n"
          ],
          "name": "stderr"
        }
      ]
    },
    {
      "cell_type": "code",
      "metadata": {
        "colab": {
          "base_uri": "https://localhost:8080/"
        },
        "id": "Nxdf7yTa8L_F",
        "outputId": "051bf2fb-5949-436a-f2f4-91e986251cf8"
      },
      "source": [
        "len(images_names)\n"
      ],
      "execution_count": null,
      "outputs": [
        {
          "output_type": "execute_result",
          "data": {
            "text/plain": [
              "1711"
            ]
          },
          "metadata": {
            "tags": []
          },
          "execution_count": 19
        }
      ]
    },
    {
      "cell_type": "code",
      "metadata": {
        "colab": {
          "base_uri": "https://localhost:8080/"
        },
        "id": "sRHmHFUn8L_F",
        "outputId": "bd485ed4-6ae5-4123-f8e1-57da3b640ede"
      },
      "source": [
        "image_name = []\n",
        "label = []\n",
        "for i in tqdm(range(len(images_names))):\n",
        "    image_name.append(images_names[i][0:-3])\n",
        "    label.append(images_names[i][-2])\n",
        "    \n",
        "dataset = pd.DataFrame({'image':image_name,'output':label})\n",
        "dataset['output'].value_counts()\n",
        "    "
      ],
      "execution_count": null,
      "outputs": [
        {
          "output_type": "stream",
          "text": [
            "100%|██████████| 1711/1711 [00:00<00:00, 513594.37it/s]\n"
          ],
          "name": "stderr"
        },
        {
          "output_type": "execute_result",
          "data": {
            "text/plain": [
              "1    921\n",
              "0    790\n",
              "Name: output, dtype: int64"
            ]
          },
          "metadata": {
            "tags": []
          },
          "execution_count": 20
        }
      ]
    },
    {
      "cell_type": "code",
      "metadata": {
        "id": "kTiShVoT8L_F"
      },
      "source": [
        "dataset.to_csv('DLdataset.csv',index=False)"
      ],
      "execution_count": null,
      "outputs": []
    },
    {
      "cell_type": "code",
      "metadata": {
        "id": "8IZo9vcj8L_G"
      },
      "source": [
        "\n",
        "dataset = pd.read_csv('DLdataset.csv')\n"
      ],
      "execution_count": null,
      "outputs": []
    },
    {
      "cell_type": "code",
      "metadata": {
        "id": "jrhYH9Y88L_G"
      },
      "source": [
        "dataset=dataset.sample(frac=1)"
      ],
      "execution_count": null,
      "outputs": []
    },
    {
      "cell_type": "code",
      "metadata": {
        "colab": {
          "base_uri": "https://localhost:8080/"
        },
        "id": "AB7pzb4b8L_G",
        "outputId": "2fc08bc6-57f4-4522-a130-b782f338e55c"
      },
      "source": [
        "dataset.shape"
      ],
      "execution_count": null,
      "outputs": [
        {
          "output_type": "execute_result",
          "data": {
            "text/plain": [
              "(1711, 2)"
            ]
          },
          "metadata": {
            "tags": []
          },
          "execution_count": 24
        }
      ]
    },
    {
      "cell_type": "code",
      "metadata": {
        "colab": {
          "base_uri": "https://localhost:8080/",
          "height": 343
        },
        "id": "8bRzDVtX8L_H",
        "outputId": "fbd9e66a-208a-4246-86e0-8988f2a3a300"
      },
      "source": [
        "dataset.head(10)"
      ],
      "execution_count": null,
      "outputs": [
        {
          "output_type": "execute_result",
          "data": {
            "text/html": [
              "<div>\n",
              "<style scoped>\n",
              "    .dataframe tbody tr th:only-of-type {\n",
              "        vertical-align: middle;\n",
              "    }\n",
              "\n",
              "    .dataframe tbody tr th {\n",
              "        vertical-align: top;\n",
              "    }\n",
              "\n",
              "    .dataframe thead th {\n",
              "        text-align: right;\n",
              "    }\n",
              "</style>\n",
              "<table border=\"1\" class=\"dataframe\">\n",
              "  <thead>\n",
              "    <tr style=\"text-align: right;\">\n",
              "      <th></th>\n",
              "      <th>image</th>\n",
              "      <th>output</th>\n",
              "    </tr>\n",
              "  </thead>\n",
              "  <tbody>\n",
              "    <tr>\n",
              "      <th>109</th>\n",
              "      <td>drive/My Drive/collab/csa/ogr//Au_arc_0093.jpg</td>\n",
              "      <td>0</td>\n",
              "    </tr>\n",
              "    <tr>\n",
              "      <th>1454</th>\n",
              "      <td>drive/My Drive/collab/csa/fke//Sp_S_NNN_R_txt0...</td>\n",
              "      <td>1</td>\n",
              "    </tr>\n",
              "    <tr>\n",
              "      <th>361</th>\n",
              "      <td>drive/My Drive/collab/csa/ogr//Au_cha_0078.jpg</td>\n",
              "      <td>0</td>\n",
              "    </tr>\n",
              "    <tr>\n",
              "      <th>680</th>\n",
              "      <td>drive/My Drive/collab/csa/ogr//Au_sec_0085.jpg</td>\n",
              "      <td>0</td>\n",
              "    </tr>\n",
              "    <tr>\n",
              "      <th>45</th>\n",
              "      <td>drive/My Drive/collab/csa/ogr//Au_ani_0027.jpg</td>\n",
              "      <td>0</td>\n",
              "    </tr>\n",
              "    <tr>\n",
              "      <th>1390</th>\n",
              "      <td>drive/My Drive/collab/csa/fke//Sp_S_NNN_C_txt0...</td>\n",
              "      <td>1</td>\n",
              "    </tr>\n",
              "    <tr>\n",
              "      <th>255</th>\n",
              "      <td>drive/My Drive/collab/csa/ogr//Au_art_0100.jpg</td>\n",
              "      <td>0</td>\n",
              "    </tr>\n",
              "    <tr>\n",
              "      <th>1147</th>\n",
              "      <td>drive/My Drive/collab/csa/fke//Sp_D_NRN_A_cha0...</td>\n",
              "      <td>1</td>\n",
              "    </tr>\n",
              "    <tr>\n",
              "      <th>1011</th>\n",
              "      <td>drive/My Drive/collab/csa/fke//Sp_D_NNN_A_txt0...</td>\n",
              "      <td>1</td>\n",
              "    </tr>\n",
              "    <tr>\n",
              "      <th>149</th>\n",
              "      <td>drive/My Drive/collab/csa/ogr//Au_ani_0044.jpg</td>\n",
              "      <td>0</td>\n",
              "    </tr>\n",
              "  </tbody>\n",
              "</table>\n",
              "</div>"
            ],
            "text/plain": [
              "                                                  image  output\n",
              "109      drive/My Drive/collab/csa/ogr//Au_arc_0093.jpg       0\n",
              "1454  drive/My Drive/collab/csa/fke//Sp_S_NNN_R_txt0...       1\n",
              "361      drive/My Drive/collab/csa/ogr//Au_cha_0078.jpg       0\n",
              "680      drive/My Drive/collab/csa/ogr//Au_sec_0085.jpg       0\n",
              "45       drive/My Drive/collab/csa/ogr//Au_ani_0027.jpg       0\n",
              "1390  drive/My Drive/collab/csa/fke//Sp_S_NNN_C_txt0...       1\n",
              "255      drive/My Drive/collab/csa/ogr//Au_art_0100.jpg       0\n",
              "1147  drive/My Drive/collab/csa/fke//Sp_D_NRN_A_cha0...       1\n",
              "1011  drive/My Drive/collab/csa/fke//Sp_D_NNN_A_txt0...       1\n",
              "149      drive/My Drive/collab/csa/ogr//Au_ani_0044.jpg       0"
            ]
          },
          "metadata": {
            "tags": []
          },
          "execution_count": 25
        }
      ]
    },
    {
      "cell_type": "code",
      "metadata": {
        "colab": {
          "base_uri": "https://localhost:8080/"
        },
        "id": "BPLped3r8L_H",
        "outputId": "fdb78204-cd5e-4ee7-f565-b4fea4373f04"
      },
      "source": [
        "x=[]\n",
        "y=[]\n",
        "\n",
        "for index, data in tqdm(dataset.iterrows()):\n",
        "\n",
        "       \n",
        "    x.append(np.array(ErrorLevelAnalysis(data[0],90).resize((192, 192))).flatten() / 255.0)\n",
        "    y.append(data[1])\n",
        "    \n",
        "    \n",
        "      \n",
        "    \n",
        "    \n"
      ],
      "execution_count": null,
      "outputs": [
        {
          "output_type": "stream",
          "text": [
            "1711it [15:58,  1.78it/s]\n"
          ],
          "name": "stderr"
        }
      ]
    },
    {
      "cell_type": "code",
      "metadata": {
        "id": "EaRf6cdg8L_H"
      },
      "source": [
        "X = np.array(x)\n",
        "Y = np.array(y)\n"
      ],
      "execution_count": null,
      "outputs": []
    },
    {
      "cell_type": "code",
      "metadata": {
        "id": "JyMusBFy8L_I",
        "colab": {
          "base_uri": "https://localhost:8080/"
        },
        "outputId": "8b16ec7a-1128-4b29-e8d3-59e450e70721"
      },
      "source": [
        "X = X.reshape(-1, 192, 192, 3)\n",
        "Y = to_categorical(Y, 2)\n",
        "X.shape,Y.shape"
      ],
      "execution_count": null,
      "outputs": [
        {
          "output_type": "execute_result",
          "data": {
            "text/plain": [
              "((1711, 192, 192, 3), (1711, 2))"
            ]
          },
          "metadata": {
            "tags": []
          },
          "execution_count": 28
        }
      ]
    },
    {
      "cell_type": "code",
      "metadata": {
        "id": "1i6fEg908L_I"
      },
      "source": [
        "from numpy import save\n",
        "## save all the data \n",
        "save('X_.npy', X)\n",
        "save('Y_.npy',Y)"
      ],
      "execution_count": null,
      "outputs": []
    },
    {
      "cell_type": "code",
      "metadata": {
        "id": "xgInbRtf8L_I",
        "colab": {
          "base_uri": "https://localhost:8080/"
        },
        "outputId": "ebb40bff-ac7f-4cb0-9474-48f3857231ae"
      },
      "source": [
        "\n",
        "from numpy import load\n",
        "x_ = load('X_.npy')\n",
        "y_ = load('Y_.npy')\n",
        "x_.shape,y_.shape"
      ],
      "execution_count": null,
      "outputs": [
        {
          "output_type": "execute_result",
          "data": {
            "text/plain": [
              "((1711, 192, 192, 3), (1711, 2))"
            ]
          },
          "metadata": {
            "tags": []
          },
          "execution_count": 30
        }
      ]
    },
    {
      "cell_type": "code",
      "metadata": {
        "id": "U8PHI6iO8L_I"
      },
      "source": [
        "X_train, X_test, Y_train, Y_test = train_test_split(x_, y_, test_size = 0.3,shuffle=True, random_state=3)"
      ],
      "execution_count": null,
      "outputs": []
    },
    {
      "cell_type": "code",
      "metadata": {
        "id": "fPBTODO08L_J",
        "colab": {
          "base_uri": "https://localhost:8080/"
        },
        "outputId": "a87eee1c-de48-4ff9-b82b-8957741c17f1"
      },
      "source": [
        "X_train.shape,Y_train.shape,X_test.shape,Y_test.shape"
      ],
      "execution_count": null,
      "outputs": [
        {
          "output_type": "execute_result",
          "data": {
            "text/plain": [
              "((1197, 192, 192, 3), (1197, 2), (514, 192, 192, 3), (514, 2))"
            ]
          },
          "metadata": {
            "tags": []
          },
          "execution_count": 32
        }
      ]
    },
    {
      "cell_type": "code",
      "metadata": {
        "id": "T0uLvhJD8L_J"
      },
      "source": [
        "def build_model(hp):        \n",
        "    model = keras.Sequential([\n",
        "\n",
        "    keras.layers.Conv2D(\n",
        "    filters=hp.Int('conv_1_filter', min_value=32, max_value=96, step=16),\n",
        "    kernel_size=hp.Choice('conv_1_kernel', values = [5,5]),\n",
        "    activation='relu',\n",
        "    input_shape=X_train.shape[1:]\n",
        "    ),\n",
        "    keras.layers.MaxPooling2D(\n",
        "    pool_size=hp.Choice('2d2',values=[2,2]), strides=None,padding=\"valid\", data_format=None\n",
        "    ),\n",
        "    keras.layers.Conv2D(\n",
        "    filters=hp.Int('conv_2_filter', min_value=32, max_value=64, step=16),\n",
        "    kernel_size=hp.Choice('conv_2_kernel', values = [5,5]),\n",
        "    activation='relu'\n",
        "    ),\n",
        "    keras.layers.MaxPooling2D( pool_size=hp.Choice('2d2',values=[2,2]), strides=None,padding=\"valid\" ,data_format=None\n",
        "    ),\n",
        "    keras.layers.Dropout(0.5, noise_shape=None, seed=None),\n",
        "    keras.layers.Flatten(),\n",
        "    keras.layers.Dense(\n",
        "    units=hp.Int('dense_1_units', min_value=32, max_value=256, step=16),\n",
        "    activation='relu'\n",
        "    ),\n",
        "    keras.layers.Dropout(0.5, noise_shape=None, seed=None),\n",
        "    keras.layers.Dense(2, activation='softmax')\n",
        "    ])\n",
        "  \n",
        "    model.compile(optimizer=keras.optimizers.Adam(hp.Choice('learning_rate', values=[1e-2, 1e-4])) , loss='binary_crossentropy',\n",
        "                                                             metrics=['accuracy'])\n",
        "                      \n",
        "                      \n",
        "                     \n",
        "#   keras.optimizers.RMSprop(learning_rate=0.001,rho=0.9, momentum=0.0,epsilon=1e-07, centered=False, name=\"RMSprop\")\n",
        "                                                             \n",
        "                             \n",
        "    return model"
      ],
      "execution_count": null,
      "outputs": []
    },
    {
      "cell_type": "code",
      "metadata": {
        "id": "bnndHBXy8L_K"
      },
      "source": [
        "from kerastuner import RandomSearch\n",
        "from kerastuner.engine.hyperparameters import HyperParameters"
      ],
      "execution_count": null,
      "outputs": []
    },
    {
      "cell_type": "code",
      "metadata": {
        "id": "DU3q7xFngos1",
        "colab": {
          "base_uri": "https://localhost:8080/",
          "height": 35
        },
        "outputId": "908a84d6-8ace-42ad-8c80-4fda6d954222"
      },
      "source": [
        "\n",
        "tf.test.gpu_device_name()"
      ],
      "execution_count": null,
      "outputs": [
        {
          "output_type": "execute_result",
          "data": {
            "application/vnd.google.colaboratory.intrinsic+json": {
              "type": "string"
            },
            "text/plain": [
              "'/device:GPU:0'"
            ]
          },
          "metadata": {
            "tags": []
          },
          "execution_count": 35
        }
      ]
    },
    {
      "cell_type": "code",
      "metadata": {
        "id": "4_pTQQrs8L_K"
      },
      "source": [
        "tuner_search=RandomSearch(build_model,\n",
        "                          objective='val_accuracy',\n",
        "                          max_trials=5,directory='output',project_name=\"fake image\")"
      ],
      "execution_count": null,
      "outputs": []
    },
    {
      "cell_type": "code",
      "metadata": {
        "id": "OGulb9fk8L_K",
        "colab": {
          "base_uri": "https://localhost:8080/"
        },
        "outputId": "d81d3cc3-b8fb-4096-cbb2-7e1c80a1aa23"
      },
      "source": [
        "\n",
        "tuner_search.search(X_train,Y_train,epochs=30,validation_data = (X_test, Y_test))"
      ],
      "execution_count": null,
      "outputs": [
        {
          "output_type": "stream",
          "text": [
            "Trial 5 Complete [00h 01m 24s]\n",
            "val_accuracy: 0.5564202070236206\n",
            "\n",
            "Best val_accuracy So Far: 0.8346303701400757\n",
            "Total elapsed time: 00h 12m 46s\n",
            "INFO:tensorflow:Oracle triggered exit\n"
          ],
          "name": "stdout"
        }
      ]
    },
    {
      "cell_type": "code",
      "metadata": {
        "id": "ZYoATpXQ8L_K"
      },
      "source": [
        "model=tuner_search.get_best_models(num_models=1)[0]"
      ],
      "execution_count": null,
      "outputs": []
    },
    {
      "cell_type": "code",
      "metadata": {
        "id": "mWlPAI1p8L_L",
        "colab": {
          "base_uri": "https://localhost:8080/"
        },
        "outputId": "4df20ef8-1094-4d0e-f5d1-0baacb034776"
      },
      "source": [
        "model.summary()"
      ],
      "execution_count": null,
      "outputs": [
        {
          "output_type": "stream",
          "text": [
            "Model: \"sequential\"\n",
            "_________________________________________________________________\n",
            "Layer (type)                 Output Shape              Param #   \n",
            "=================================================================\n",
            "conv2d (Conv2D)              (None, 188, 188, 96)      7296      \n",
            "_________________________________________________________________\n",
            "max_pooling2d (MaxPooling2D) (None, 94, 94, 96)        0         \n",
            "_________________________________________________________________\n",
            "conv2d_1 (Conv2D)            (None, 90, 90, 64)        153664    \n",
            "_________________________________________________________________\n",
            "max_pooling2d_1 (MaxPooling2 (None, 45, 45, 64)        0         \n",
            "_________________________________________________________________\n",
            "dropout (Dropout)            (None, 45, 45, 64)        0         \n",
            "_________________________________________________________________\n",
            "flatten (Flatten)            (None, 129600)            0         \n",
            "_________________________________________________________________\n",
            "dense (Dense)                (None, 48)                6220848   \n",
            "_________________________________________________________________\n",
            "dropout_1 (Dropout)          (None, 48)                0         \n",
            "_________________________________________________________________\n",
            "dense_1 (Dense)              (None, 2)                 98        \n",
            "=================================================================\n",
            "Total params: 6,381,906\n",
            "Trainable params: 6,381,906\n",
            "Non-trainable params: 0\n",
            "_________________________________________________________________\n"
          ],
          "name": "stdout"
        }
      ]
    },
    {
      "cell_type": "code",
      "metadata": {
        "id": "-mws2QhyYeGN"
      },
      "source": [
        ""
      ],
      "execution_count": null,
      "outputs": []
    },
    {
      "cell_type": "code",
      "metadata": {
        "id": "mvfrSwRi8L_L",
        "colab": {
          "base_uri": "https://localhost:8080/"
        },
        "outputId": "75cb877d-ebc2-4c09-8265-46eda0b16dcb"
      },
      "source": [
        "model.fit(X_train,Y_train, batch_size=100, epochs=30 , validation_data = (X_test, Y_test))"
      ],
      "execution_count": null,
      "outputs": [
        {
          "output_type": "stream",
          "text": [
            "Epoch 1/30\n",
            "12/12 [==============================] - 15s 927ms/step - loss: 0.4142 - accuracy: 0.7993 - val_loss: 0.4034 - val_accuracy: 0.8210\n",
            "Epoch 2/30\n",
            "12/12 [==============================] - 6s 520ms/step - loss: 0.4213 - accuracy: 0.7927 - val_loss: 0.3987 - val_accuracy: 0.8152\n",
            "Epoch 3/30\n",
            "12/12 [==============================] - 6s 517ms/step - loss: 0.3998 - accuracy: 0.8040 - val_loss: 0.3963 - val_accuracy: 0.8171\n",
            "Epoch 4/30\n",
            "12/12 [==============================] - 6s 518ms/step - loss: 0.4167 - accuracy: 0.7882 - val_loss: 0.3845 - val_accuracy: 0.8327\n",
            "Epoch 5/30\n",
            "12/12 [==============================] - 6s 520ms/step - loss: 0.3960 - accuracy: 0.8047 - val_loss: 0.3877 - val_accuracy: 0.8288\n",
            "Epoch 6/30\n",
            "12/12 [==============================] - 6s 518ms/step - loss: 0.3837 - accuracy: 0.8154 - val_loss: 0.3821 - val_accuracy: 0.8268\n",
            "Epoch 7/30\n",
            "12/12 [==============================] - 6s 522ms/step - loss: 0.3989 - accuracy: 0.7983 - val_loss: 0.3800 - val_accuracy: 0.8327\n",
            "Epoch 8/30\n",
            "12/12 [==============================] - 6s 520ms/step - loss: 0.3735 - accuracy: 0.8191 - val_loss: 0.3837 - val_accuracy: 0.8288\n",
            "Epoch 9/30\n",
            "12/12 [==============================] - 6s 520ms/step - loss: 0.3824 - accuracy: 0.8119 - val_loss: 0.3928 - val_accuracy: 0.8132\n",
            "Epoch 10/30\n",
            "12/12 [==============================] - 6s 523ms/step - loss: 0.3937 - accuracy: 0.7953 - val_loss: 0.3881 - val_accuracy: 0.8113\n",
            "Epoch 11/30\n",
            "12/12 [==============================] - 6s 517ms/step - loss: 0.3637 - accuracy: 0.8254 - val_loss: 0.3948 - val_accuracy: 0.8132\n",
            "Epoch 12/30\n",
            "12/12 [==============================] - 6s 518ms/step - loss: 0.3787 - accuracy: 0.7972 - val_loss: 0.3910 - val_accuracy: 0.8152\n",
            "Epoch 13/30\n",
            "12/12 [==============================] - 6s 523ms/step - loss: 0.3549 - accuracy: 0.8203 - val_loss: 0.3826 - val_accuracy: 0.8171\n",
            "Epoch 14/30\n",
            "12/12 [==============================] - 6s 521ms/step - loss: 0.3384 - accuracy: 0.8231 - val_loss: 0.3736 - val_accuracy: 0.8288\n",
            "Epoch 15/30\n",
            "12/12 [==============================] - 6s 521ms/step - loss: 0.3616 - accuracy: 0.8134 - val_loss: 0.3703 - val_accuracy: 0.8230\n",
            "Epoch 16/30\n",
            "12/12 [==============================] - 6s 520ms/step - loss: 0.3684 - accuracy: 0.7991 - val_loss: 0.3691 - val_accuracy: 0.8307\n",
            "Epoch 17/30\n",
            "12/12 [==============================] - 6s 520ms/step - loss: 0.3668 - accuracy: 0.8037 - val_loss: 0.3722 - val_accuracy: 0.8249\n",
            "Epoch 18/30\n",
            "12/12 [==============================] - 6s 521ms/step - loss: 0.3563 - accuracy: 0.8078 - val_loss: 0.3685 - val_accuracy: 0.8268\n",
            "Epoch 19/30\n",
            "12/12 [==============================] - 6s 521ms/step - loss: 0.3468 - accuracy: 0.8149 - val_loss: 0.3748 - val_accuracy: 0.8191\n",
            "Epoch 20/30\n",
            "12/12 [==============================] - 6s 518ms/step - loss: 0.3355 - accuracy: 0.8182 - val_loss: 0.3733 - val_accuracy: 0.8249\n",
            "Epoch 21/30\n",
            "12/12 [==============================] - 6s 521ms/step - loss: 0.3391 - accuracy: 0.8040 - val_loss: 0.3698 - val_accuracy: 0.8268\n",
            "Epoch 22/30\n",
            "12/12 [==============================] - 6s 519ms/step - loss: 0.3326 - accuracy: 0.8206 - val_loss: 0.3684 - val_accuracy: 0.8268\n",
            "Epoch 23/30\n",
            "12/12 [==============================] - 6s 522ms/step - loss: 0.3273 - accuracy: 0.8161 - val_loss: 0.3697 - val_accuracy: 0.8288\n",
            "Epoch 24/30\n",
            "12/12 [==============================] - 6s 518ms/step - loss: 0.3159 - accuracy: 0.8263 - val_loss: 0.3683 - val_accuracy: 0.8268\n",
            "Epoch 25/30\n",
            "12/12 [==============================] - 6s 523ms/step - loss: 0.3376 - accuracy: 0.8268 - val_loss: 0.3813 - val_accuracy: 0.8152\n",
            "Epoch 26/30\n",
            "12/12 [==============================] - 6s 522ms/step - loss: 0.3241 - accuracy: 0.8187 - val_loss: 0.3767 - val_accuracy: 0.8152\n",
            "Epoch 27/30\n",
            "12/12 [==============================] - 6s 519ms/step - loss: 0.3051 - accuracy: 0.8253 - val_loss: 0.3711 - val_accuracy: 0.8230\n",
            "Epoch 28/30\n",
            "12/12 [==============================] - 6s 518ms/step - loss: 0.3018 - accuracy: 0.8270 - val_loss: 0.3692 - val_accuracy: 0.8268\n",
            "Epoch 29/30\n",
            "12/12 [==============================] - 6s 521ms/step - loss: 0.3025 - accuracy: 0.8189 - val_loss: 0.3720 - val_accuracy: 0.8249\n",
            "Epoch 30/30\n",
            "12/12 [==============================] - 6s 519ms/step - loss: 0.3137 - accuracy: 0.8139 - val_loss: 0.3700 - val_accuracy: 0.8230\n"
          ],
          "name": "stdout"
        },
        {
          "output_type": "execute_result",
          "data": {
            "text/plain": [
              "<tensorflow.python.keras.callbacks.History at 0x7f90c79ec310>"
            ]
          },
          "metadata": {
            "tags": []
          },
          "execution_count": 40
        }
      ]
    },
    {
      "cell_type": "code",
      "metadata": {
        "id": "Gi19irHe8L_L",
        "colab": {
          "base_uri": "https://localhost:8080/"
        },
        "outputId": "46ca46e6-414f-40c0-bcea-0663a11c915c"
      },
      "source": [
        "from sklearn import metrics\n",
        "from sklearn.metrics import confusion_matrix, classification_report\n",
        "y_pred_cnn1 = model.predict(X_test)\n",
        "y_pred_cnn = np.argmax(y_pred_cnn1,axis = 1)\n",
        "\n",
        "Y_true = np.argmax(Y_test,axis = 1) \n",
        "score = accuracy_score(Y_true,  y_pred_cnn)\n",
        "print(\"Accuracy score: {}\".format(score))\n",
        "score = metrics.precision_score(Y_true,y_pred_cnn, average= \"weighted\")\n",
        "print(\"Precision score: {}\".format(score))\n",
        "score = metrics.recall_score(Y_true, y_pred_cnn, average= \"weighted\")\n",
        "print(\"Recall score: {}\".format(score))\n",
        "score_lr1 = metrics.f1_score(Y_true, y_pred_cnn, average= \"weighted\")\n",
        "print(\"F1 score: {}\".format(score_lr1))\n"
      ],
      "execution_count": null,
      "outputs": [
        {
          "output_type": "stream",
          "text": [
            "Accuracy score: 0.8229571984435797\n",
            "Precision score: 0.8488758729291215\n",
            "Recall score: 0.8229571984435797\n",
            "F1 score: 0.8157930937912765\n"
          ],
          "name": "stdout"
        }
      ]
    },
    {
      "cell_type": "code",
      "metadata": {
        "id": "LvU_oP-H8L_M",
        "colab": {
          "base_uri": "https://localhost:8080/",
          "height": 694
        },
        "outputId": "a66f2eeb-adf0-4f57-da1d-b2bdcb4f6d19"
      },
      "source": [
        "import seaborn as sns\n",
        "cm = confusion_matrix(Y_true, y_pred_cnn)\n",
        "print('Confusion matrix:\\n',cm)\n",
        "\n",
        "print(classification_report(Y_true, y_pred_cnn))\n",
        "\n",
        "print('Plot of Confusion Matrix')\n",
        "df_cm = pd.DataFrame(cm, columns=np.unique(Y_true), index = np.unique(Y_true))\n",
        "df_cm.index.name = 'Actual'\n",
        "df_cm.columns.name = 'Predicted'\n",
        "plt.figure(figsize = (10,7))\n",
        "sns.set(font_scale=1.4)#for label size\n",
        "sns.heatmap(df_cm, cmap=\"Blues\", annot=True,annot_kws={\"size\": 16})# font size"
      ],
      "execution_count": null,
      "outputs": [
        {
          "output_type": "stream",
          "text": [
            "Confusion matrix:\n",
            " [[145  83]\n",
            " [  8 278]]\n",
            "              precision    recall  f1-score   support\n",
            "\n",
            "           0       0.95      0.64      0.76       228\n",
            "           1       0.77      0.97      0.86       286\n",
            "\n",
            "    accuracy                           0.82       514\n",
            "   macro avg       0.86      0.80      0.81       514\n",
            "weighted avg       0.85      0.82      0.82       514\n",
            "\n",
            "Plot of Confusion Matrix\n"
          ],
          "name": "stdout"
        },
        {
          "output_type": "execute_result",
          "data": {
            "text/plain": [
              "<matplotlib.axes._subplots.AxesSubplot at 0x7f905f8476d0>"
            ]
          },
          "metadata": {
            "tags": []
          },
          "execution_count": 42
        },
        {
          "output_type": "display_data",
          "data": {
            "image/png": "[encoded data removed]",
            "text/plain": [
              "<Figure size 720x504 with 2 Axes>"
            ]
          },
          "metadata": {
            "tags": [],
            "needs_background": "light"
          }
        }
      ]
    },
    {
      "cell_type": "code",
      "metadata": {
        "id": "EXGLYyY28L_P",
        "colab": {
          "base_uri": "https://localhost:8080/"
        },
        "outputId": "e977a956-edd1-4347-bbb4-7bde238a0f87"
      },
      "source": [
        "cnn_score = model.evaluate(X_test, Y_test, verbose=3)\n",
        "print ('Test loss:', cnn_score[0])\n",
        "print ('Test accuracy:', cnn_score[1])"
      ],
      "execution_count": null,
      "outputs": [
        {
          "output_type": "stream",
          "text": [
            "Test loss: 0.36998090147972107\n",
            "Test accuracy: 0.8229572176933289\n"
          ],
          "name": "stdout"
        }
      ]
    },
    {
      "cell_type": "code",
      "metadata": {
        "id": "UiLCW2Kt8L_P"
      },
      "source": [
        "def plot_roc_curve(y_true, y_pred, y_proba):\n",
        "    rmse = sqrt(mean_squared_error(y_true, y_pred))\n",
        "    print('RMSE', rmse)\n",
        "    from sklearn.metrics import roc_auc_score\n",
        "    print('ROC_AUC score:',roc_auc_score(Y_true,y_pred_cnn))\n",
        "    \n",
        "    \n",
        "    FPR, TPR, thresholds = roc_curve(y_true, y_proba)\n",
        "    roc_auc = auc(FPR, TPR)\n",
        "    plt.plot([0, 1], [0, 1], 'r--')\n",
        "    plt.plot(FPR, TPR, label='' % roc_auc)\n",
        "    plt.title('ROC Curve')\n",
        "    plt.legend(loc='lower right')\n",
        "    plt.ylabel('True Positive')\n",
        "    plt.xlabel('False Positive')\n",
        "    plt.show()\n",
        "    \n",
        " "
      ],
      "execution_count": null,
      "outputs": []
    },
    {
      "cell_type": "code",
      "metadata": {
        "id": "0YmFrTmV8L_Q",
        "colab": {
          "base_uri": "https://localhost:8080/"
        },
        "outputId": "53cf055d-96b7-4159-fe14-6be8c581cd1b"
      },
      "source": [
        "cnn_model_y_proba=model.predict(X_test,verbose=3)\n",
        "cnn_model_y_proba\n"
      ],
      "execution_count": null,
      "outputs": [
        {
          "output_type": "execute_result",
          "data": {
            "text/plain": [
              "array([[6.0350806e-02, 9.3964916e-01],\n",
              "       [3.0467451e-01, 6.9532549e-01],\n",
              "       [9.9999952e-01, 4.2751927e-07],\n",
              "       ...,\n",
              "       [3.2478549e-02, 9.6752143e-01],\n",
              "       [2.1233760e-01, 7.8766245e-01],\n",
              "       [8.0852872e-03, 9.9191475e-01]], dtype=float32)"
            ]
          },
          "metadata": {
            "tags": []
          },
          "execution_count": 45
        }
      ]
    },
    {
      "cell_type": "code",
      "metadata": {
        "id": "dRrA-BeX8L_S",
        "colab": {
          "base_uri": "https://localhost:8080/",
          "height": 366
        },
        "outputId": "feb500cf-e200-4539-f0f9-5a9219a59f23"
      },
      "source": [
        "plot_roc_curve(Y_true, y_pred_cnn, cnn_model_y_proba[:,1])\n"
      ],
      "execution_count": null,
      "outputs": [
        {
          "output_type": "stream",
          "text": [
            "No handles with labels found to put in legend.\n"
          ],
          "name": "stderr"
        },
        {
          "output_type": "stream",
          "text": [
            "RMSE 0.42076454408186564\n",
            "ROC_AUC score: 0.8039964421543369\n"
          ],
          "name": "stdout"
        },
        {
          "output_type": "display_data",
          "data": {
            "image/png": "[encoded data removed]",
            "text/plain": [
              "<Figure size 432x288 with 1 Axes>"
            ]
          },
          "metadata": {
            "tags": []
          }
        }
      ]
    },
    {
      "cell_type": "code",
      "metadata": {
        "id": "-HIkwqwHpRes",
        "colab": {
          "base_uri": "https://localhost:8080/"
        },
        "outputId": "ccaa0b5f-41ba-4d9d-8374-385d2aba2ff4"
      },
      "source": [
        "from google.colab import drive\n",
        "drive.mount('/content/gdrive')"
      ],
      "execution_count": null,
      "outputs": [
        {
          "output_type": "stream",
          "text": [
            "Mounted at /content/gdrive\n"
          ],
          "name": "stdout"
        }
      ]
    },
    {
      "cell_type": "code",
      "metadata": {
        "id": "El7d2gIGSa7q"
      },
      "source": [
        "model.save(\"/content/gdrive/My Drive/collab/my_model.h5\")"
      ],
      "execution_count": null,
      "outputs": []
    },
    {
      "cell_type": "code",
      "metadata": {
        "colab": {
          "base_uri": "https://localhost:8080/"
        },
        "id": "xiwkeybiSn7c",
        "outputId": "ce8a756d-0869-408f-8fb6-bbd3e96568f3"
      },
      "source": [
        "new_model=keras.models.load_model(\"/content/gdrive/My Drive/collab/my_model.h5\")"
      ],
      "execution_count": null,
      "outputs": [
        {
          "output_type": "stream",
          "text": [
            "WARNING:tensorflow:Error in loading the saved optimizer state. As a result, your model is starting with a freshly initialized optimizer.\n"
          ],
          "name": "stdout"
        }
      ]
    },
    {
      "cell_type": "code",
      "metadata": {
        "colab": {
          "base_uri": "https://localhost:8080/"
        },
        "id": "cca24ZCvS6Vk",
        "outputId": "18188537-3d20-4634-e4e5-df1f975bf0d4"
      },
      "source": [
        "cnn_score = new_model.evaluate(X_test, Y_test, verbose=3)\n",
        "print ('Test loss:', cnn_score[0])\n",
        "print ('Test accuracy:', cnn_score[1])"
      ],
      "execution_count": null,
      "outputs": [
        {
          "output_type": "stream",
          "text": [
            "Test loss: 0.36998090147972107\n",
            "Test accuracy: 0.8229572176933289\n"
          ],
          "name": "stdout"
        }
      ]
    },
    {
      "cell_type": "code",
      "metadata": {
        "id": "210z57xbwnRa"
      },
      "source": [
        "import pickle\n",
        "\n",
        "from tensorflow.keras.models import Sequential, Model\n",
        "from tensorflow.keras.layers import Dense\n",
        "from tensorflow.python.keras.layers import deserialize, serialize\n",
        "from tensorflow.python.keras.saving import saving_utils\n",
        "\n",
        "\n",
        "def unpack(model, training_config, weights):\n",
        "    restored_model = deserialize(model)\n",
        "    if training_config is not None:\n",
        "        restored_model.compile(\n",
        "            **saving_utils.compile_args_from_training_config(\n",
        "                training_config\n",
        "            )\n",
        "        )\n",
        "    restored_model.set_weights(weights)\n",
        "    return restored_model\n",
        "\n",
        "# Hotfix function\n",
        "def make_keras_picklable():\n",
        "\n",
        "    def __reduce__(self):\n",
        "        model_metadata = saving_utils.model_metadata(self)\n",
        "        training_config = model_metadata.get(\"training_config\", None)\n",
        "        model = serialize(self)\n",
        "        weights = self.get_weights()\n",
        "        return (unpack, (model, training_config, weights))\n",
        "\n",
        "    cls = Model\n",
        "    cls.__reduce__ = __reduce__\n",
        "\n",
        "# Run the function\n",
        "make_keras_picklable()\n",
        "\n",
        "\n",
        "# Save\n",
        "with open('model.pkl', 'wb') as f:\n",
        "    pickle.dump(model, f)"
      ],
      "execution_count": null,
      "outputs": []
    },
    {
      "cell_type": "code",
      "metadata": {
        "id": "tjAfliJGwmkM"
      },
      "source": [
        "# # open a file, where you stored the pickled data\n",
        "# file = open('model.pkl', 'rb')\n",
        "\n",
        "# # dump information to that file\n",
        "# modell = pickle.load(file)"
      ],
      "execution_count": null,
      "outputs": []
    },
    {
      "cell_type": "code",
      "metadata": {
        "id": "0IgmcSy5xglT"
      },
      "source": [
        "# y_pred_cnn1 = modell.predict(X_test)\n",
        "# y_pred_cnn = np.argmax(y_pred_cnn1,axis = 1)\n",
        "\n",
        "# Y_true = np.argmax(Y_test,axis = 1) \n",
        "# score = accuracy_score(Y_true,  y_pred_cnn)\n",
        "# print(\"Accuracy score: {}\".format(score))"
      ],
      "execution_count": null,
      "outputs": []
    },
    {
      "cell_type": "code",
      "metadata": {
        "id": "X1b6d86iigXq"
      },
      "source": [
        ""
      ],
      "execution_count": null,
      "outputs": []
    },
    {
      "cell_type": "code",
      "metadata": {
        "id": "Drc7Q2GSv3h4"
      },
      "source": [
        ""
      ],
      "execution_count": null,
      "outputs": []
    },
    {
      "cell_type": "code",
      "metadata": {
        "id": "Mrqq8rPpkMuZ",
        "colab": {
          "base_uri": "https://localhost:8080/"
        },
        "outputId": "0ca478a3-6e77-45e8-decf-95b2869b6a03"
      },
      "source": [
        "from pydrive.auth import GoogleAuth\n",
        "from pydrive.drive import GoogleDrive\n",
        "from google.colab import auth\n",
        "from oauth2client.client import GoogleCredentials\n",
        "\n",
        "# 1. Authenticate and create the PyDrive client.\n",
        "auth.authenticate_user()\n",
        "gauth = GoogleAuth()\n",
        "gauth.credentials = GoogleCredentials.get_application_default()\n",
        "drive = GoogleDrive(gauth)  \n",
        "\n",
        "# get the folder id where you want to save your file\n",
        "file = drive.CreateFile({'parents':[{u'id': '1dfeVOBXHsgegh5zn0R7JlrQAyjwTefUO'}]})\n",
        "file.SetContentFile('model.pkl')\n",
        "file.Upload() \n",
        "\n",
        "import pickle\n",
        "\n",
        "class MyClass:\n",
        "    def __init__(self, name):\n",
        "        self.name = name\n",
        "\n",
        "if __name__ == '__main__':\n",
        "    o = MyClass('test')\n",
        "    with open('model.pkl', 'wb') as f:\n",
        "        pickle.dump(o, f)"
      ],
      "execution_count": null,
      "outputs": [
        {
          "output_type": "stream",
          "text": [
            "Go to the following link in your browser:\n",
            "\n",
            "    https://accounts.google.com/o/oauth2/auth?response_type=code&client_id=32555940559.apps.googleusercontent.com&redirect_uri=urn%3Aietf%3Awg%3Aoauth%3A2.0%3Aoob&scope=openid+https%3A%2F%2Fwww.googleapis.com%2Fauth%2Fuserinfo.email+https%3A%2F%2Fwww.googleapis.com%2Fauth%2Fcloud-platform+https%3A%2F%2Fwww.googleapis.com%2Fauth%2Fappengine.admin+https%3A%2F%2Fwww.googleapis.com%2Fauth%2Fcompute+https%3A%2F%2Fwww.googleapis.com%2Fauth%2Faccounts.reauth+https%3A%2F%2Fwww.googleapis.com%2Fauth%2Fdrive&state=6djItPfLYYfq7GXsPmqhxD9LwErChs&prompt=consent&access_type=offline&code_challenge=UXYUASLwo667mk1E_hH41GXY5FHTIgowSWscZ_cbZ3k&code_challenge_method=S256\n",
            "\n",
            "Enter verification code: 4/1AY0e-g7qLfiagouPU7FYEnk8umJua5CXYBLob9tZrsysz6NnIvzCDy-nD44\n"
          ],
          "name": "stdout"
        }
      ]
    },
    {
      "cell_type": "code",
      "metadata": {
        "id": "6BsjzyFL0JQw",
        "colab": {
          "base_uri": "https://localhost:8080/",
          "height": 128
        },
        "outputId": "4e7c5631-6df9-45a5-a07a-1664ca7a703e"
      },
      "source": [
        "DATA_PATH = \n",
        "infile = open(DATA_PATH+'/model.pkl','rb')\n",
        "best_model2 = pickle.load(infile)"
      ],
      "execution_count": null,
      "outputs": [
        {
          "output_type": "error",
          "ename": "SyntaxError",
          "evalue": "ignored",
          "traceback": [
            "\u001b[0;36m  File \u001b[0;32m\"<ipython-input-56-a3ab88082dc9>\"\u001b[0;36m, line \u001b[0;32m1\u001b[0m\n\u001b[0;31m    DATA_PATH =\u001b[0m\n\u001b[0m                ^\u001b[0m\n\u001b[0;31mSyntaxError\u001b[0m\u001b[0;31m:\u001b[0m invalid syntax\n"
          ]
        }
      ]
    },
    {
      "cell_type": "code",
      "metadata": {
        "id": "oKYKja9Aye_G"
      },
      "source": [
        "from google.colab import files\n",
        "mode=files.download('model.pkl')\n"
      ],
      "execution_count": null,
      "outputs": []
    },
    {
      "cell_type": "code",
      "metadata": {
        "id": "Y0e5bZgjzloA"
      },
      "source": [
        "y_pred_cnn1 = best_model2.predict(X_test)\n",
        "y_pred_cnn = np.argmax(y_pred_cnn1,axis = 1)\n",
        "\n",
        "Y_true = np.argmax(Y_test,axis = 1) \n",
        "score = accuracy_score(Y_true,  y_pred_cnn)\n",
        "print(\"Accuracy score: {}\".format(score))"
      ],
      "execution_count": null,
      "outputs": []
    },
    {
      "cell_type": "code",
      "metadata": {
        "id": "mFAklsp71EYV"
      },
      "source": [
        ""
      ],
      "execution_count": null,
      "outputs": []
    }
  ]
}