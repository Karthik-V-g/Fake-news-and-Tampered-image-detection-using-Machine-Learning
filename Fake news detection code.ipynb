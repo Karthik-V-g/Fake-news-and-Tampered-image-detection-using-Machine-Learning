{
  "nbformat": 4,
  "nbformat_minor": 0,
  "metadata": {
    "colab": {
      "name": "fnd.ipynb",
      "provenance": [],
      "collapsed_sections": []
    },
    "kernelspec": {
      "display_name": "Python 3",
      "language": "python",
      "name": "python3"
    },
    "language_info": {
      "codemirror_mode": {
        "name": "ipython",
        "version": 3
      },
      "file_extension": ".py",
      "mimetype": "text/x-python",
      "name": "python",
      "nbconvert_exporter": "python",
      "pygments_lexer": "ipython3",
      "version": "3.7.9"
    }
  },
  "cells": [
    {
      "cell_type": "markdown",
      "metadata": {
        "id": "P3QALcGEHmgg"
      },
      "source": [
        "# Natural Language Processing\n",
        "## Fake News Detection "
      ]
    },
    {
      "cell_type": "code",
      "metadata": {
        "colab": {
          "base_uri": "https://localhost:8080/"
        },
        "id": "ASGBDFwFHmgj",
        "outputId": "0939db10-6b85-4d59-9c6b-20d9e06b6ea7"
      },
      "source": [
        "pip install ftfy"
      ],
      "execution_count": null,
      "outputs": [
        {
          "output_type": "stream",
          "text": [
            "Collecting ftfy\n",
            "\u001b[?25l  Downloading https://files.pythonhosted.org/packages/ce/b5/5da463f9c7823e0e575e9908d004e2af4b36efa8d02d3d6dad57094fcb11/ftfy-6.0.1.tar.gz (63kB)\n",
            "\r\u001b[K     |█████▏                          | 10kB 13.0MB/s eta 0:00:01\r\u001b[K     |██████████▎                     | 20kB 11.8MB/s eta 0:00:01\r\u001b[K     |███████████████▌                | 30kB 9.3MB/s eta 0:00:01\r\u001b[K     |████████████████████▋           | 40kB 7.6MB/s eta 0:00:01\r\u001b[K     |█████████████████████████▊      | 51kB 5.0MB/s eta 0:00:01\r\u001b[K     |███████████████████████████████ | 61kB 4.9MB/s eta 0:00:01\r\u001b[K     |████████████████████████████████| 71kB 3.1MB/s \n",
            "\u001b[?25hRequirement already satisfied: wcwidth in /usr/local/lib/python3.7/dist-packages (from ftfy) (0.2.5)\n",
            "Building wheels for collected packages: ftfy\n",
            "  Building wheel for ftfy (setup.py) ... \u001b[?25l\u001b[?25hdone\n",
            "  Created wheel for ftfy: filename=ftfy-6.0.1-cp37-none-any.whl size=41573 sha256=f2bda00b393e15dd1647b75b12ed9a68a44235ce3412f1fb2fe5265b400af332\n",
            "  Stored in directory: /root/.cache/pip/wheels/ae/73/c7/9056e14b04919e5c262fe80b54133b1a88d73683d05d7ac65c\n",
            "Successfully built ftfy\n",
            "Installing collected packages: ftfy\n",
            "Successfully installed ftfy-6.0.1\n"
          ],
          "name": "stdout"
        }
      ]
    },
    {
      "cell_type": "code",
      "metadata": {
        "id": "d0jslaBoHmgk"
      },
      "source": [
        "# import libraries\n",
        "import ftfy\n",
        "import nltk\n",
        "import json\n",
        "import re\n",
        "import seaborn as sns\n",
        "import pandas as pd\n",
        "import matplotlib.pyplot as plt\n",
        "%matplotlib inline\n",
        "import pandas as pd\n",
        "import csv\n",
        "import numpy as np\n",
        "import nltk\n",
        "import seaborn as sb\n",
        "import warnings\n",
        "\n",
        "from sklearn.model_selection import train_test_split\n",
        "from sklearn.base import BaseEstimator, TransformerMixin\n",
        "from sklearn.pipeline import Pipeline, FeatureUnion\n",
        "from sklearn.feature_extraction import DictVectorizer\n",
        "from sklearn.feature_selection import SelectKBest, chi2\n",
        "from sklearn.linear_model import LogisticRegression\n",
        "from sklearn.naive_bayes import MultinomialNB\n",
        "from sklearn.model_selection import cross_validate, StratifiedKFold\n",
        "from sklearn.metrics import accuracy_score, classification_report, confusion_matrix\n",
        "from sklearn.model_selection import GridSearchCV\n",
        "from sklearn.feature_extraction.text import TfidfTransformer\n",
        "from sklearn.preprocessing import Binarizer\n",
        "\n",
        "\n",
        "from collections import Counter\n",
        "from os import listdir, makedirs\n",
        "from os.path import isfile, join, splitext, split\n",
        "\n",
        "from nltk.stem import SnowballStemmer\n",
        "from nltk.stem.porter import PorterStemmer\n",
        "from nltk.tokenize import word_tokenize\n",
        "from nltk.corpus import stopwords\n",
        "from collections import defaultdict\n",
        "from nltk.corpus import wordnet as wn\n",
        "from nltk.stem import WordNetLemmatizer\n",
        "from nltk.tokenize import word_tokenize\n",
        "from nltk import pos_tag\n",
        "#nltk.download('stopwords')\n",
        "from sklearn import metrics\n",
        "import itertools\n",
        "\n",
        "\n",
        "from wordcloud import STOPWORDS, WordCloud\n",
        "\n",
        "from sklearn.feature_extraction.text import CountVectorizer\n",
        "from sklearn.pipeline import Pipeline, FeatureUnion\n",
        "from sklearn.feature_extraction.text import TfidfVectorizer\n",
        "from sklearn.preprocessing import StandardScaler\n",
        "from sklearn.decomposition import TruncatedSVD\n",
        "from sklearn.metrics import accuracy_score, classification_report, confusion_matrix\n",
        "from sklearn.model_selection import cross_validate, StratifiedKFold\n",
        "from sklearn.naive_bayes import GaussianNB\n",
        "\n",
        "from sklearn import tree\n",
        "from sklearn.ensemble import RandomForestClassifier\n",
        "from sklearn import model_selection, naive_bayes, svm\n",
        "from sklearn.feature_extraction.text import TfidfVectorizer\n",
        "from sklearn.preprocessing import LabelEncoder\n",
        "from xgboost import XGBClassifier # need to import xboost calssifer\n",
        "\n",
        "warnings.filterwarnings('ignore')\n",
        "np.random.seed(0)"
      ],
      "execution_count": null,
      "outputs": []
    },
    {
      "cell_type": "markdown",
      "metadata": {
        "id": "pCWvu5hbHmgl"
      },
      "source": [
        "# Loading the Train Dataset\n"
      ]
    },
    {
      "cell_type": "code",
      "metadata": {
        "id": "z_xrK9I6MV21"
      },
      "source": [
        "!pip install -U -q PyDrive\n",
        "from pydrive.auth import GoogleAuth\n",
        "from pydrive.drive import GoogleDrive\n",
        "from google.colab import auth\n",
        "from oauth2client.client import GoogleCredentials\n"
      ],
      "execution_count": null,
      "outputs": []
    },
    {
      "cell_type": "code",
      "metadata": {
        "id": "yRzlGpH2Hmgm"
      },
      "source": [
        "auth.authenticate_user()\n",
        "gauth = GoogleAuth()\n",
        "gauth.credentials = GoogleCredentials.get_application_default()\n",
        "drive = GoogleDrive(gauth)\n"
      ],
      "execution_count": null,
      "outputs": []
    },
    {
      "cell_type": "code",
      "metadata": {
        "id": "qxX0p5S8M6pP"
      },
      "source": [
        "#https://drive.google.com/file/d/1uvJIi0Kdeo1xqKhRNLknCEWdWtIXvgB4/view?usp=sharing\n",
        "fileDownloaded = drive.CreateFile({'id':'1uvJIi0Kdeo1xqKhRNLknCEWdWtIXvgB4'})"
      ],
      "execution_count": null,
      "outputs": []
    },
    {
      "cell_type": "code",
      "metadata": {
        "colab": {
          "base_uri": "https://localhost:8080/"
        },
        "id": "vhqWwJ01NqhB",
        "outputId": "4d22c983-6e7e-4f93-bc90-99472e87af60"
      },
      "source": [
        "from google.colab import drive\n",
        "drive.mount('/content/gdrive')"
      ],
      "execution_count": null,
      "outputs": [
        {
          "output_type": "stream",
          "text": [
            "Mounted at /content/gdrive\n"
          ],
          "name": "stdout"
        }
      ]
    },
    {
      "cell_type": "code",
      "metadata": {
        "id": "0jZYbDIlNn2t"
      },
      "source": [
        "fileDownloaded.GetContentFile('train.csv')"
      ],
      "execution_count": null,
      "outputs": []
    },
    {
      "cell_type": "code",
      "metadata": {
        "colab": {
          "base_uri": "https://localhost:8080/"
        },
        "id": "XLh9_5xNKjvf",
        "outputId": "cece65a6-0739-4117-889b-b791cdf350e7"
      },
      "source": [
        "import nltk\n",
        "nltk.download('stopwords')"
      ],
      "execution_count": null,
      "outputs": [
        {
          "output_type": "stream",
          "text": [
            "[nltk_data] Downloading package stopwords to /root/nltk_data...\n",
            "[nltk_data]   Package stopwords is already up-to-date!\n"
          ],
          "name": "stdout"
        },
        {
          "output_type": "execute_result",
          "data": {
            "text/plain": [
              "True"
            ]
          },
          "metadata": {
            "tags": []
          },
          "execution_count": 62
        }
      ]
    },
    {
      "cell_type": "code",
      "metadata": {
        "colab": {
          "base_uri": "https://localhost:8080/",
          "height": 194
        },
        "id": "NsLG235WNuXs",
        "outputId": "e0299651-41bd-44a8-f762-9dab87bb3a35"
      },
      "source": [
        "import pandas as pd\n",
        "df_rraw= pd.read_csv('train.csv' )\n",
        "\n",
        "df_rraw.head()\n"
      ],
      "execution_count": null,
      "outputs": [
        {
          "output_type": "execute_result",
          "data": {
            "text/html": [
              "<div>\n",
              "<style scoped>\n",
              "    .dataframe tbody tr th:only-of-type {\n",
              "        vertical-align: middle;\n",
              "    }\n",
              "\n",
              "    .dataframe tbody tr th {\n",
              "        vertical-align: top;\n",
              "    }\n",
              "\n",
              "    .dataframe thead th {\n",
              "        text-align: right;\n",
              "    }\n",
              "</style>\n",
              "<table border=\"1\" class=\"dataframe\">\n",
              "  <thead>\n",
              "    <tr style=\"text-align: right;\">\n",
              "      <th></th>\n",
              "      <th>id</th>\n",
              "      <th>title</th>\n",
              "      <th>author</th>\n",
              "      <th>text</th>\n",
              "      <th>label</th>\n",
              "    </tr>\n",
              "  </thead>\n",
              "  <tbody>\n",
              "    <tr>\n",
              "      <th>0</th>\n",
              "      <td>0</td>\n",
              "      <td>House Dem Aide: We Didn’t Even See Comey’s Let...</td>\n",
              "      <td>Darrell Lucus</td>\n",
              "      <td>House Dem Aide: We Didn’t Even See Comey’s Let...</td>\n",
              "      <td>1</td>\n",
              "    </tr>\n",
              "    <tr>\n",
              "      <th>1</th>\n",
              "      <td>1</td>\n",
              "      <td>FLYNN: Hillary Clinton, Big Woman on Campus - ...</td>\n",
              "      <td>Daniel J. Flynn</td>\n",
              "      <td>Ever get the feeling your life circles the rou...</td>\n",
              "      <td>0</td>\n",
              "    </tr>\n",
              "    <tr>\n",
              "      <th>2</th>\n",
              "      <td>2</td>\n",
              "      <td>Why the Truth Might Get You Fired</td>\n",
              "      <td>Consortiumnews.com</td>\n",
              "      <td>Why the Truth Might Get You Fired October 29, ...</td>\n",
              "      <td>1</td>\n",
              "    </tr>\n",
              "    <tr>\n",
              "      <th>3</th>\n",
              "      <td>3</td>\n",
              "      <td>15 Civilians Killed In Single US Airstrike Hav...</td>\n",
              "      <td>Jessica Purkiss</td>\n",
              "      <td>Videos 15 Civilians Killed In Single US Airstr...</td>\n",
              "      <td>1</td>\n",
              "    </tr>\n",
              "    <tr>\n",
              "      <th>4</th>\n",
              "      <td>4</td>\n",
              "      <td>Iranian woman jailed for fictional unpublished...</td>\n",
              "      <td>Howard Portnoy</td>\n",
              "      <td>Print \\nAn Iranian woman has been sentenced to...</td>\n",
              "      <td>1</td>\n",
              "    </tr>\n",
              "  </tbody>\n",
              "</table>\n",
              "</div>"
            ],
            "text/plain": [
              "   id  ... label\n",
              "0   0  ...     1\n",
              "1   1  ...     0\n",
              "2   2  ...     1\n",
              "3   3  ...     1\n",
              "4   4  ...     1\n",
              "\n",
              "[5 rows x 5 columns]"
            ]
          },
          "metadata": {
            "tags": []
          },
          "execution_count": 84
        }
      ]
    },
    {
      "cell_type": "code",
      "metadata": {
        "colab": {
          "base_uri": "https://localhost:8080/"
        },
        "id": "b8p-W0mrHmgn",
        "outputId": "c8e67fe2-6206-485b-e837-431c8c0f0a95"
      },
      "source": [
        "# The file contains 5 columns\n",
        "df_rraw.shape\n",
        "df_raw=df_rraw.dropna()\n",
        "print(df_raw.shape)\n",
        "df_raw=df_raw.reset_index()\n",
        "\n",
        "df_raw1 =df_raw[df_raw['label']==0].iloc[0:1300,:]\n",
        "df_raw2 =df_raw[df_raw['label']==1].iloc[0:1700,:]\n",
        "df_raw=pd.concat([df_raw1,df_raw2],ignore_index=True)\n",
        "df_raw = df_raw.sample(frac=1).reset_index(drop=True)\n",
        "df_raw.drop(['index','id','title','author'],axis='columns', inplace=True)\n",
        "df_raw.shape"
      ],
      "execution_count": null,
      "outputs": [
        {
          "output_type": "stream",
          "text": [
            "(18285, 5)\n"
          ],
          "name": "stdout"
        },
        {
          "output_type": "execute_result",
          "data": {
            "text/plain": [
              "(3000, 2)"
            ]
          },
          "metadata": {
            "tags": []
          },
          "execution_count": 85
        }
      ]
    },
    {
      "cell_type": "code",
      "metadata": {
        "colab": {
          "base_uri": "https://localhost:8080/",
          "height": 340
        },
        "id": "wWTXKTZxHmgn",
        "outputId": "737794a7-74e1-4ccd-fd45-7edb9ed85fed"
      },
      "source": [
        "df_raw.head(10)"
      ],
      "execution_count": null,
      "outputs": [
        {
          "output_type": "execute_result",
          "data": {
            "text/html": [
              "<div>\n",
              "<style scoped>\n",
              "    .dataframe tbody tr th:only-of-type {\n",
              "        vertical-align: middle;\n",
              "    }\n",
              "\n",
              "    .dataframe tbody tr th {\n",
              "        vertical-align: top;\n",
              "    }\n",
              "\n",
              "    .dataframe thead th {\n",
              "        text-align: right;\n",
              "    }\n",
              "</style>\n",
              "<table border=\"1\" class=\"dataframe\">\n",
              "  <thead>\n",
              "    <tr style=\"text-align: right;\">\n",
              "      <th></th>\n",
              "      <th>text</th>\n",
              "      <th>label</th>\n",
              "    </tr>\n",
              "  </thead>\n",
              "  <tbody>\n",
              "    <tr>\n",
              "      <th>0</th>\n",
              "      <td>President Donald Trump signaled his support fo...</td>\n",
              "      <td>0</td>\n",
              "    </tr>\n",
              "    <tr>\n",
              "      <th>1</th>\n",
              "      <td>Trump and Brexit Defeat Globalism, for Now Any...</td>\n",
              "      <td>1</td>\n",
              "    </tr>\n",
              "    <tr>\n",
              "      <th>2</th>\n",
              "      <td>NASA is getting new looks at Jupiter, from clo...</td>\n",
              "      <td>0</td>\n",
              "    </tr>\n",
              "    <tr>\n",
              "      <th>3</th>\n",
              "      <td>(Before It's News)\\nAs advanced as our Job Pos...</td>\n",
              "      <td>1</td>\n",
              "    </tr>\n",
              "    <tr>\n",
              "      <th>4</th>\n",
              "      <td>In my timeline it was Michael Barage, Rump and...</td>\n",
              "      <td>1</td>\n",
              "    </tr>\n",
              "    <tr>\n",
              "      <th>5</th>\n",
              "      <td>In the tech business, you often invent the pro...</td>\n",
              "      <td>0</td>\n",
              "    </tr>\n",
              "    <tr>\n",
              "      <th>6</th>\n",
              "      <td>WASHINGTON  —   Navy SEALs led an unsuccessful...</td>\n",
              "      <td>0</td>\n",
              "    </tr>\n",
              "    <tr>\n",
              "      <th>7</th>\n",
              "      <td>“Be ye therefore perfect . . . even as your Fa...</td>\n",
              "      <td>1</td>\n",
              "    </tr>\n",
              "    <tr>\n",
              "      <th>8</th>\n",
              "      <td></td>\n",
              "      <td>1</td>\n",
              "    </tr>\n",
              "    <tr>\n",
              "      <th>9</th>\n",
              "      <td>Images reveal crashed Schiaparelli Mars lander...</td>\n",
              "      <td>1</td>\n",
              "    </tr>\n",
              "  </tbody>\n",
              "</table>\n",
              "</div>"
            ],
            "text/plain": [
              "                                                text  label\n",
              "0  President Donald Trump signaled his support fo...      0\n",
              "1  Trump and Brexit Defeat Globalism, for Now Any...      1\n",
              "2  NASA is getting new looks at Jupiter, from clo...      0\n",
              "3  (Before It's News)\\nAs advanced as our Job Pos...      1\n",
              "4  In my timeline it was Michael Barage, Rump and...      1\n",
              "5  In the tech business, you often invent the pro...      0\n",
              "6  WASHINGTON  —   Navy SEALs led an unsuccessful...      0\n",
              "7  “Be ye therefore perfect . . . even as your Fa...      1\n",
              "8                                                         1\n",
              "9  Images reveal crashed Schiaparelli Mars lander...      1"
            ]
          },
          "metadata": {
            "tags": []
          },
          "execution_count": 86
        }
      ]
    },
    {
      "cell_type": "code",
      "metadata": {
        "colab": {
          "base_uri": "https://localhost:8080/"
        },
        "id": "vig7ZDaSHmgo",
        "outputId": "c3b3b17f-3edd-40b5-cd12-fba60b754651"
      },
      "source": [
        "# some of the statements\n",
        "df_raw['text'].head(10).tolist()"
      ],
      "execution_count": null,
      "outputs": [
        {
          "output_type": "execute_result",
          "data": {
            "text/plain": [
              "['President Donald Trump signaled his support for   activists attending the March for Life on Friday. [“The #MarchForLife is so important,” he wrote on Twitter. “To all of you marching  —   you have my full support!”  The President confirmed that Vice President Mike Pence will speak at the   event. According to organizers, Pence is speaking around noon. Trump set big expectations for the March for Life during an interview with ABC’s David Muir when asked to compare possible crowd size to that of last week’s Women’s March on Washington: “You will have a large crowd on Friday, too, which is mostly   people, too, and I didn’t realize this, but I was told. You will have a very large crowd of people —  as large or larger, Trump said. Some people said it will be larger —    people, and they say the press doesn’t cover them.',\n",
              " 'Trump and Brexit Defeat Globalism, for Now Anyway   14, 2016 \\nTrumpism as a stress test for democracy …. A series of populist anti-globalism shocks is a test for Western democracies. Trump’s stunning ascent to the White House is the clearest signal yet of an anti-establishment revolt unfolding in major democracies, stretching across the Atlantic. – Swiss Info Tech \\nWas Trump’s victory actually created by the very globalist elites that Trump is supposed to have overcome? \\nThere are some who believe the elites are actually splintered into numerous groups and that domestic US elites have positioned themselves against the banking elites in London’s City. We see no fundamental evidence of this. \\nThe world’s real elites in our view may have substantive histories in the hundreds and thousands of years. US elites are basically in the employ of a handful of families, individuals and institutions in our view. \\nIt is confusing because it is hard to tell if Hillary, for instance, is operating on her own accord or at the behest of higher and more powerful authorities. \\nIt is probably a combination of both but at root those who control central banks are managing the world’s move towards globalism. History easily shows us who these groups are – and they are not located in America. \\nThis is a cynical perspective to be sure, and certainly doesn’t remove the impact of Trump’s victory or his courage in waging his election campaign despite what must surely be death threats to himself and his family.. \\nBut if true, this perspective corresponds to predictions that we’ve been making for nearly a decade now, suggesting that sooner or later elites – especially those in London’s City – would have to “take a step back.” \\nMore: \\nThe vote to propel Trump to the US presidency reflects a profound backlash against open markets and borders, and the simmering anger of millions of blue-collar white and working-class people who blame their economic woes on globalisation and multiculturalism. \\n“There are a few parallels to Switzerland – that the losers of globalisation find somebody who is listening to them,” said Swiss professor and lawyer Wolf Linder, a former director of the University of Bern’s political science institute. \\n“Trump is doing his business with the losers of globalisation in the US, like the Swiss People’s Party is doing in Switzerland,” he said. “It is a phenomenon which touches all European nations.” \\nAgain, this article presumes that Trump has “won” and that he intends to attack the larger globalist enterprise and the bankers funding it. On the other hand, it could be that both Trump and Brexit have been engineered to look as if the tide is turning against globalism when it is not. \\nWhy would those in charge want to portray this point of view when it may not be so? Because of what we call the “Internet Reformation” that has blasted open the secretive manipulations of the globalist elite in the past decade or so. \\nIt is almost impossible for globalists to promote internationalist memes in this environment. Yet it is the secretive injection of internationalist memes into the body politic that moves society toward the globalist enterprise. \\nAs we have suggested before, it is perfectly possible that a decision has been made to pretend to grant the larger society a “victory” over internationalism. \\nFollowing this analysis, certain trends would be identified and encouraged that would seem to portray globalism as falling back on its metaphorical heels. \\nIn truth, if this analysis is correct, globalism’s retreat is a kind of pretense that will steer society less obviously in a globalist direction. \\nOne way this could happen is by ensuring the splintering of Europe – but not in a way that actually reduces control from Brussels. It will APPEAR to be so but won’t actually happen. The same thing could take place in the USA under Trump. \\nAgain, this is not to say that Trump is party to this plot or even approves of it. But the idea that Trump is part of a co-option is certainly a feasible alternative to an alternative analysis that takes what is happening at face value. \\nNonetheless, even if an alternative elite strategy has been decided on to realize globalism in another fashion, it ought to be pointed out that things have changed. And the Internet and its revelations are surely responsible. \\nThis is a very big deal and it is one that ought to be emphasized repeatedly. Brexit and Trump could be, somehow, the result of a different elite approach – but the approach HAS changed nonetheless. \\nThink of it this way: Hillary represented the blunt approach toward the realization of further globalism. Her way included an aggressively expanded war and the pursuit of other globalist trends. \\nTrump, rhetorically anyway, has a different approach in mind that would gut many internationalist trends. \\nIf Trump follows through on his rhetoric, the trend toward an internationalist world will be reduced. And while there is controversy over Trump’s recent staff appointments we should also bear in mind that the Trans Pacific Partnership (TPP) and the Transatlantic Trade and Investment Partnership (TTIP) both seem to be failing now. \\nIf indeed Trump’s election has damped the progress of TPP, and TTIP, this is a huge event. As we’ve pointed out, both agreements effectively substituted technocratic corporatism for the current sociopolitical model of “democracy.” \\nThe elites were trying to move toward a new model of world control with these two agreements. This is similar to what happened after the advent of the Gutenberg Press when the elites of the day moved away from royal control and apparently swapped in democracy. \\nIt seems evident that internationalism is now going to take a longer time to realize than we thought. However, this observation may not be entirely accurate if Trump turns out to be something other than his rhetoric suggests – or if Brexit is denied in Europe. \\nAdditionally, one of the elite’s most powerful, operative memes today is “populism vs. globalism” that seeks to contrast the potentially freedom-oriented events of Trump and Brexit to the discarded wisdom of globalism. See here and here. \\nThe reality of these two events, the victories of both Trump and Brexit, stand as signal proof that elite stratagems have been defeated, at least temporarily. Though whether these defeats have been self-inflicted as part of a change in tactics remains to be seen. \\nConclusion: But the change has come. One way or another the Internet and tens of millions or people talking, writing and acting has forced new trends. This can be hardly be emphasized enough. Globalism has been at least temporarily redirected',\n",
              " 'NASA is getting new looks at Jupiter, from close up and far away. Its Juno spacecraft made its fifth      dive of Jupiter on March 27, its eight instruments gathering data on the planet’s interior as it accelerated to 129, 000 miles per hour. On each flyby, the public nominates and then votes on the atmospheric features Juno’s camera should record. This time, one of the winning targets was a boundary between two atmospheric regions. The bluish streak on the right is part of a persistent storm. Juno snapped this image 7, 900 miles from the planet. This week, NASA released an image of Jupiter taken by the Hubble Space Telescope, which is in orbit around Earth. The distance, 415 million miles, is the closest that Earth gets to Jupiter, which makes it a good time for Hubble to perform a    survey of the solar system’s largest planet. The space telescope is able to discern features on Jupiter as small as 80 miles across. “We can map out the full planet,” said Amy A. Simon, an astronomer at the Goddard Space Flight Center in Greenbelt, Md. who led the observations. “On a first glance, the Great Red Spot is still strikingly colored. It stands out quite well. ” Dr. Simon said that Jupiter’s atmosphere appears to be more turbulent than in the past couple of years. “That’s telling us something about the deeper atmosphere,” she said. “We’re going to be analyzing this over the next few months. ” Because the Hubble observations roughly coincided with Juno’s flyby, scientists will be able to match the   with a wider view of the planet. “We could do a    there and help out Juno at the same time,” Dr. Simon said.',\n",
              " \"(Before It's News)\\nAs advanced as our Job Posting Analytics have become—including the ability to filter by keyword search, employer, region, title, skill, or certification—there’s something that no filter or datapoint can replace: viewing the actual job posting.\\nNow within Job Posting Analytics reports in Analyst and Developer , users can view the full text of the most relevant and recent job postings tailored to their search.\\nNot only will the viewable postings be filtered by the selected variables, but the keyword searched will also be highlighted in the full posting text. This extra detail makes it even easier to analyze how employers are asking for certain credentials.\\nWith the quick addition of new filters, the postings displayed can be narrowed from all in New York, to all in New York that mention “javascript,” to all in New York that mention “javascript” from Oracle Corporation.\\nThe real power of this new functionality is in the context it provides. Now, users can step into the shoes of the employer and understand exactly what kind of talent they’re seeking in prospective candidates. We’re thrilled to see how this new functionality will empower users to better align programs with employer needs, identify emerging skills and occupations, and more.\\nOver the next few weeks, our development team will be working to increase the number of viewable postings from five to at least 50.\\nThe post Now Live: View Full Text of Job Postings appeared first on Emsi .\",\n",
              " 'In my timeline it was Michael Barage, Rump and Billary Mandella Mail with questions or comments about this site. \"Godlike Productions\" & \"GLP\" are registered trademarks of Zero Point Ltd. Godlike™ Website Design Copyright © 1999 - 2015 Godlikeproductions.com Page generated in 0.004s (8 queries)',\n",
              " 'In the tech business, you often invent the product first and find out what it’s for later. Facebook was a college social site before it became a global media hub Amazon was a bookseller before it was, well, everything. Likewise with AMC’s “Halt and Catch Fire,” set in the 1980s at the advent of the   revolution. When the series began two years ago, it was another   chasing a trend  —   in this case, the   antihero. Joe MacMillan (Lee Pace) a mysterious,   drifter of a businessman, was paired with Gordon Clark (Scoot McNairy) a brilliant but failed engineer, in a sketchy scheme to bring an IBM clone to market. As a plot, it was less than inspiring, and as a character story, less than inspired: an   Don Draper and a Walter White who dealt in megabytes rather than meth. But at the end of its first season, “Halt” did something almost   in television, if not in tech: It upended its entire project. With the introduction of the Apple Macintosh, Joe and Gordon discovered that they had been chasing yesterday’s dream. They were thinking too small, too incrementally. The quest of the entire season had been a failure of imagination. And “Halt” would have been as well, had it not rebooted  itself. The outstanding second season latched on to a much more powerful idea. The 1980s, it said, were not the decade of a mechanical revolution but a cultural one. The headlines then were about computing power coming to your desktop. But the   change, barely glimmering in the days of telephone modems, lay in the connection of every desktop to every other. It was the birth of the social internet, where we now live. Season 2 followed Mutiny, a nascent online gaming company started by Gordon’s wife, Donna (Kerry Bishé) and Cameron Howe (Mackenzie Davis) an impassioned sparkplug of a programmer. For all practical purposes, the series changed not just its focus but its lead characters. Cameron was visionary but impractical Donna relished the new start but chafed at being forced into the role of the buzz kill adult in the room. (Ms. Bishé gave a nuanced, undersung performance.) This was something we hadn’t seen so often before: a tricky but fruitful alliance between two women in a   industry. Cameron had the digital native’s instinct to see the online world as a place of constant invention. Donna had the emotional intelligence to notice that Mutiny’s social component  —   its chat rooms  —   was the future of the future. Season 3, which begins on Tuesday, continues the show’s   process, picking up in 1986, as Mutiny has relocated from Texas to Silicon Valley and is beginning to reconceive itself one more time. (Cameron and Donna have noticed their gamers’ taking over Mutiny chat to negotiate   trades  —   shades of Craigslist or eBay.) The growing pains continue, throwing the women into the unfamiliar and   world of venture capitalists. “It only takes one of them to ask you to the dance,” says their consigliere, John Bosworth (Toby Huss). Cameron replies, “I love how even the metaphors in this business are sexist. ” They find a possible ally in Diane (Annabeth Gish) a sympathetic but bluntly honest investor. Gordon has come along in tow, feeling at loose ends in a managerial role at Mutiny. The chameleonic Joe, meanwhile, has landed in California as the head of a   firm, sporting a Steve Jobsian beard and speaking in pretentious koans. (“I’ve been accused of selling fear,” he tells a rapt audience. “But let me ask you: Is it fear or is it truth? ”) Joe’s   as a smug tech guru suits Mr. Pace, a striking but peculiar presence whom the show has struggled to use effectively. (He was well cast in the “Hobbit” movies as the frosty,   elven king Thranduil.) He seems fully at home now, strutting around his office listening to Gary Numan music, carrying himself like a human Patrick Nagel print. Joe 3. 0 is also a prelude to the fatuous moguls of HBO’s “Silicon Valley,” to which “Halt” is a temporal and tonal bookend. Where “Silicon Valley” is a gleeful satire about business people feigning idealism  —   all that   about changing the world  —   “Halt” is an empathetic drama about idealists trying to fake their way into business. The new season begins to give you some sense of how we got from there to here. We see the same scrambles to get   advantage, the pilgrimages up and down Sand Hill Road seeking venture capital. But where “Silicon Valley” trades in decacorns (  valued at over $10 billion) it’s jarring in “Halt” to see deals done for six figures  —   not even Dr. Evil money. The new season takes time to reset, and the movement in the early episodes is slow. The character dynamics are solid, though, and the ’80s details continue to be spot on. (At a fancy Valley restaurant, Donna stumbles over the pronunciation of a trendy new dish: risotto.) But any   period piece can recreate bygone days. “Halt” lets you see them as the cusp of bracing change. The real product in its tech business isn’t hardware or software  —   it’s tomorrow, and “Halt and Catch Fire” makes its past future feel dewy and new.',\n",
              " 'WASHINGTON  —   Navy SEALs led an unsuccessful raid last month to free an American university professor and his Australian colleague who are being held by the Taliban, engaging in a fierce gun battle with dozens of insurgents at a remote compound in the mountains of eastern Afghanistan, American officials said Thursday. The officials said the rescue mission began in the days after the professors, Kevin King, the American, and Timothy Weeks, the Australian, were taken at gunpoint on Aug. 7 from their vehicle in Kabul near the campus of the American University of Afghanistan, where they teach. The officials said the group of SEAL members, backed by Army Rangers, are believed to have missed the men by hours. The Pentagon confirmed in a statement that a raid had occurred to rescue two civilians but said that “the hostages were not at the location we suspected. ” No Americans were killed, but “a number” of insurgents were, it said. On Thursday, Taliban fighters were on the verge of overrunning Tirin Kot, the capital of Oruzgan Province in the south, Afghan officials and local elders said. Dost Mohammad Nayab, a spokesman for the governor of Oruzgan, said that all security posts around the city had been overrun by the Taliban and that the insurgents had started firing on the Police Headquarters and the governor’s compound. “The security forces are engaged with the Taliban inside the city, and fighting is ongoing,” Mr. Nayab said. By late afternoon, however, Mr. Nayab said the situation had improved after NATO airstrikes began targeting Taliban positions. In addition, Gen. Abdul Raziq, the powerful police chief of neighboring Kandahar Province, had arrived with other reinforcements, and the central government had tasked him with leading the cleanup operation, a spokesman for General Raziq said. The SEAL raid, which was first reported by Fox News, was authorized by President Obama, the Pentagon said. “In order to protect the safety of hostages and operational security,” its statement did not specify whom exactly the SEAL members were seeking to rescue or provide any more details about the raid. But days after the professors were abducted in August, the university put out a statement naming the two men and saying they were teaching English to prepare Afghan students to study abroad. The Obama administration has not shied away from launching risky rescue raids, but the record has been mixed. The best known is perhaps the raid by SEALs in 2009 to free a cargo ship captain, Richard Phillips, from Somali pirates, an episode that was made into a movie starring Tom Hanks. In 2012, SEALs freed an American aid worker and her Danish colleague from Somali pirates. But a military raid in July 2014 to free several American and Western hostages held by the Islamic State in Syria failed because the captives had already been moved. That same year, militants from Al Qaeda’s affiliate in Yemen killed an American man and a South African after Special Operations forces tried to free them. The raid in August targeted a Taliban faction known as the Haqqani network. The Haqqanis are among the Taliban’s most capable and violent factions. They have held a number of   Western captives over the years, including Sgt. Bowe Bergdahl, who was freed in 2014 in a prisoner swap with the United States. The Haqqanis sit atop the Taliban’s lucrative business of kidnapping Westerners and prominent Afghans, most of whom are held for ransom. The kidnappings are usually carried out by   insurgent factions or criminal gangs, who then sell the victims to the Haqqanis. Captives are usually then moved into the Haqqanis’ strongholds in the tribal areas of Pakistan. Once in Pakistan, the hostages are essentially beyond the reach of American and European forces, which can operate across Afghanistan but cannot legally launch raids inside Pakistan. Knowing this, insurgents try to move hostages across the border as quickly as possible, and American and European forces typically scramble in the immediate aftermath of an abduction to rescue the victims before they can be spirited out of Afghanistan. That appears to have been the case in the raid to free the professors, though officials did not say whether they believed that the men were still in Afghanistan or had been moved to Pakistan. Among the Westerners who are still believed to be held by the Haqqanis in Pakistan are a couple who have had two children since they were abducted in 2012. The insurgents released a video of the couple last week, threatening to kill the entire family if the Afghan government executed a senior Haqqani figure it was holding and had recently sentenced to death. The husband, Joshua Boyle, 33, a Canadian, and the wife, Caitlan Coleman, 30, an American, were kidnapped in an area dominated by insurgents in Wardak Province, south of Kabul. Ms. Coleman was pregnant with her first child at the time, officials said. In the video, Mr. Boyle said he had heard reports that the Afghan government was executing Taliban prisoners. “Our captors are terrified of the thought of their own mortality approaching and are saying that they will take reprisals on our family,” he said, according to a transcript of the video released by the SITE Intelligence Group. Ms. Coleman added, “They are willing to kill us, willing to kill women, to kill children, to kill whomever” to end the executions of Taliban prisoners by the Afghan government. She asked the United States to “do anything to change the policies of the Afghan government to stop their policy of executing men. ” A    American from Massachusetts who disappeared in 2014 is believed to be held by the Haqqanis and remains unaccounted for. Last year, the Obama administration overhauled efforts to free Americans held overseas, creating the Hostage Recovery Fusion Cell, led by the F. B. I. It took that step after facing intense criticism for failing to do enough to save the Americans who were taken hostage in Syria and later killed by the Islamic State.',\n",
              " '“Be ye therefore perfect . . . even as your Father which is in heaven is perfect.” \\nLet’s compare Christ with the perfected Sufi. First, what are Christ’s teachings on the attainment of perfection? \\nAlmost everyone is familiar with Jesus’ teachings in the Sermon on the Mount. We have all heard of the Master’s injunction to his disciples: “Love thine enemy” and “Turn the other cheek.” These verses from the Gospel of St Matthew are perhaps the most quoted verses in the New Testament: \\n“Ye have heard that it hath been said, An eye for an eye, and a tooth for a tooth: \\nBut I say unto you, That ye resist not evil: but whosoever shall smite thee on thy right cheek, turn to him the other also. \\nAnd if any man will sue thee at the law, and take away thy coat, let him have thy cloke also. \\nAnd whosoever shall compel thee to go a mile, go with him twain. \\nGive to him that asketh thee, and from him that would borrow of thee turn not thou away. \\nYe have heard that it hath been said, Thou shalt love thy neighbour, and hate thine enemy. \\nBut I say unto you, Love your enemies, bless them that curse you, do good to them that hate you, and pray for them which despitefully use you, and persecute you: \\nYe have heard that it hath been said, An eye for an eye, and a tooth for a tooth: \\nBut I say unto you, That ye resist not evil: but whosoever shall smite thee on thy right cheek, turn to him the other also. \\nAnd if any man will sue thee at the law, and take away thy coat, let him have thy cloke also. \\nAnd whosoever shall compel thee to go a mile, go with him twain. \\nGive to him that asketh thee, and from him that would borrow of thee turn not thou away. \\nYe have heard that it hath been said, Thou shalt love thy neighbour, and hate thine enemy. \\nBut I say unto you, Love your enemies, bless them that curse you, do good to them that hate you, and pray for them which despitefully use you, and persecute you; \\nThat ye may be the children of your Father which is in heaven: for he maketh his sun to rise on the evil and on the good, and sendeth rain on the just and on the unjust. \\nFor if ye love them which love you, what reward have ye? do not even the publicans the same? \\nAnd if ye salute your brethren only, what do ye more than others ? do not even the publicans so? \\nBe ye therefore perfect, even as your Father which is in heaven is perfect. \\n(Matt. 5:38-48) \\nHere is a sufi story that addresses the very same concept, but in a different manner; that of strength as opposed to what is typically perceived as weakness. Don’t just read the story, reflect on it, extend it out in your mind and see where it takes you. In that search, you will discover issues within yourself that must be addressed. \\nThere once was a sufi master who was a soldier. \\nDuring a protracted war, he was at one point engaged in fierce, mortal combat. In the thick of furious battle, he finally overcame a vicious, determined foe. Besting the enemy and driving him to ground, the sufi closed in for the kill. \\nAt the very moment he was about to deliver a fatal thrust of his sword to the neck of his prostrate enemy, his foe cried out in anguish, “Ah, If only I had your sword for a single moment, how different things would be!” \\nAt once the sufi stopped his attack and surrendered his sword to his fallen enemy. \\nThe soldier was dumbfounded. \\nTaking the sword from the sufi, he said: “Why did you do this? You could have killed me! I was lost, and now you stop and present me with your sword! Why would you do such a stupid thing? — for it is now I who will kill you! ” \\nThe sufi shrugged. “I come from a family that grants any request, no matter how great,” he replied cooly. “You asked for my sword. I am honor bound to fulfill your request.” \\nThe fallen soldier rose, and recognizing the sufi as a perfected master, returned his sword to him. Falling at the feet of the man who had just spared his life, he asked to become his disciple. \\nFrom that day forth, he followed the sufi as his master. Like this? Share it now.',\n",
              " ' ',\n",
              " \"Images reveal crashed Schiaparelli Mars lander page: 1 link We knew as time passed that Schiaparelli had failed in its mission to become ESA's first working lab on mars , now the efforts of ESA to locate their missing lander have provided the proof that Schiaparelli crashed on Mars , as suggested by the data returned before the event. If at first you don't succeed Looks like an impact crater to me. Mars succès rate is all told about 50%? originally posted by: gortex the efforts of ESA to locate their missing lander have provided the proof that Schiaparelli crashed on Mars R.I.P Schiaparelli, you never even got a chance to reveal some of the secrets of Mars. Okay, we're on a conspiracy site, i'll say it... Looks like an impact crater to me. Schiaparelli's impact. NASA have a good success rate landing on Mars probably due to them being well funded , in comparison ESA don't seem to have all of their ducks in a line to be able to take the next step. Shame really as we are going looking for life where NASA seems content to look for the conditions that would have allowed life to start. originally posted by: gortex NASA have a good success rate landing on Mars probably due to them being well funded , Shame really as we are going looking for life where NASA seems content to look for the conditions that would have allowed life to start. Nasa does have a good success rate, Curiosity's wacky landing putting the cream on the cake, since it obviously worked. Ihave to say though it's kind of weird that there were two failed events. The chute, then the rocket in the next sequence one aiding the other sort of, (I'm assuming that the rockets would have fired in a controlled fashion but then cut off prematurely) edit on 27-10-2016 by smurfy because: Text.\"]"
            ]
          },
          "metadata": {
            "tags": []
          },
          "execution_count": 87
        }
      ]
    },
    {
      "cell_type": "markdown",
      "metadata": {
        "id": "gioa1Dw7Hmgo"
      },
      "source": [
        "# Exploratory Data Analysis"
      ]
    },
    {
      "cell_type": "code",
      "metadata": {
        "colab": {
          "base_uri": "https://localhost:8080/",
          "height": 313
        },
        "id": "sbmdxoijHmgp",
        "outputId": "3d22ba87-3759-487b-8355-ea529a1bc06b"
      },
      "source": [
        "sns.countplot(x='label',data=df_raw)\n",
        "\n",
        "plt.title('Types & Number of Classes in the dataset')"
      ],
      "execution_count": null,
      "outputs": [
        {
          "output_type": "execute_result",
          "data": {
            "text/plain": [
              "Text(0.5, 1.0, 'Types & Number of Classes in the dataset')"
            ]
          },
          "metadata": {
            "tags": []
          },
          "execution_count": 88
        },
        {
          "output_type": "display_data",
          "data": {
            "image/png": "[encoded data removed]",
            "text/plain": [
              "<Figure size 432x288 with 1 Axes>"
            ]
          },
          "metadata": {
            "tags": [],
            "needs_background": "light"
          }
        }
      ]
    },
    {
      "cell_type": "code",
      "metadata": {
        "colab": {
          "base_uri": "https://localhost:8080/",
          "height": 194
        },
        "id": "TE1fnmUdM7vb",
        "outputId": "840d97d9-5767-446a-d873-6c9f5fd77957"
      },
      "source": [
        "df_raw.head()"
      ],
      "execution_count": null,
      "outputs": [
        {
          "output_type": "execute_result",
          "data": {
            "text/html": [
              "<div>\n",
              "<style scoped>\n",
              "    .dataframe tbody tr th:only-of-type {\n",
              "        vertical-align: middle;\n",
              "    }\n",
              "\n",
              "    .dataframe tbody tr th {\n",
              "        vertical-align: top;\n",
              "    }\n",
              "\n",
              "    .dataframe thead th {\n",
              "        text-align: right;\n",
              "    }\n",
              "</style>\n",
              "<table border=\"1\" class=\"dataframe\">\n",
              "  <thead>\n",
              "    <tr style=\"text-align: right;\">\n",
              "      <th></th>\n",
              "      <th>text</th>\n",
              "      <th>label</th>\n",
              "    </tr>\n",
              "  </thead>\n",
              "  <tbody>\n",
              "    <tr>\n",
              "      <th>0</th>\n",
              "      <td>President Donald Trump signaled his support fo...</td>\n",
              "      <td>0</td>\n",
              "    </tr>\n",
              "    <tr>\n",
              "      <th>1</th>\n",
              "      <td>Trump and Brexit Defeat Globalism, for Now Any...</td>\n",
              "      <td>1</td>\n",
              "    </tr>\n",
              "    <tr>\n",
              "      <th>2</th>\n",
              "      <td>NASA is getting new looks at Jupiter, from clo...</td>\n",
              "      <td>0</td>\n",
              "    </tr>\n",
              "    <tr>\n",
              "      <th>3</th>\n",
              "      <td>(Before It's News)\\nAs advanced as our Job Pos...</td>\n",
              "      <td>1</td>\n",
              "    </tr>\n",
              "    <tr>\n",
              "      <th>4</th>\n",
              "      <td>In my timeline it was Michael Barage, Rump and...</td>\n",
              "      <td>1</td>\n",
              "    </tr>\n",
              "  </tbody>\n",
              "</table>\n",
              "</div>"
            ],
            "text/plain": [
              "                                                text  label\n",
              "0  President Donald Trump signaled his support fo...      0\n",
              "1  Trump and Brexit Defeat Globalism, for Now Any...      1\n",
              "2  NASA is getting new looks at Jupiter, from clo...      0\n",
              "3  (Before It's News)\\nAs advanced as our Job Pos...      1\n",
              "4  In my timeline it was Michael Barage, Rump and...      1"
            ]
          },
          "metadata": {
            "tags": []
          },
          "execution_count": 138
        }
      ]
    },
    {
      "cell_type": "code",
      "metadata": {
        "id": "H12LDKmGHmgp"
      },
      "source": [
        "def binary_class_dataset(data):\n",
        "    \n",
        "    data=data.iloc[:,[0,1]]\n",
        "    data.columns = ['text','label']\n",
        "    Original_labels = {\n",
        "        1: 'Fake',\n",
        "       \n",
        "        0: 'True',\n",
        "    \n",
        "    }\n",
        "    data['label'] = data['label'].map(Original_labels)\n",
        "\n",
        "    return data"
      ],
      "execution_count": null,
      "outputs": []
    },
    {
      "cell_type": "code",
      "metadata": {
        "colab": {
          "base_uri": "https://localhost:8080/",
          "height": 106
        },
        "id": "t1N7_GyFHmgq",
        "outputId": "da19bd94-d3d9-47d5-cf74-34d23ea4b2b5"
      },
      "source": [
        "bi_class= binary_class_dataset(df_raw)\n",
        "bi_class.head(2)"
      ],
      "execution_count": null,
      "outputs": [
        {
          "output_type": "execute_result",
          "data": {
            "text/html": [
              "<div>\n",
              "<style scoped>\n",
              "    .dataframe tbody tr th:only-of-type {\n",
              "        vertical-align: middle;\n",
              "    }\n",
              "\n",
              "    .dataframe tbody tr th {\n",
              "        vertical-align: top;\n",
              "    }\n",
              "\n",
              "    .dataframe thead th {\n",
              "        text-align: right;\n",
              "    }\n",
              "</style>\n",
              "<table border=\"1\" class=\"dataframe\">\n",
              "  <thead>\n",
              "    <tr style=\"text-align: right;\">\n",
              "      <th></th>\n",
              "      <th>text</th>\n",
              "      <th>label</th>\n",
              "    </tr>\n",
              "  </thead>\n",
              "  <tbody>\n",
              "    <tr>\n",
              "      <th>0</th>\n",
              "      <td>President Donald Trump signaled his support fo...</td>\n",
              "      <td>True</td>\n",
              "    </tr>\n",
              "    <tr>\n",
              "      <th>1</th>\n",
              "      <td>Trump and Brexit Defeat Globalism, for Now Any...</td>\n",
              "      <td>Fake</td>\n",
              "    </tr>\n",
              "  </tbody>\n",
              "</table>\n",
              "</div>"
            ],
            "text/plain": [
              "                                                text label\n",
              "0  President Donald Trump signaled his support fo...  True\n",
              "1  Trump and Brexit Defeat Globalism, for Now Any...  Fake"
            ]
          },
          "metadata": {
            "tags": []
          },
          "execution_count": 91
        }
      ]
    },
    {
      "cell_type": "markdown",
      "metadata": {
        "id": "V6tw6PpbHmgq"
      },
      "source": [
        "## Creating Word Clouds for the text 'text' in the train dataset"
      ]
    },
    {
      "cell_type": "code",
      "metadata": {
        "colab": {
          "base_uri": "https://localhost:8080/",
          "height": 264
        },
        "id": "nqX8IzZwHmgq",
        "outputId": "47bc8b3e-a33b-4a81-a85e-41d450a451fa"
      },
      "source": [
        "np.random.seed(0) # setting seed to get similar results over multiple experiments.\n",
        "\n",
        "# word cloud for all the statements in the entire dataset\n",
        "text = bi_class['text'].values\n",
        "wordcloud = WordCloud(width=3000, height=2000, background_color='white',stopwords=STOPWORDS).generate(str(text))\n",
        "plt.imshow(wordcloud)\n",
        "plt.axis('off')\n",
        "plt.title(\"Word Cloud of 'text' in dataset\")\n",
        "plt.show()"
      ],
      "execution_count": null,
      "outputs": [
        {
          "output_type": "display_data",
          "data": {
            "image/png": "[encoded data removed]",
            "text/plain": [
              "<Figure size 432x288 with 1 Axes>"
            ]
          },
          "metadata": {
            "tags": [],
            "needs_background": "light"
          }
        }
      ]
    },
    {
      "cell_type": "code",
      "metadata": {
        "id": "xAvDMaV1Hmgr"
      },
      "source": [
        "# creating two dataset consisting of True and Fake statements seperately\n",
        "np.random.seed(0)\n",
        "true_statements_dataset = bi_class[bi_class['label']== 'True']\n",
        "fake_statements_dataset = bi_class[bi_class['label']== 'Fake']"
      ],
      "execution_count": null,
      "outputs": []
    },
    {
      "cell_type": "code",
      "metadata": {
        "colab": {
          "base_uri": "https://localhost:8080/"
        },
        "id": "GZPWCM6tHmgs",
        "outputId": "2938ba4b-6684-4899-e126-b82d2ef959d3"
      },
      "source": [
        "np.random.seed(0)\n",
        "# contains only TRUE statements\n",
        "true_statements_dataset.shape"
      ],
      "execution_count": null,
      "outputs": [
        {
          "output_type": "execute_result",
          "data": {
            "text/plain": [
              "(1300, 2)"
            ]
          },
          "metadata": {
            "tags": []
          },
          "execution_count": 94
        }
      ]
    },
    {
      "cell_type": "code",
      "metadata": {
        "colab": {
          "base_uri": "https://localhost:8080/"
        },
        "id": "daUT8TyZHmgs",
        "outputId": "779bb3f2-fdbc-4b3a-be5b-ba83673e324f"
      },
      "source": [
        "# contains only FAKE statements\n",
        "np.random.seed(0)\n",
        "fake_statements_dataset.shape"
      ],
      "execution_count": null,
      "outputs": [
        {
          "output_type": "execute_result",
          "data": {
            "text/plain": [
              "(1700, 2)"
            ]
          },
          "metadata": {
            "tags": []
          },
          "execution_count": 95
        }
      ]
    },
    {
      "cell_type": "code",
      "metadata": {
        "colab": {
          "base_uri": "https://localhost:8080/",
          "height": 264
        },
        "id": "jppib6oqHmgs",
        "outputId": "4f5f73e9-8232-4df7-869f-f7a4b9ff20f2"
      },
      "source": [
        "np.random.seed(0)\n",
        "# creating word cloud for only those statements that are TRUE\n",
        "text_true = true_statements_dataset['text'].values\n",
        "wordcloud_true = WordCloud(width=3000, height=2000, background_color='white',stopwords=STOPWORDS).generate(str(text_true))\n",
        "plt.imshow(wordcloud_true)\n",
        "plt.axis('off')\n",
        "plt.title(\"Word Cloud of statements that are TRUE\")\n",
        "plt.show()"
      ],
      "execution_count": null,
      "outputs": [
        {
          "output_type": "display_data",
          "data": {
            "image/png": "[encoded data removed]",
            "text/plain": [
              "<Figure size 432x288 with 1 Axes>"
            ]
          },
          "metadata": {
            "tags": [],
            "needs_background": "light"
          }
        }
      ]
    },
    {
      "cell_type": "code",
      "metadata": {
        "colab": {
          "base_uri": "https://localhost:8080/",
          "height": 264
        },
        "id": "CwR5_cahHmgt",
        "outputId": "048d4522-f6ae-4abb-b940-385f20fb71c4"
      },
      "source": [
        "np.random.seed(0)\n",
        "# creating word cloud for or only those statements that are FAKE\n",
        "text_false = fake_statements_dataset['text'].values\n",
        "wordcloud_false = WordCloud(width=3000, height=2000, background_color='white',stopwords=STOPWORDS).generate(str(text_false))\n",
        "plt.imshow(wordcloud_false)\n",
        "plt.axis('off')\n",
        "plt.title(\"Word Cloud of statements that are FALSE\")\n",
        "plt.show()"
      ],
      "execution_count": null,
      "outputs": [
        {
          "output_type": "display_data",
          "data": {
            "image/png": "[encoded data removed]",
            "text/plain": [
              "<Figure size 432x288 with 1 Axes>"
            ]
          },
          "metadata": {
            "tags": [],
            "needs_background": "light"
          }
        }
      ]
    },
    {
      "cell_type": "markdown",
      "metadata": {
        "id": "okuYncNWHHPF"
      },
      "source": [
        "# **Irony data exploration**"
      ]
    },
    {
      "cell_type": "code",
      "metadata": {
        "id": "cG1h8gbWGAxv"
      },
      "source": [
        "def parse_dataset(fp):\n",
        "    '''\n",
        "    Loads the dataset .txt file with label-tweet on each line and parses the dataset.\n",
        "    :param fp: filepath of dataset\n",
        "    :return:\n",
        "        corpus: list of tweet strings of each tweet.\n",
        "        y: list of labels\n",
        "    '''\n",
        "    y = []\n",
        "    corpus = []\n",
        "    with open(fp, 'rt') as data_in:\n",
        "        for line in data_in:\n",
        "            if not line.lower().startswith(\"tweet index\"): # discard first line if it contains metadata\n",
        "                line = line.rstrip() # remove trailing whitespace\n",
        "                label = int(line.split(\"\\t\")[1])\n",
        "                tweet = line.split(\"\\t\")[2]\n",
        "                y.append(label)\n",
        "                corpus.append(tweet)\n",
        "\n",
        "    return corpus, y"
      ],
      "execution_count": null,
      "outputs": []
    },
    {
      "cell_type": "code",
      "metadata": {
        "id": "glKCOdUfNkXh"
      },
      "source": [
        ""
      ],
      "execution_count": null,
      "outputs": []
    },
    {
      "cell_type": "code",
      "metadata": {
        "id": "aVYNXkojHcrN"
      },
      "source": [
        "path = \"/content/gdrive/My Drive/collab/ironyA.txt\" \n",
        "tweets, labels = parse_dataset(path)"
      ],
      "execution_count": null,
      "outputs": []
    },
    {
      "cell_type": "code",
      "metadata": {
        "colab": {
          "base_uri": "https://localhost:8080/",
          "height": 340
        },
        "id": "d4i3WLs2HgRf",
        "outputId": "24c93533-b9d2-4c4a-8896-cbe5a6aa5e70"
      },
      "source": [
        "data_irony = pd.DataFrame({'text': tweets, 'label':labels})\n",
        "data_irony[:10]"
      ],
      "execution_count": null,
      "outputs": [
        {
          "output_type": "execute_result",
          "data": {
            "text/html": [
              "<div>\n",
              "<style scoped>\n",
              "    .dataframe tbody tr th:only-of-type {\n",
              "        vertical-align: middle;\n",
              "    }\n",
              "\n",
              "    .dataframe tbody tr th {\n",
              "        vertical-align: top;\n",
              "    }\n",
              "\n",
              "    .dataframe thead th {\n",
              "        text-align: right;\n",
              "    }\n",
              "</style>\n",
              "<table border=\"1\" class=\"dataframe\">\n",
              "  <thead>\n",
              "    <tr style=\"text-align: right;\">\n",
              "      <th></th>\n",
              "      <th>text</th>\n",
              "      <th>label</th>\n",
              "    </tr>\n",
              "  </thead>\n",
              "  <tbody>\n",
              "    <tr>\n",
              "      <th>0</th>\n",
              "      <td>Sweet United Nations video. Just in time for C...</td>\n",
              "      <td>1</td>\n",
              "    </tr>\n",
              "    <tr>\n",
              "      <th>1</th>\n",
              "      <td>@mrdahl87 We are rumored to have talked to Erv...</td>\n",
              "      <td>1</td>\n",
              "    </tr>\n",
              "    <tr>\n",
              "      <th>2</th>\n",
              "      <td>Hey there! Nice to see you Minnesota/ND Winter...</td>\n",
              "      <td>1</td>\n",
              "    </tr>\n",
              "    <tr>\n",
              "      <th>3</th>\n",
              "      <td>3 episodes left I'm dying over here</td>\n",
              "      <td>0</td>\n",
              "    </tr>\n",
              "    <tr>\n",
              "      <th>4</th>\n",
              "      <td>\"I can't breathe!\" was chosen as the most nota...</td>\n",
              "      <td>1</td>\n",
              "    </tr>\n",
              "    <tr>\n",
              "      <th>5</th>\n",
              "      <td>You're never too old for Footie Pajamas. http:...</td>\n",
              "      <td>0</td>\n",
              "    </tr>\n",
              "    <tr>\n",
              "      <th>6</th>\n",
              "      <td>Nothing makes me happier then getting on the h...</td>\n",
              "      <td>1</td>\n",
              "    </tr>\n",
              "    <tr>\n",
              "      <th>7</th>\n",
              "      <td>4:30 an opening my first beer now gonna be a l...</td>\n",
              "      <td>0</td>\n",
              "    </tr>\n",
              "    <tr>\n",
              "      <th>8</th>\n",
              "      <td>@Adam_Klug do you think you would support a gu...</td>\n",
              "      <td>0</td>\n",
              "    </tr>\n",
              "    <tr>\n",
              "      <th>9</th>\n",
              "      <td>@samcguigan544 You are not allowed to open tha...</td>\n",
              "      <td>0</td>\n",
              "    </tr>\n",
              "  </tbody>\n",
              "</table>\n",
              "</div>"
            ],
            "text/plain": [
              "                                                text  label\n",
              "0  Sweet United Nations video. Just in time for C...      1\n",
              "1  @mrdahl87 We are rumored to have talked to Erv...      1\n",
              "2  Hey there! Nice to see you Minnesota/ND Winter...      1\n",
              "3                3 episodes left I'm dying over here      0\n",
              "4  \"I can't breathe!\" was chosen as the most nota...      1\n",
              "5  You're never too old for Footie Pajamas. http:...      0\n",
              "6  Nothing makes me happier then getting on the h...      1\n",
              "7  4:30 an opening my first beer now gonna be a l...      0\n",
              "8  @Adam_Klug do you think you would support a gu...      0\n",
              "9  @samcguigan544 You are not allowed to open tha...      0"
            ]
          },
          "metadata": {
            "tags": []
          },
          "execution_count": 141
        }
      ]
    },
    {
      "cell_type": "code",
      "metadata": {
        "colab": {
          "base_uri": "https://localhost:8080/"
        },
        "id": "euO3yR82H1Jn",
        "outputId": "671c73b6-a26e-4f89-b14a-5b5a0e72294b"
      },
      "source": [
        "ironic = data_irony[data_irony['label'] == 1]\n",
        "non_ironic = data_irony[data_irony['label'] == 0]\n",
        "\n",
        "print('Ironic shape', ironic.shape)\n",
        "print('Non ironic shape', non_ironic.shape)"
      ],
      "execution_count": null,
      "outputs": [
        {
          "output_type": "stream",
          "text": [
            "Ironic shape (1911, 2)\n",
            "Non ironic shape (1923, 2)\n"
          ],
          "name": "stdout"
        }
      ]
    },
    {
      "cell_type": "code",
      "metadata": {
        "colab": {
          "base_uri": "https://localhost:8080/",
          "height": 313
        },
        "id": "IZ40eXGVLYSJ",
        "outputId": "b9569fef-eb06-470d-e11c-3eefe1fe0dca"
      },
      "source": [
        "sns.countplot(x='label',data=data_irony)\n",
        "\n",
        "plt.title('Types & Number of Classes in the dataset')"
      ],
      "execution_count": null,
      "outputs": [
        {
          "output_type": "execute_result",
          "data": {
            "text/plain": [
              "Text(0.5, 1.0, 'Types & Number of Classes in the dataset')"
            ]
          },
          "metadata": {
            "tags": []
          },
          "execution_count": 143
        },
        {
          "output_type": "display_data",
          "data": {
            "image/png": "[encoded data removed]",
            "text/plain": [
              "<Figure size 432x288 with 1 Axes>"
            ]
          },
          "metadata": {
            "tags": [],
            "needs_background": "light"
          }
        }
      ]
    },
    {
      "cell_type": "code",
      "metadata": {
        "id": "GxsE0arUH9c2"
      },
      "source": [
        "stop = stopwords.words('english')\n",
        "def common_words(df, num=10):    \n",
        "    words = ' '.join(df['text']).lower().split()\n",
        "    words_cleaned = [word for word in words if word not in stop]\n",
        "    return pd.Series(words_cleaned).value_counts()[:num]"
      ],
      "execution_count": null,
      "outputs": []
    },
    {
      "cell_type": "code",
      "metadata": {
        "colab": {
          "base_uri": "https://localhost:8080/"
        },
        "id": "4M5pHfjyIDSl",
        "outputId": "68896758-5e89-43b9-b997-4213f65e91e2"
      },
      "source": [
        "print('Common Ironic words')\n",
        "print(common_words(ironic))\n"
      ],
      "execution_count": null,
      "outputs": [
        {
          "output_type": "stream",
          "text": [
            "Common Ironic words\n",
            "love      160\n",
            "i'm       113\n",
            "like       94\n",
            "great      83\n",
            "get        81\n",
            "day        79\n",
            "people     61\n",
            "good       60\n",
            "can't      54\n",
            "one        52\n",
            "dtype: int64\n"
          ],
          "name": "stdout"
        }
      ]
    },
    {
      "cell_type": "code",
      "metadata": {
        "colab": {
          "base_uri": "https://localhost:8080/"
        },
        "id": "ncbTlhAcOdD1",
        "outputId": "37b928bb-6938-45aa-d96b-f2ece82025d4"
      },
      "source": [
        "print('Non-ironic words')\n",
        "print(common_words(non_ironic))"
      ],
      "execution_count": null,
      "outputs": [
        {
          "output_type": "stream",
          "text": [
            "Non-ironic words\n",
            "i'm      91\n",
            "get      80\n",
            "&        72\n",
            "like     71\n",
            "-        57\n",
            "one      55\n",
            "would    52\n",
            "think    45\n",
            "love     44\n",
            "new      44\n",
            "dtype: int64\n"
          ],
          "name": "stdout"
        }
      ]
    },
    {
      "cell_type": "code",
      "metadata": {
        "id": "3g4m_wXoIopZ"
      },
      "source": [
        ""
      ],
      "execution_count": null,
      "outputs": []
    },
    {
      "cell_type": "markdown",
      "metadata": {
        "id": "CgQBn3roIp7v"
      },
      "source": [
        "# **Clickbait Exploration** "
      ]
    },
    {
      "cell_type": "code",
      "metadata": {
        "id": "4dtQEhTQJO13"
      },
      "source": [
        "path = \"/content/gdrive/My Drive/collab/clickbait_data.txt\" \n",
        "path2 = \"/content/gdrive/My Drive/collab/non_clickbait_data.txt\" "
      ],
      "execution_count": null,
      "outputs": []
    },
    {
      "cell_type": "code",
      "metadata": {
        "id": "nMZcG46wJVVI"
      },
      "source": [
        "def parse_dataset():\n",
        "    clickbait = []\n",
        "    non_clickbait = []\n",
        "    with open(path, 'rt') as data_in:\n",
        "        for line in data_in:\n",
        "            if line.strip():\n",
        "                clickbait.append(line.strip())\n",
        "                \n",
        "                \n",
        "    with open(path2, 'rt') as data_in:\n",
        "        for line in data_in:\n",
        "            if line.strip():\n",
        "                non_clickbait.append(line.strip())\n",
        "\n",
        "    return clickbait, non_clickbait"
      ],
      "execution_count": null,
      "outputs": []
    },
    {
      "cell_type": "code",
      "metadata": {
        "id": "dj5jNHL3JZgG"
      },
      "source": [
        "clickbait, non_clickbait = parse_dataset()"
      ],
      "execution_count": null,
      "outputs": []
    },
    {
      "cell_type": "code",
      "metadata": {
        "colab": {
          "base_uri": "https://localhost:8080/"
        },
        "id": "VkXYY4yjJcs-",
        "outputId": "f6d29242-8dbf-4221-aca0-b777041ff207"
      },
      "source": [
        "df_clickbait = pd.DataFrame({'text':clickbait,'label':1})\n",
        "print (df_clickbait)\n",
        "df_nonclickbait = pd.DataFrame({'text':non_clickbait,'label':0})\n",
        "print (df_nonclickbait)"
      ],
      "execution_count": null,
      "outputs": [
        {
          "output_type": "stream",
          "text": [
            "                                                    text  label\n",
            "0                                     Should I Get Bings      1\n",
            "1          Which TV Female Friend Group Do You Belong In      1\n",
            "2      The New \"Star Wars: The Force Awakens\" Trailer...      1\n",
            "3      This Vine Of New York On \"Celebrity Big Brothe...      1\n",
            "4      A Couple Did A Stunning Photo Shoot With Their...      1\n",
            "...                                                  ...    ...\n",
            "15994  There Was A Mini \"Sisterhood Of The Traveling ...      1\n",
            "15995    21 Dogs Who Are Thankful For Their Best Friends      1\n",
            "15996  People Are Proving No Dick Is Too Big By Dropp...      1\n",
            "15997                        I'm An Atheist, But I'm Not      1\n",
            "15998  An Artist Drew Disney Men As Justin Bieber And...      1\n",
            "\n",
            "[15999 rows x 2 columns]\n",
            "                                                    text  label\n",
            "0      Bill Changing Credit Card Rules Is Sent to Oba...      0\n",
            "1      In Hollywood, the Easy-Money Generation Toughe...      0\n",
            "2      1700 runners still unaccounted for in UK's Lak...      0\n",
            "3      Yankees Pitchers Trade Fielding Drills for Put...      0\n",
            "4      Large earthquake rattles Indonesia; Seventh in...      0\n",
            "...                                                  ...    ...\n",
            "15996  To Make Female Hearts Flutter in Iraq, Throw a...      0\n",
            "15997  British Liberal Democrat Patsy Calton, 56, die...      0\n",
            "15998  Drone smartphone app to help heart attack vict...      0\n",
            "15999  Netanyahu Urges Pope Benedict, in Israel, to D...      0\n",
            "16000  Computer Makers Prepare to Stake Bigger Claim ...      0\n",
            "\n",
            "[16001 rows x 2 columns]\n"
          ],
          "name": "stdout"
        }
      ]
    },
    {
      "cell_type": "code",
      "metadata": {
        "colab": {
          "base_uri": "https://localhost:8080/",
          "height": 340
        },
        "id": "rf44ZMILJc96",
        "outputId": "db584c26-60f8-4c0d-a343-9c1fb730b236"
      },
      "source": [
        "df=pd.concat([df_clickbait.iloc[0:2500,], df_nonclickbait.iloc[0:2000,]],ignore_index=True)\n",
        "df = df.sample(frac=1).reset_index(drop=True)\n",
        "df.head(10)"
      ],
      "execution_count": null,
      "outputs": [
        {
          "output_type": "execute_result",
          "data": {
            "text/html": [
              "<div>\n",
              "<style scoped>\n",
              "    .dataframe tbody tr th:only-of-type {\n",
              "        vertical-align: middle;\n",
              "    }\n",
              "\n",
              "    .dataframe tbody tr th {\n",
              "        vertical-align: top;\n",
              "    }\n",
              "\n",
              "    .dataframe thead th {\n",
              "        text-align: right;\n",
              "    }\n",
              "</style>\n",
              "<table border=\"1\" class=\"dataframe\">\n",
              "  <thead>\n",
              "    <tr style=\"text-align: right;\">\n",
              "      <th></th>\n",
              "      <th>text</th>\n",
              "      <th>label</th>\n",
              "    </tr>\n",
              "  </thead>\n",
              "  <tbody>\n",
              "    <tr>\n",
              "      <th>0</th>\n",
              "      <td>Can You Look At Thanksgiving The Same Way Afte...</td>\n",
              "      <td>1</td>\n",
              "    </tr>\n",
              "    <tr>\n",
              "      <th>1</th>\n",
              "      <td>Relax And Watch This Hamster Eat A Little Carrot</td>\n",
              "      <td>1</td>\n",
              "    </tr>\n",
              "    <tr>\n",
              "      <th>2</th>\n",
              "      <td>We Must Never Forget That Ben Affleck And Hill...</td>\n",
              "      <td>1</td>\n",
              "    </tr>\n",
              "    <tr>\n",
              "      <th>3</th>\n",
              "      <td>Do You Remember What Color Eyes These Celebs Have</td>\n",
              "      <td>1</td>\n",
              "    </tr>\n",
              "    <tr>\n",
              "      <th>4</th>\n",
              "      <td>'Enough, enough, enough, enough': 1700 women m...</td>\n",
              "      <td>0</td>\n",
              "    </tr>\n",
              "    <tr>\n",
              "      <th>5</th>\n",
              "      <td>Second stone circle found one mile from Stoneh...</td>\n",
              "      <td>0</td>\n",
              "    </tr>\n",
              "    <tr>\n",
              "      <th>6</th>\n",
              "      <td>18 Problems Only People Who Are Always Cold Un...</td>\n",
              "      <td>1</td>\n",
              "    </tr>\n",
              "    <tr>\n",
              "      <th>7</th>\n",
              "      <td>This Story About Alan Rickman And Rupert Grint...</td>\n",
              "      <td>1</td>\n",
              "    </tr>\n",
              "    <tr>\n",
              "      <th>8</th>\n",
              "      <td>We Know Where You Should Travel In 2016 Based ...</td>\n",
              "      <td>1</td>\n",
              "    </tr>\n",
              "    <tr>\n",
              "      <th>9</th>\n",
              "      <td>24 Vintage Pictures Of Paris Life In The 1920s</td>\n",
              "      <td>1</td>\n",
              "    </tr>\n",
              "  </tbody>\n",
              "</table>\n",
              "</div>"
            ],
            "text/plain": [
              "                                                text  label\n",
              "0  Can You Look At Thanksgiving The Same Way Afte...      1\n",
              "1   Relax And Watch This Hamster Eat A Little Carrot      1\n",
              "2  We Must Never Forget That Ben Affleck And Hill...      1\n",
              "3  Do You Remember What Color Eyes These Celebs Have      1\n",
              "4  'Enough, enough, enough, enough': 1700 women m...      0\n",
              "5  Second stone circle found one mile from Stoneh...      0\n",
              "6  18 Problems Only People Who Are Always Cold Un...      1\n",
              "7  This Story About Alan Rickman And Rupert Grint...      1\n",
              "8  We Know Where You Should Travel In 2016 Based ...      1\n",
              "9     24 Vintage Pictures Of Paris Life In The 1920s      1"
            ]
          },
          "metadata": {
            "tags": []
          },
          "execution_count": 151
        }
      ]
    },
    {
      "cell_type": "code",
      "metadata": {
        "colab": {
          "base_uri": "https://localhost:8080/"
        },
        "id": "WI6dWrdMTBQB",
        "outputId": "302f40a3-f442-4a69-afd8-8d37bc3073b8"
      },
      "source": [
        ""
      ],
      "execution_count": null,
      "outputs": [
        {
          "output_type": "execute_result",
          "data": {
            "text/plain": [
              "(4500, 2)"
            ]
          },
          "metadata": {
            "tags": []
          },
          "execution_count": 159
        }
      ]
    },
    {
      "cell_type": "code",
      "metadata": {
        "colab": {
          "base_uri": "https://localhost:8080/",
          "height": 313
        },
        "id": "3ITAzoLKJmlF",
        "outputId": "7a73738b-7a99-4687-9a30-d5c7661ff100"
      },
      "source": [
        "sns.countplot(x='label',data=df)\n",
        "\n",
        "plt.title('Types & Number of Classes in the dataset')"
      ],
      "execution_count": null,
      "outputs": [
        {
          "output_type": "execute_result",
          "data": {
            "text/plain": [
              "Text(0.5, 1.0, 'Types & Number of Classes in the dataset')"
            ]
          },
          "metadata": {
            "tags": []
          },
          "execution_count": 152
        },
        {
          "output_type": "display_data",
          "data": {
            "image/png": "[encoded data removed]",
            "text/plain": [
              "<Figure size 432x288 with 1 Axes>"
            ]
          },
          "metadata": {
            "tags": [],
            "needs_background": "light"
          }
        }
      ]
    },
    {
      "cell_type": "code",
      "metadata": {
        "id": "YiMColbQKvx8"
      },
      "source": [
        "\n",
        "from nltk.corpus import stopwords\n",
        "\n",
        "stop = stopwords.words('english')"
      ],
      "execution_count": null,
      "outputs": []
    },
    {
      "cell_type": "code",
      "metadata": {
        "id": "r5bkHSb4K15V"
      },
      "source": [
        ""
      ],
      "execution_count": null,
      "outputs": []
    },
    {
      "cell_type": "code",
      "metadata": {
        "id": "bfq1G5MgKzA-"
      },
      "source": [
        "def most_common_words(sentences, num=10):    \n",
        "    words = ' '.join(sentences).lower().split()\n",
        "    words_cleaned = [word for word in words if word not in stop]\n",
        "    return pd.Series(words_cleaned).value_counts()[:num]"
      ],
      "execution_count": null,
      "outputs": []
    },
    {
      "cell_type": "code",
      "metadata": {
        "colab": {
          "base_uri": "https://localhost:8080/"
        },
        "id": "tKzNIOocK3gx",
        "outputId": "444edc0b-d02a-4136-8639-7d727bb130c3"
      },
      "source": [
        "print('Clickbait')\n",
        "print(most_common_words(clickbait))\n"
      ],
      "execution_count": null,
      "outputs": [
        {
          "output_type": "stream",
          "text": [
            "Clickbait\n",
            "things      994\n",
            "people      909\n",
            "know        800\n",
            "make        760\n",
            "17          670\n",
            "21          642\n",
            "based       607\n",
            "19          578\n",
            "actually    577\n",
            "times       507\n",
            "dtype: int64\n"
          ],
          "name": "stdout"
        }
      ]
    },
    {
      "cell_type": "code",
      "metadata": {
        "colab": {
          "base_uri": "https://localhost:8080/"
        },
        "id": "ns0RQQSxO5Up",
        "outputId": "15305c41-6e27-428c-fb82-a3b09a7cb487"
      },
      "source": [
        "print('Non-Clickbait')\n",
        "print(most_common_words(non_clickbait))"
      ],
      "execution_count": null,
      "outputs": [
        {
          "output_type": "stream",
          "text": [
            "Non-Clickbait\n",
            "new           797\n",
            "us            598\n",
            "u.s.          523\n",
            "dies          341\n",
            "killed        333\n",
            "dead          321\n",
            "president     288\n",
            "uk            282\n",
            "kills         277\n",
            "australian    270\n",
            "dtype: int64\n"
          ],
          "name": "stdout"
        }
      ]
    },
    {
      "cell_type": "code",
      "metadata": {
        "colab": {
          "base_uri": "https://localhost:8080/"
        },
        "id": "DNAmmJBtK4tO",
        "outputId": "c3efd8b8-a459-476e-9c9f-f6f6528d62b8"
      },
      "source": [
        "df.shape,df_raw.shape,data_irony.shape"
      ],
      "execution_count": null,
      "outputs": [
        {
          "output_type": "execute_result",
          "data": {
            "text/plain": [
              "((4500, 2), (3000, 2), (3834, 2))"
            ]
          },
          "metadata": {
            "tags": []
          },
          "execution_count": 161
        }
      ]
    },
    {
      "cell_type": "markdown",
      "metadata": {
        "id": "sfGe4YxGLLRJ"
      },
      "source": [
        "# **Specifying features and labels**"
      ]
    },
    {
      "cell_type": "code",
      "metadata": {
        "colab": {
          "base_uri": "https://localhost:8080/"
        },
        "id": "0jSR6HS-Q58y",
        "outputId": "6702b6d9-3c61-4a33-bf21-6a8015409ac8"
      },
      "source": [
        "dfg=pd.concat([data_irony,df],ignore_index=True)\n",
        "print(dfg.shape)\n",
        "df_raww=pd.concat([dfg,df_raw],ignore_index=True)\n",
        "\n",
        "df_raww = df_raww.sample(frac=1).reset_index(drop=True)\n",
        "print(df_raww.shape)"
      ],
      "execution_count": null,
      "outputs": [
        {
          "output_type": "stream",
          "text": [
            "(8334, 2)\n",
            "(11334, 2)\n"
          ],
          "name": "stdout"
        }
      ]
    },
    {
      "cell_type": "code",
      "metadata": {
        "id": "K04zaTEUHmgv",
        "colab": {
          "base_uri": "https://localhost:8080/"
        },
        "outputId": "77131b16-7be8-4e66-9cce-cea5b61881f5"
      },
      "source": [
        "\n",
        "X= df_raww['text']\n",
        "y=df_raww['label']\n",
        "X.shape,y.shape"
      ],
      "execution_count": null,
      "outputs": [
        {
          "output_type": "execute_result",
          "data": {
            "text/plain": [
              "((11334,), (11334,))"
            ]
          },
          "metadata": {
            "tags": []
          },
          "execution_count": 166
        }
      ]
    },
    {
      "cell_type": "code",
      "metadata": {
        "colab": {
          "base_uri": "https://localhost:8080/"
        },
        "id": "zCQ90hW6Hmgw",
        "outputId": "4b041025-f640-44a4-faf7-76e80691c099"
      },
      "source": [
        "# sample statements\n",
        "X.head(5).tolist()"
      ],
      "execution_count": null,
      "outputs": [
        {
          "output_type": "execute_result",
          "data": {
            "text/plain": [
              "['@hoplitnet The fact that Whites are prone to universal thinking is actually racial in and of itself.',\n",
              " 'Second stone circle found one mile from Stonehenge',\n",
              " 'Strong earthquake strikes Indonesia',\n",
              " 'Serbian goal keeper debuts in Croatian football club Rijeka',\n",
              " 'A judge in Maryland has granted a new trial to Adnan Syed, setting aside his conviction for the 1999 murder of his former girlfriend, in a case that was the subject of the first season of the hit podcast “Serial. ” Mr. Syed’s lawyer, C. Justin Brown, posted the news on Twitter on Thursday afternoon and confirmed by phone that the motion for a new trial had been granted by Judge Martin P. Welch of the Baltimore City Circuit Court. The decision to grant Mr. Syed, 35, a retrial was a major victory for an inmate who has long maintained his innocence and has exhausted all other avenues of appeal. He was convicted in 2000 in the murder of his former girlfriend, Hae Min Lee, and had served 16 years of a life sentence. “Serial” turned speculation about Mr. Syed’s guilt and whether he had received a fair trial into something of a national pastime in 2014. The show was downloaded more than 100 million times and won a Peabody Award for its role in illuminating flaws in the criminal justice system. At a news conference in Baltimore, Mr. Brown was asked if he thought there was any chance that the retrial could have come about without “Serial. ” “I don’t think so,” he said. On the possibility that Mr. Syed may eventually go free, Mr. Brown said: “I’m feeling pretty confident right now. This was the biggest hurdle. It’s really hard to get a new trial. ” On Thursday, Mr. Brown said that he had not been able to reach Mr. Syed to tell him the news, but by Friday, he said in a post on Twitter that his client had been “informed of the decision. ” The family of Ms. Lee has expressed pain and outrage at the attention surrounding Mr. Syed’s bid for a new trial. In a statement released through the Maryland Attorney General’s Office on Friday, the family said: “We continue to grieve. We continue to believe justice was done when Mr. Syed was convicted of killing Hae. ” For its part, the Attorney General’s Office said Thursday night that it had a responsibility to keep pursuing justice and “to defend what it believes is a valid conviction. ” Mr. Syed’s brother, Yusuf, 26, said in an interview on Thursday that the family had high hopes for a favorable decision, based on the strength of the legal arguments and the outpouring of support. “We really felt 100 percent that the judge would rule in our favor,” he said, adding, “We’ve been waiting 20 years for this. ” Rabia Chaudry, a family friend of Mr. Syed’s who introduced Sarah Koenig, the host of “Serial,” to the case, celebrated the decision online, thanking the judge and witnesses, among others. A production manager for “Serial,” Emily Condon, declined to comment on Thursday. The judge’s decision came after three days of postconviction hearings in February. Mr. Syed and his legal team had presented new evidence, including the testimony of a new alibi witness, and argued that his original defense counsel had been grossly negligent. The   proceedings were held before Judge Welch, a retired judge, who had granted Mr. Syed’s request for a hearing in November. Mr. Syed first filed a request for a postconviction hearing in 2010, but was denied. Mr. Syed’s defense had argued in February that the decision by Mr. Syed’s lawyer in the original trial, Maria Cristina Gutierrez, not to question a state’s expert, Abraham Waranowitz, about the reliability of evidence relating to cellphone towers constituted ineffective assistance. The judge’s decision to grant Mr. Syed a new trial turned on that issue. In a memo, Judge Welch wrote that Ms. Gutierrez’s failure to question Mr. Waranowitz “created a substantial possibility that the result of the trial was fundamentally unreliable. ” Judge Welch also said in the memo that the substantial public interest in the case did not affect his decision. “Regardless of the public interest surrounding this case, the court used its best efforts to address the merits of petitioner’s petition for postconviction relief like it would in any other case that comes before the court unfettered by sympathy, prejudice, or public opinion,” he wrote. Ms. Gutierrez was a prominent Baltimore defense lawyer in the 1990s whose career crumbled in 2001 when she was disbarred by consent after a state commission uncovered financial improprieties involving her clients. She told The Baltimore Sun at the time that her legal practice suffered in part because of her severe medical problems related to multiple sclerosis. She died of a heart attack in 2004. On Thursday, hundreds of fans of “Serial” took to social media, some of them to celebrate and others to emphasize that they still believed Mr. Syed was guilty. The podcast recently ended its second season, which told the story of Bowe Bergdahl, an American soldier in Afghanistan who was captured by the Taliban in 2009 and released as part of a prisoner swap in 2014.']"
            ]
          },
          "metadata": {
            "tags": []
          },
          "execution_count": 167
        }
      ]
    },
    {
      "cell_type": "code",
      "metadata": {
        "colab": {
          "base_uri": "https://localhost:8080/"
        },
        "id": "Fgsxq20GHmgw",
        "outputId": "d0ae248f-fd65-40a4-d108-e827ec3d0171"
      },
      "source": [
        "#sample labels\n",
        "y.head(5)"
      ],
      "execution_count": null,
      "outputs": [
        {
          "output_type": "execute_result",
          "data": {
            "text/plain": [
              "0    1\n",
              "1    0\n",
              "2    0\n",
              "3    0\n",
              "4    0\n",
              "Name: label, dtype: int64"
            ]
          },
          "metadata": {
            "tags": []
          },
          "execution_count": 168
        }
      ]
    },
    {
      "cell_type": "code",
      "metadata": {
        "colab": {
          "base_uri": "https://localhost:8080/"
        },
        "id": "zyrTRAsYHmgx",
        "outputId": "00658d8b-b1ee-4ea2-eb2d-8a9601c0393f"
      },
      "source": [
        "# specifying train and test split with ratio of 80:20\n",
        "X_train, X_test, y_train, y_test = train_test_split(X,y, test_size=0.2, random_state = 0, stratify=y)\n",
        "print(len(X_train), len(X_test))\n",
        "print(len(y_train), len(y_test))"
      ],
      "execution_count": null,
      "outputs": [
        {
          "output_type": "stream",
          "text": [
            "9067 2267\n",
            "9067 2267\n"
          ],
          "name": "stdout"
        }
      ]
    },
    {
      "cell_type": "markdown",
      "metadata": {
        "id": "_HDXEoS_Hmgx"
      },
      "source": [
        "### Custom Pre - Processing and Tokenisation of the data"
      ]
    },
    {
      "cell_type": "code",
      "metadata": {
        "id": "zUw7ZnZAPH3Z"
      },
      "source": [
        ""
      ],
      "execution_count": null,
      "outputs": []
    },
    {
      "cell_type": "code",
      "metadata": {
        "id": "X3jotfQdHmgx"
      },
      "source": [
        "\n",
        "\"\"\" Regular expression for cleaning the statements\"\"\"\n",
        "\n",
        "hashtag_re = re.compile(r\"#\\w+\")\n",
        "mention_re = re.compile(r\"@\\w+\")\n",
        "url_re = re.compile(r\"(?:https?://)?(?:[-\\w]+\\.)+[a-zA-Z]{2,9}[-\\w/#~:;.?+=&%@~]*\")\n",
        "extras_re = re.compile(\"[.;:!\\'?,\\\"()\\[\\]]\")\n",
        "emoji_pattern = re.compile(\"[\"\n",
        "                           u\"\\U0001F600-\\U0001F64F\"  # emoticons\n",
        "                           u\"\\U0001F300-\\U0001F5FF\"  # symbols & pictographs\n",
        "                           u\"\\U0001F680-\\U0001F6FF\"  # transport & map symbols\n",
        "                           u\"\\U0001F1E0-\\U0001F1FF\"  # flags (iOS)\n",
        "                           u\"\\U00002702-\\U000027B0\"\n",
        "                           u\"\\U000024C2-\\U0001F251\"\n",
        "                           \"]+\", flags=re.UNICODE)\n",
        "\n",
        "\n",
        "\"\"\" Preprocessing the text in the statements\"\"\"\n",
        "def preprocess(text):\n",
        "\n",
        "    p_text = hashtag_re.sub(\"\",text)\n",
        "    p_text = mention_re.sub(\"\",p_text)\n",
        "    p_text = extras_re.sub(\"\",p_text)\n",
        "    p_text = url_re.sub(\"\",p_text)\n",
        "    p_text = ftfy.fix_text(p_text)\n",
        "    p_text = emoji_pattern.sub(\" \", p_text)\n",
        "    return p_text.lower()\n",
        "\n",
        "\n",
        "\n",
        "\n",
        "def Tokenizer(str_input):\n",
        "    words = re.sub(r\"[^A-Za-z0-9\\-]\", \" \", str_input).lower().split()\n",
        "    porter_stemmer=nltk.PorterStemmer()\n",
        "    words = [porter_stemmer.stem(word) for word in words]\n",
        "    return words\n",
        "\n",
        "\n",
        "\n",
        "# stop words list set to english\n",
        "stopwords_list = stopwords.words('english') # stop word list\n",
        "\n",
        "\n"
      ],
      "execution_count": null,
      "outputs": []
    },
    {
      "cell_type": "markdown",
      "metadata": {
        "id": "xmbFKvB0Hmgy"
      },
      "source": [
        "### Defining custom functions for displaying results of Classification"
      ]
    },
    {
      "cell_type": "code",
      "metadata": {
        "id": "HeylO6crHmgy"
      },
      "source": [
        "# function for results of cross-validation\n",
        "def print_cv_scores_summary(name, scores):\n",
        "    print(\"{}: mean = {:.2f}%, sd = {:.2f}%, min = {:.2f}, max = {:.2f}\".format(name, scores.mean()*100, scores.std()*100, scores.min()*100, scores.max()*100))\n",
        "\n",
        "\n",
        "# fucntion for results of model fitting\n",
        "def print_scores(predictions):\n",
        "    print(\"Accuracy: \", accuracy_score(y_test, predictions))\n",
        "    print(classification_report(y_test, predictions))\n",
        "    print(confusion_matrix(y_test, predictions))\n",
        "    \n",
        "# function for displaying confusion matrix\n",
        "def confusion_matrix_heatmap(cm, index):\n",
        "    cmdf = pd.DataFrame(cm, index = index, columns=index)\n",
        "    dims = (10, 8)\n",
        "    fig, ax = plt.subplots(figsize=dims)\n",
        "    sns.heatmap(cmdf, annot=True, cmap=\"BuPu\", center=0, fmt='g')\n",
        "    ax.set_ylabel('Actual')    \n",
        "    ax.set_xlabel('Predicted')\n",
        "\n",
        "from sklearn import metrics\n",
        "import itertools\n",
        "\n",
        "def plot_confusion_matrix(cm, classes,\n",
        "                          normalize=False,\n",
        "                          title='Confusion matrix',\n",
        "                          cmap=plt.cm.Blues):\n",
        "    \n",
        "    plt.imshow(cm, interpolation='nearest', cmap=cmap)\n",
        "    plt.title(title)\n",
        "    plt.colorbar()\n",
        "    tick_marks = np.arange(len(classes))\n",
        "    plt.xticks(tick_marks, classes, rotation=45)\n",
        "    plt.yticks(tick_marks, classes)\n",
        "\n",
        "    if normalize:\n",
        "        cm = cm.astype('float') / cm.sum(axis=1)[:, np.newaxis]\n",
        "        print(\"Normalized confusion matrix\")\n",
        "    else:\n",
        "        print('Confusion matrix, without normalization')\n",
        "\n",
        "    thresh = cm.max() / 2.\n",
        "    for i, j in itertools.product(range(cm.shape[0]), range(cm.shape[1])):\n",
        "        plt.text(j, i, cm[i, j],\n",
        "                 horizontalalignment=\"center\",\n",
        "                 color=\"white\" if cm[i, j] > thresh else \"black\")\n",
        "\n",
        "    plt.tight_layout()\n",
        "    plt.ylabel('True label')\n",
        "    plt.xlabel('Predicted label')\n",
        "\n",
        "# function for displaying confusion matrix in percentage terms\n",
        "def confusion_matrix_percent_heatmap(cm, index):\n",
        "    cmdf = pd.DataFrame(cm, index = index, columns=index)\n",
        "    percents = cmdf.div(cmdf.sum(axis=1), axis=0)*100\n",
        "    dims = (10, 10)\n",
        "    fig, ax = plt.subplots(figsize=dims)\n",
        "    sns.heatmap(percents, annot=True, cmap=\"PiYG\", center=0, vmin=0, vmax=100)\n",
        "    ax.set_ylabel('Actual')    \n",
        "    ax.set_xlabel('Predicted')\n",
        "    cbar = ax.collections[0].colorbar\n",
        "    cbar.set_ticks([0, 25, 50, 75, 100])\n",
        "    cbar.set_ticklabels(['0%', '25%', '50%', '75%', '100%'])\n",
        "    \n",
        "#list(df_columns.columns))-list(df_raw['labels'])\"coolwarm\"'Blues'PiYG'BuPu'"
      ],
      "execution_count": null,
      "outputs": []
    },
    {
      "cell_type": "markdown",
      "metadata": {
        "id": "LWyr4iimHmgy"
      },
      "source": [
        "## Creating Pipeline with TFID Vectorizer along with Feature Union of 'total words' in the 'text'\n"
      ]
    },
    {
      "cell_type": "code",
      "metadata": {
        "id": "Xa3aJY7KHmgz"
      },
      "source": [
        "from sklearn.base import BaseEstimator, TransformerMixin\n",
        "class TextSelector(BaseEstimator, TransformerMixin):\n",
        "    def __init__(self, field):\n",
        "        self.field = field\n",
        "    def fit(self, X, y=None):\n",
        "        return self\n",
        "    def transform(self, X):\n",
        "        return X[self.field]\n",
        "class NumberSelector(BaseEstimator, TransformerMixin):\n",
        "    def __init__(self, field):\n",
        "        self.field = field\n",
        "    def fit(self, X, y=None):\n",
        "        return self\n",
        "    def transform(self, X):\n",
        "        return X[[self.field]]"
      ],
      "execution_count": null,
      "outputs": []
    },
    {
      "cell_type": "code",
      "metadata": {
        "id": "teOlDHA7Hmg0"
      },
      "source": [
        "df_raw_tfid= df_raw.copy()"
      ],
      "execution_count": null,
      "outputs": []
    },
    {
      "cell_type": "code",
      "metadata": {
        "colab": {
          "base_uri": "https://localhost:8080/",
          "height": 106
        },
        "id": "b2AnHgKZHmg0",
        "outputId": "f5059196-f08b-479d-c86a-fe0e00b166ae"
      },
      "source": [
        "df_raw_tfid.head(2)"
      ],
      "execution_count": null,
      "outputs": [
        {
          "output_type": "execute_result",
          "data": {
            "text/html": [
              "<div>\n",
              "<style scoped>\n",
              "    .dataframe tbody tr th:only-of-type {\n",
              "        vertical-align: middle;\n",
              "    }\n",
              "\n",
              "    .dataframe tbody tr th {\n",
              "        vertical-align: top;\n",
              "    }\n",
              "\n",
              "    .dataframe thead th {\n",
              "        text-align: right;\n",
              "    }\n",
              "</style>\n",
              "<table border=\"1\" class=\"dataframe\">\n",
              "  <thead>\n",
              "    <tr style=\"text-align: right;\">\n",
              "      <th></th>\n",
              "      <th>text</th>\n",
              "      <th>label</th>\n",
              "    </tr>\n",
              "  </thead>\n",
              "  <tbody>\n",
              "    <tr>\n",
              "      <th>0</th>\n",
              "      <td>President Donald Trump signaled his support fo...</td>\n",
              "      <td>0</td>\n",
              "    </tr>\n",
              "    <tr>\n",
              "      <th>1</th>\n",
              "      <td>Trump and Brexit Defeat Globalism, for Now Any...</td>\n",
              "      <td>1</td>\n",
              "    </tr>\n",
              "  </tbody>\n",
              "</table>\n",
              "</div>"
            ],
            "text/plain": [
              "                                                text  label\n",
              "0  President Donald Trump signaled his support fo...      0\n",
              "1  Trump and Brexit Defeat Globalism, for Now Any...      1"
            ]
          },
          "metadata": {
            "tags": []
          },
          "execution_count": 189
        }
      ]
    },
    {
      "cell_type": "code",
      "metadata": {
        "id": "7E5RbVJAHmg0"
      },
      "source": [
        "header_list=[\"text\",\"label\",\"TotalWords\",\"Lemmatised_words\"]\n"
      ],
      "execution_count": null,
      "outputs": []
    },
    {
      "cell_type": "code",
      "metadata": {
        "colab": {
          "base_uri": "https://localhost:8080/",
          "height": 106
        },
        "id": "VQrOkn3uHmg0",
        "outputId": "bcbdb1ee-7793-48c3-a53a-d9d73c1adbbe"
      },
      "source": [
        "df_raw_tfid = df_raw_tfid.reindex(columns = header_list) \n",
        "df_raw_tfid.head(2)"
      ],
      "execution_count": null,
      "outputs": [
        {
          "output_type": "execute_result",
          "data": {
            "text/html": [
              "<div>\n",
              "<style scoped>\n",
              "    .dataframe tbody tr th:only-of-type {\n",
              "        vertical-align: middle;\n",
              "    }\n",
              "\n",
              "    .dataframe tbody tr th {\n",
              "        vertical-align: top;\n",
              "    }\n",
              "\n",
              "    .dataframe thead th {\n",
              "        text-align: right;\n",
              "    }\n",
              "</style>\n",
              "<table border=\"1\" class=\"dataframe\">\n",
              "  <thead>\n",
              "    <tr style=\"text-align: right;\">\n",
              "      <th></th>\n",
              "      <th>text</th>\n",
              "      <th>label</th>\n",
              "      <th>TotalWords</th>\n",
              "      <th>Lemmatised_words</th>\n",
              "    </tr>\n",
              "  </thead>\n",
              "  <tbody>\n",
              "    <tr>\n",
              "      <th>0</th>\n",
              "      <td>President Donald Trump signaled his support fo...</td>\n",
              "      <td>0</td>\n",
              "      <td>NaN</td>\n",
              "      <td>NaN</td>\n",
              "    </tr>\n",
              "    <tr>\n",
              "      <th>1</th>\n",
              "      <td>Trump and Brexit Defeat Globalism, for Now Any...</td>\n",
              "      <td>1</td>\n",
              "      <td>NaN</td>\n",
              "      <td>NaN</td>\n",
              "    </tr>\n",
              "  </tbody>\n",
              "</table>\n",
              "</div>"
            ],
            "text/plain": [
              "                                                text  ...  Lemmatised_words\n",
              "0  President Donald Trump signaled his support fo...  ...               NaN\n",
              "1  Trump and Brexit Defeat Globalism, for Now Any...  ...               NaN\n",
              "\n",
              "[2 rows x 4 columns]"
            ]
          },
          "metadata": {
            "tags": []
          },
          "execution_count": 191
        }
      ]
    },
    {
      "cell_type": "code",
      "metadata": {
        "id": "wRsO8yBzHmg0"
      },
      "source": [
        "# creating new column to hold total number of words in the text and calculating the total words\n",
        "df_raw_tfid['TotalWords'] = df_raw_tfid['text'].str.split().str.len()"
      ],
      "execution_count": null,
      "outputs": []
    },
    {
      "cell_type": "code",
      "metadata": {
        "colab": {
          "base_uri": "https://localhost:8080/",
          "height": 106
        },
        "id": "2XIkhPCaHmg1",
        "outputId": "4ee2754b-2781-488e-aad9-20f72414941c"
      },
      "source": [
        "df_raw_tfid.head(2)"
      ],
      "execution_count": null,
      "outputs": [
        {
          "output_type": "execute_result",
          "data": {
            "text/html": [
              "<div>\n",
              "<style scoped>\n",
              "    .dataframe tbody tr th:only-of-type {\n",
              "        vertical-align: middle;\n",
              "    }\n",
              "\n",
              "    .dataframe tbody tr th {\n",
              "        vertical-align: top;\n",
              "    }\n",
              "\n",
              "    .dataframe thead th {\n",
              "        text-align: right;\n",
              "    }\n",
              "</style>\n",
              "<table border=\"1\" class=\"dataframe\">\n",
              "  <thead>\n",
              "    <tr style=\"text-align: right;\">\n",
              "      <th></th>\n",
              "      <th>text</th>\n",
              "      <th>label</th>\n",
              "      <th>TotalWords</th>\n",
              "      <th>Lemmatised_words</th>\n",
              "    </tr>\n",
              "  </thead>\n",
              "  <tbody>\n",
              "    <tr>\n",
              "      <th>0</th>\n",
              "      <td>President Donald Trump signaled his support fo...</td>\n",
              "      <td>0</td>\n",
              "      <td>144</td>\n",
              "      <td>NaN</td>\n",
              "    </tr>\n",
              "    <tr>\n",
              "      <th>1</th>\n",
              "      <td>Trump and Brexit Defeat Globalism, for Now Any...</td>\n",
              "      <td>1</td>\n",
              "      <td>1104</td>\n",
              "      <td>NaN</td>\n",
              "    </tr>\n",
              "  </tbody>\n",
              "</table>\n",
              "</div>"
            ],
            "text/plain": [
              "                                                text  ...  Lemmatised_words\n",
              "0  President Donald Trump signaled his support fo...  ...               NaN\n",
              "1  Trump and Brexit Defeat Globalism, for Now Any...  ...               NaN\n",
              "\n",
              "[2 rows x 4 columns]"
            ]
          },
          "metadata": {
            "tags": []
          },
          "execution_count": 193
        }
      ]
    },
    {
      "cell_type": "markdown",
      "metadata": {
        "id": "JFeXifrpHmg1"
      },
      "source": [
        "## Lemmatisation of the 'statements' by giving POS (parts of speech) Tags as context"
      ]
    },
    {
      "cell_type": "code",
      "metadata": {
        "colab": {
          "base_uri": "https://localhost:8080/"
        },
        "id": "HStVye0Syho6",
        "outputId": "b100a62e-dd41-4bc9-c60e-780e89a7e251"
      },
      "source": [
        "nltk.download('punkt')\n",
        "nltk.download('wordnet')\n",
        "nltk.download('averaged_perceptron_tagger')"
      ],
      "execution_count": null,
      "outputs": [
        {
          "output_type": "stream",
          "text": [
            "[nltk_data] Downloading package punkt to /root/nltk_data...\n",
            "[nltk_data]   Package punkt is already up-to-date!\n",
            "[nltk_data] Downloading package wordnet to /root/nltk_data...\n",
            "[nltk_data]   Package wordnet is already up-to-date!\n",
            "[nltk_data] Downloading package averaged_perceptron_tagger to\n",
            "[nltk_data]     /root/nltk_data...\n",
            "[nltk_data]   Package averaged_perceptron_tagger is already up-to-\n",
            "[nltk_data]       date!\n"
          ],
          "name": "stdout"
        },
        {
          "output_type": "execute_result",
          "data": {
            "text/plain": [
              "True"
            ]
          },
          "metadata": {
            "tags": []
          },
          "execution_count": 194
        }
      ]
    },
    {
      "cell_type": "code",
      "metadata": {
        "id": "pdv1K2i5Hmg1"
      },
      "source": [
        "\"\"\"WordNetLemmatizer requires Pos tags to understand if the word is noun or verb or adjective etc.\n",
        "        By default it is set to Noun. Here we consider only POS tags of Noun, Adjective, Verb and Adverb. \"\"\"\n",
        "\n",
        "corpus=[]\n",
        "\n",
        "def lemmatize():\n",
        "\n",
        "    for state in df_raw_tfid['text']:\n",
        "    \n",
        "        texts=preprocess(state)\n",
        "        token=nltk.word_tokenize(texts)\n",
        "        corpus.append(token)\n",
        "\n",
        "    tag_map = defaultdict(lambda : wn.NOUN)\n",
        "    tag_map['J'] = wn.ADJ\n",
        "    tag_map['V'] = wn.VERB\n",
        "    tag_map['R'] = wn.ADV\n",
        "\n",
        "    for index,entry in enumerate(corpus):\n",
        "        # looping through the entries and saving in the corpus\n",
        "        Final_words = []\n",
        "        # fitting WordNetLemmatizer()\n",
        "        word_Lemmatized = WordNetLemmatizer()\n",
        "        # pos_tag will provide the 'tag' i.e if the word is Noun(N) or Verb(V) etc.\n",
        "        for word, tag in pos_tag(entry):\n",
        "        # condition is to check for Stop words and consider only alphabets\n",
        "            if word not in stopwords.words('english') and word.isalpha():\n",
        "                word_Final = word_Lemmatized.lemmatize(word,tag_map[tag[0]])\n",
        "                Final_words.append(word_Final)\n",
        "        # The processed words for each 'statement' will be store in column 'lemmatised_words in the dataframe'\n",
        "        df_raw_tfid.loc[index,'Lemmatised_words'] = str(Final_words)"
      ],
      "execution_count": null,
      "outputs": []
    },
    {
      "cell_type": "code",
      "metadata": {
        "id": "Uu4UrClTHmg2"
      },
      "source": [
        "lemmatize()"
      ],
      "execution_count": null,
      "outputs": []
    },
    {
      "cell_type": "code",
      "metadata": {
        "id": "0NpOU6-uHmg2"
      },
      "source": [
        "# sample lemmatised text of the 'statements'\n"
      ],
      "execution_count": null,
      "outputs": []
    },
    {
      "cell_type": "code",
      "metadata": {
        "colab": {
          "base_uri": "https://localhost:8080/"
        },
        "id": "9U-MnBDLHmg3",
        "outputId": "0e5cb1a5-cf56-4e02-c3a0-ec9eebe74fff"
      },
      "source": [
        "# We can see that new column 'Lemmtised_words is created which stores the lemmatised words of the 'text'\n",
        "df_raw_tfid.head"
      ],
      "execution_count": null,
      "outputs": [
        {
          "output_type": "execute_result",
          "data": {
            "text/plain": [
              "<bound method NDFrame.head of                                                    text  ...                                   Lemmatised_words\n",
              "0     President Donald Trump signaled his support fo...  ...  ['president', 'donald', 'trump', 'signal', 'su...\n",
              "1     Trump and Brexit Defeat Globalism, for Now Any...  ...  ['trump', 'brexit', 'defeat', 'globalism', 'an...\n",
              "2     NASA is getting new looks at Jupiter, from clo...  ...  ['nasa', 'get', 'new', 'look', 'jupiter', 'clo...\n",
              "3     (Before It's News)\\nAs advanced as our Job Pos...  ...  ['news', 'advance', 'job', 'post', 'analytics'...\n",
              "4     In my timeline it was Michael Barage, Rump and...  ...  ['timeline', 'michael', 'barage', 'rump', 'bil...\n",
              "...                                                 ...  ...                                                ...\n",
              "2995  ‹ › Arnaldo Rodgers is a trained and educated ...  ...  ['arnaldo', 'rodgers', 'trained', 'educated', ...\n",
              "2996  .@CLewandowski_: ”I think Jim Comey is in big ...  ...  ['think', 'jim', 'comey', 'big', 'trouble', 'j...\n",
              "2997  The stock market reached yet another new high ...  ...  ['stock', 'market', 'reach', 'yet', 'another',...\n",
              "2998  Fastaqim Positions Overrun, Fighters Detained ...  ...  ['fastaqim', 'position', 'overrun', 'fighter',...\n",
              "2999  The Trump Election Will Spark More Individual ...  ...  ['trump', 'election', 'spark', 'individual', '...\n",
              "\n",
              "[3000 rows x 4 columns]>"
            ]
          },
          "metadata": {
            "tags": []
          },
          "execution_count": 198
        }
      ]
    },
    {
      "cell_type": "code",
      "metadata": {
        "id": "B4pfMAm1Hmg3"
      },
      "source": [
        "# X=df_raw_tfid['Lemmatised_words'].tolist()\n",
        "# y=df_raw_tfid['label']\n",
        "# # fitting TfidfVectorizer with the lemmatised 'statements'\n",
        "# Encoder = LabelEncoder()\n",
        "# y = Encoder.fit_transform(y)\n",
        "\n",
        "# Tfidf_vect = TfidfVectorizer()\n",
        "# Tfidf_vect.fit(df_raw_tfid['Lemmatised_words'])\n",
        "# X = Tfidf_vect.transform(X)"
      ],
      "execution_count": null,
      "outputs": []
    },
    {
      "cell_type": "markdown",
      "metadata": {
        "id": "KG2rLCOkHmg3"
      },
      "source": [
        "## Converting the Multiclass labels into Binary class labels (Fake & True) and predicting"
      ]
    },
    {
      "cell_type": "code",
      "metadata": {
        "colab": {
          "base_uri": "https://localhost:8080/",
          "height": 927
        },
        "id": "i4cqeueyHmg3",
        "outputId": "895ed45b-b289-414c-d736-34905f01c3e6"
      },
      "source": [
        "bi_class.head(30)"
      ],
      "execution_count": null,
      "outputs": [
        {
          "output_type": "execute_result",
          "data": {
            "text/html": [
              "<div>\n",
              "<style scoped>\n",
              "    .dataframe tbody tr th:only-of-type {\n",
              "        vertical-align: middle;\n",
              "    }\n",
              "\n",
              "    .dataframe tbody tr th {\n",
              "        vertical-align: top;\n",
              "    }\n",
              "\n",
              "    .dataframe thead th {\n",
              "        text-align: right;\n",
              "    }\n",
              "</style>\n",
              "<table border=\"1\" class=\"dataframe\">\n",
              "  <thead>\n",
              "    <tr style=\"text-align: right;\">\n",
              "      <th></th>\n",
              "      <th>text</th>\n",
              "      <th>label</th>\n",
              "    </tr>\n",
              "  </thead>\n",
              "  <tbody>\n",
              "    <tr>\n",
              "      <th>0</th>\n",
              "      <td>President Donald Trump signaled his support fo...</td>\n",
              "      <td>True</td>\n",
              "    </tr>\n",
              "    <tr>\n",
              "      <th>1</th>\n",
              "      <td>Trump and Brexit Defeat Globalism, for Now Any...</td>\n",
              "      <td>Fake</td>\n",
              "    </tr>\n",
              "    <tr>\n",
              "      <th>2</th>\n",
              "      <td>NASA is getting new looks at Jupiter, from clo...</td>\n",
              "      <td>True</td>\n",
              "    </tr>\n",
              "    <tr>\n",
              "      <th>3</th>\n",
              "      <td>(Before It's News)\\nAs advanced as our Job Pos...</td>\n",
              "      <td>Fake</td>\n",
              "    </tr>\n",
              "    <tr>\n",
              "      <th>4</th>\n",
              "      <td>In my timeline it was Michael Barage, Rump and...</td>\n",
              "      <td>Fake</td>\n",
              "    </tr>\n",
              "    <tr>\n",
              "      <th>5</th>\n",
              "      <td>In the tech business, you often invent the pro...</td>\n",
              "      <td>True</td>\n",
              "    </tr>\n",
              "    <tr>\n",
              "      <th>6</th>\n",
              "      <td>WASHINGTON  —   Navy SEALs led an unsuccessful...</td>\n",
              "      <td>True</td>\n",
              "    </tr>\n",
              "    <tr>\n",
              "      <th>7</th>\n",
              "      <td>“Be ye therefore perfect . . . even as your Fa...</td>\n",
              "      <td>Fake</td>\n",
              "    </tr>\n",
              "    <tr>\n",
              "      <th>8</th>\n",
              "      <td></td>\n",
              "      <td>Fake</td>\n",
              "    </tr>\n",
              "    <tr>\n",
              "      <th>9</th>\n",
              "      <td>Images reveal crashed Schiaparelli Mars lander...</td>\n",
              "      <td>Fake</td>\n",
              "    </tr>\n",
              "    <tr>\n",
              "      <th>10</th>\n",
              "      <td>The   RB singer Chris Brown was arrested by th...</td>\n",
              "      <td>True</td>\n",
              "    </tr>\n",
              "    <tr>\n",
              "      <th>11</th>\n",
              "      <td>LONDON  —   Joe Corré, the son of Malcolm McLa...</td>\n",
              "      <td>True</td>\n",
              "    </tr>\n",
              "    <tr>\n",
              "      <th>12</th>\n",
              "      <td>Tweet Widget A Black Agenda Radio commentary b...</td>\n",
              "      <td>Fake</td>\n",
              "    </tr>\n",
              "    <tr>\n",
              "      <th>13</th>\n",
              "      <td>1861 Views October 29, 2016 10 Comments Guest ...</td>\n",
              "      <td>Fake</td>\n",
              "    </tr>\n",
              "    <tr>\n",
              "      <th>14</th>\n",
              "      <td>The Top 5 Conspiracy Theories That Were Prov...</td>\n",
              "      <td>Fake</td>\n",
              "    </tr>\n",
              "    <tr>\n",
              "      <th>15</th>\n",
              "      <td>On Tuesday’s “Good Morning America,”   George ...</td>\n",
              "      <td>True</td>\n",
              "    </tr>\n",
              "    <tr>\n",
              "      <th>16</th>\n",
              "      <td>Share on Facebook Share on Twitter Human histo...</td>\n",
              "      <td>Fake</td>\n",
              "    </tr>\n",
              "    <tr>\n",
              "      <th>17</th>\n",
              "      <td>By Tera Graham\\nWe spend an overwhelming amoun...</td>\n",
              "      <td>Fake</td>\n",
              "    </tr>\n",
              "    <tr>\n",
              "      <th>18</th>\n",
              "      <td>By Lasha Darkmoon on November 1, 2016 Tom Leon...</td>\n",
              "      <td>Fake</td>\n",
              "    </tr>\n",
              "    <tr>\n",
              "      <th>19</th>\n",
              "      <td>Home / BREAKING NEWS / DAPL Protesters Proven ...</td>\n",
              "      <td>Fake</td>\n",
              "    </tr>\n",
              "    <tr>\n",
              "      <th>20</th>\n",
              "      <td>Updated, 10:34 a. m. Good morning on this temp...</td>\n",
              "      <td>True</td>\n",
              "    </tr>\n",
              "    <tr>\n",
              "      <th>21</th>\n",
              "      <td>Senator John McCain, the 2008 Republican presi...</td>\n",
              "      <td>True</td>\n",
              "    </tr>\n",
              "    <tr>\n",
              "      <th>22</th>\n",
              "      <td>\\nAn absolutely astonishing Security Council (...</td>\n",
              "      <td>Fake</td>\n",
              "    </tr>\n",
              "    <tr>\n",
              "      <th>23</th>\n",
              "      <td>\\nThe Deep State’s most prescient elements mus...</td>\n",
              "      <td>Fake</td>\n",
              "    </tr>\n",
              "    <tr>\n",
              "      <th>24</th>\n",
              "      <td>RIO DE JANEIRO  —   Soon after the first news ...</td>\n",
              "      <td>True</td>\n",
              "    </tr>\n",
              "    <tr>\n",
              "      <th>25</th>\n",
              "      <td>LOS ANGELES  —     anthropomorphic food. Meryl...</td>\n",
              "      <td>True</td>\n",
              "    </tr>\n",
              "    <tr>\n",
              "      <th>26</th>\n",
              "      <td>by Michael Pento, Market Oracle : \\nOn electio...</td>\n",
              "      <td>Fake</td>\n",
              "    </tr>\n",
              "    <tr>\n",
              "      <th>27</th>\n",
              "      <td>ABOARD WAVERTREE IN KILL VAN KULL  —   In the ...</td>\n",
              "      <td>True</td>\n",
              "    </tr>\n",
              "    <tr>\n",
              "      <th>28</th>\n",
              "      <td>Ying and Yang (the Gold and Silver Set-Up) Pos...</td>\n",
              "      <td>Fake</td>\n",
              "    </tr>\n",
              "    <tr>\n",
              "      <th>29</th>\n",
              "      <td>By Sarah Jones on Tue, Nov 1st, 2016 at 11:48 ...</td>\n",
              "      <td>Fake</td>\n",
              "    </tr>\n",
              "  </tbody>\n",
              "</table>\n",
              "</div>"
            ],
            "text/plain": [
              "                                                 text label\n",
              "0   President Donald Trump signaled his support fo...  True\n",
              "1   Trump and Brexit Defeat Globalism, for Now Any...  Fake\n",
              "2   NASA is getting new looks at Jupiter, from clo...  True\n",
              "3   (Before It's News)\\nAs advanced as our Job Pos...  Fake\n",
              "4   In my timeline it was Michael Barage, Rump and...  Fake\n",
              "5   In the tech business, you often invent the pro...  True\n",
              "6   WASHINGTON  —   Navy SEALs led an unsuccessful...  True\n",
              "7   “Be ye therefore perfect . . . even as your Fa...  Fake\n",
              "8                                                      Fake\n",
              "9   Images reveal crashed Schiaparelli Mars lander...  Fake\n",
              "10  The   RB singer Chris Brown was arrested by th...  True\n",
              "11  LONDON  —   Joe Corré, the son of Malcolm McLa...  True\n",
              "12  Tweet Widget A Black Agenda Radio commentary b...  Fake\n",
              "13  1861 Views October 29, 2016 10 Comments Guest ...  Fake\n",
              "14    The Top 5 Conspiracy Theories That Were Prov...  Fake\n",
              "15  On Tuesday’s “Good Morning America,”   George ...  True\n",
              "16  Share on Facebook Share on Twitter Human histo...  Fake\n",
              "17  By Tera Graham\\nWe spend an overwhelming amoun...  Fake\n",
              "18  By Lasha Darkmoon on November 1, 2016 Tom Leon...  Fake\n",
              "19  Home / BREAKING NEWS / DAPL Protesters Proven ...  Fake\n",
              "20  Updated, 10:34 a. m. Good morning on this temp...  True\n",
              "21  Senator John McCain, the 2008 Republican presi...  True\n",
              "22  \\nAn absolutely astonishing Security Council (...  Fake\n",
              "23  \\nThe Deep State’s most prescient elements mus...  Fake\n",
              "24  RIO DE JANEIRO  —   Soon after the first news ...  True\n",
              "25  LOS ANGELES  —     anthropomorphic food. Meryl...  True\n",
              "26  by Michael Pento, Market Oracle : \\nOn electio...  Fake\n",
              "27  ABOARD WAVERTREE IN KILL VAN KULL  —   In the ...  True\n",
              "28  Ying and Yang (the Gold and Silver Set-Up) Pos...  Fake\n",
              "29  By Sarah Jones on Tue, Nov 1st, 2016 at 11:48 ...  Fake"
            ]
          },
          "metadata": {
            "tags": []
          },
          "execution_count": 200
        }
      ]
    },
    {
      "cell_type": "code",
      "metadata": {
        "colab": {
          "base_uri": "https://localhost:8080/",
          "height": 927
        },
        "id": "w5NPCLt0Hmg4",
        "outputId": "a24bf701-3a7a-4068-fcdb-4cb88b8dbea2"
      },
      "source": [
        "df_raw_tfid.head(30)"
      ],
      "execution_count": null,
      "outputs": [
        {
          "output_type": "execute_result",
          "data": {
            "text/html": [
              "<div>\n",
              "<style scoped>\n",
              "    .dataframe tbody tr th:only-of-type {\n",
              "        vertical-align: middle;\n",
              "    }\n",
              "\n",
              "    .dataframe tbody tr th {\n",
              "        vertical-align: top;\n",
              "    }\n",
              "\n",
              "    .dataframe thead th {\n",
              "        text-align: right;\n",
              "    }\n",
              "</style>\n",
              "<table border=\"1\" class=\"dataframe\">\n",
              "  <thead>\n",
              "    <tr style=\"text-align: right;\">\n",
              "      <th></th>\n",
              "      <th>text</th>\n",
              "      <th>label</th>\n",
              "      <th>TotalWords</th>\n",
              "      <th>Lemmatised_words</th>\n",
              "    </tr>\n",
              "  </thead>\n",
              "  <tbody>\n",
              "    <tr>\n",
              "      <th>0</th>\n",
              "      <td>President Donald Trump signaled his support fo...</td>\n",
              "      <td>0</td>\n",
              "      <td>144</td>\n",
              "      <td>['president', 'donald', 'trump', 'signal', 'su...</td>\n",
              "    </tr>\n",
              "    <tr>\n",
              "      <th>1</th>\n",
              "      <td>Trump and Brexit Defeat Globalism, for Now Any...</td>\n",
              "      <td>1</td>\n",
              "      <td>1104</td>\n",
              "      <td>['trump', 'brexit', 'defeat', 'globalism', 'an...</td>\n",
              "    </tr>\n",
              "    <tr>\n",
              "      <th>2</th>\n",
              "      <td>NASA is getting new looks at Jupiter, from clo...</td>\n",
              "      <td>0</td>\n",
              "      <td>286</td>\n",
              "      <td>['nasa', 'get', 'new', 'look', 'jupiter', 'clo...</td>\n",
              "    </tr>\n",
              "    <tr>\n",
              "      <th>3</th>\n",
              "      <td>(Before It's News)\\nAs advanced as our Job Pos...</td>\n",
              "      <td>1</td>\n",
              "      <td>244</td>\n",
              "      <td>['news', 'advance', 'job', 'post', 'analytics'...</td>\n",
              "    </tr>\n",
              "    <tr>\n",
              "      <th>4</th>\n",
              "      <td>In my timeline it was Michael Barage, Rump and...</td>\n",
              "      <td>1</td>\n",
              "      <td>45</td>\n",
              "      <td>['timeline', 'michael', 'barage', 'rump', 'bil...</td>\n",
              "    </tr>\n",
              "    <tr>\n",
              "      <th>5</th>\n",
              "      <td>In the tech business, you often invent the pro...</td>\n",
              "      <td>0</td>\n",
              "      <td>871</td>\n",
              "      <td>['tech', 'business', 'often', 'invent', 'produ...</td>\n",
              "    </tr>\n",
              "    <tr>\n",
              "      <th>6</th>\n",
              "      <td>WASHINGTON  —   Navy SEALs led an unsuccessful...</td>\n",
              "      <td>0</td>\n",
              "      <td>998</td>\n",
              "      <td>['washington', 'navy', 'seal', 'lead', 'unsucc...</td>\n",
              "    </tr>\n",
              "    <tr>\n",
              "      <th>7</th>\n",
              "      <td>“Be ye therefore perfect . . . even as your Fa...</td>\n",
              "      <td>1</td>\n",
              "      <td>774</td>\n",
              "      <td>['ye', 'therefore', 'perfect', 'even', 'father...</td>\n",
              "    </tr>\n",
              "    <tr>\n",
              "      <th>8</th>\n",
              "      <td></td>\n",
              "      <td>1</td>\n",
              "      <td>0</td>\n",
              "      <td>[]</td>\n",
              "    </tr>\n",
              "    <tr>\n",
              "      <th>9</th>\n",
              "      <td>Images reveal crashed Schiaparelli Mars lander...</td>\n",
              "      <td>1</td>\n",
              "      <td>319</td>\n",
              "      <td>['image', 'reveal', 'crash', 'schiaparelli', '...</td>\n",
              "    </tr>\n",
              "    <tr>\n",
              "      <th>10</th>\n",
              "      <td>The   RB singer Chris Brown was arrested by th...</td>\n",
              "      <td>0</td>\n",
              "      <td>460</td>\n",
              "      <td>['rb', 'singer', 'chris', 'brown', 'arrest', '...</td>\n",
              "    </tr>\n",
              "    <tr>\n",
              "      <th>11</th>\n",
              "      <td>LONDON  —   Joe Corré, the son of Malcolm McLa...</td>\n",
              "      <td>0</td>\n",
              "      <td>847</td>\n",
              "      <td>['london', 'joe', 'corré', 'son', 'malcolm', '...</td>\n",
              "    </tr>\n",
              "    <tr>\n",
              "      <th>12</th>\n",
              "      <td>Tweet Widget A Black Agenda Radio commentary b...</td>\n",
              "      <td>1</td>\n",
              "      <td>740</td>\n",
              "      <td>['tweet', 'widget', 'black', 'agenda', 'radio'...</td>\n",
              "    </tr>\n",
              "    <tr>\n",
              "      <th>13</th>\n",
              "      <td>1861 Views October 29, 2016 10 Comments Guest ...</td>\n",
              "      <td>1</td>\n",
              "      <td>1622</td>\n",
              "      <td>['view', 'october', 'comment', 'guest', 'post'...</td>\n",
              "    </tr>\n",
              "    <tr>\n",
              "      <th>14</th>\n",
              "      <td>The Top 5 Conspiracy Theories That Were Prov...</td>\n",
              "      <td>1</td>\n",
              "      <td>842</td>\n",
              "      <td>['top', 'conspiracy', 'theory', 'prove', 'true...</td>\n",
              "    </tr>\n",
              "    <tr>\n",
              "      <th>15</th>\n",
              "      <td>On Tuesday’s “Good Morning America,”   George ...</td>\n",
              "      <td>0</td>\n",
              "      <td>131</td>\n",
              "      <td>['tuesday', 'good', 'morning', 'america', 'geo...</td>\n",
              "    </tr>\n",
              "    <tr>\n",
              "      <th>16</th>\n",
              "      <td>Share on Facebook Share on Twitter Human histo...</td>\n",
              "      <td>1</td>\n",
              "      <td>1173</td>\n",
              "      <td>['share', 'facebook', 'share', 'twitter', 'hum...</td>\n",
              "    </tr>\n",
              "    <tr>\n",
              "      <th>17</th>\n",
              "      <td>By Tera Graham\\nWe spend an overwhelming amoun...</td>\n",
              "      <td>1</td>\n",
              "      <td>775</td>\n",
              "      <td>['tera', 'graham', 'spend', 'overwhelming', 'a...</td>\n",
              "    </tr>\n",
              "    <tr>\n",
              "      <th>18</th>\n",
              "      <td>By Lasha Darkmoon on November 1, 2016 Tom Leon...</td>\n",
              "      <td>1</td>\n",
              "      <td>1046</td>\n",
              "      <td>['lasha', 'darkmoon', 'november', 'tom', 'leon...</td>\n",
              "    </tr>\n",
              "    <tr>\n",
              "      <th>19</th>\n",
              "      <td>Home / BREAKING NEWS / DAPL Protesters Proven ...</td>\n",
              "      <td>1</td>\n",
              "      <td>1470</td>\n",
              "      <td>['home', 'break', 'news', 'dapl', 'protester',...</td>\n",
              "    </tr>\n",
              "    <tr>\n",
              "      <th>20</th>\n",
              "      <td>Updated, 10:34 a. m. Good morning on this temp...</td>\n",
              "      <td>0</td>\n",
              "      <td>1050</td>\n",
              "      <td>['updated', 'good', 'morning', 'temperate', 't...</td>\n",
              "    </tr>\n",
              "    <tr>\n",
              "      <th>21</th>\n",
              "      <td>Senator John McCain, the 2008 Republican presi...</td>\n",
              "      <td>0</td>\n",
              "      <td>865</td>\n",
              "      <td>['senator', 'john', 'mccain', 'republican', 'p...</td>\n",
              "    </tr>\n",
              "    <tr>\n",
              "      <th>22</th>\n",
              "      <td>\\nAn absolutely astonishing Security Council (...</td>\n",
              "      <td>1</td>\n",
              "      <td>971</td>\n",
              "      <td>['absolutely', 'astonishing', 'security', 'cou...</td>\n",
              "    </tr>\n",
              "    <tr>\n",
              "      <th>23</th>\n",
              "      <td>\\nThe Deep State’s most prescient elements mus...</td>\n",
              "      <td>1</td>\n",
              "      <td>560</td>\n",
              "      <td>['deep', 'state', 'prescient', 'element', 'mus...</td>\n",
              "    </tr>\n",
              "    <tr>\n",
              "      <th>24</th>\n",
              "      <td>RIO DE JANEIRO  —   Soon after the first news ...</td>\n",
              "      <td>0</td>\n",
              "      <td>1621</td>\n",
              "      <td>['rio', 'de', 'janeiro', 'soon', 'first', 'new...</td>\n",
              "    </tr>\n",
              "    <tr>\n",
              "      <th>25</th>\n",
              "      <td>LOS ANGELES  —     anthropomorphic food. Meryl...</td>\n",
              "      <td>0</td>\n",
              "      <td>356</td>\n",
              "      <td>['los', 'angeles', 'anthropomorphic', 'food', ...</td>\n",
              "    </tr>\n",
              "    <tr>\n",
              "      <th>26</th>\n",
              "      <td>by Michael Pento, Market Oracle : \\nOn electio...</td>\n",
              "      <td>1</td>\n",
              "      <td>983</td>\n",
              "      <td>['michael', 'pento', 'market', 'oracle', 'elec...</td>\n",
              "    </tr>\n",
              "    <tr>\n",
              "      <th>27</th>\n",
              "      <td>ABOARD WAVERTREE IN KILL VAN KULL  —   In the ...</td>\n",
              "      <td>0</td>\n",
              "      <td>977</td>\n",
              "      <td>['aboard', 'wavertree', 'kill', 'van', 'kull',...</td>\n",
              "    </tr>\n",
              "    <tr>\n",
              "      <th>28</th>\n",
              "      <td>Ying and Yang (the Gold and Silver Set-Up) Pos...</td>\n",
              "      <td>1</td>\n",
              "      <td>843</td>\n",
              "      <td>['ying', 'yang', 'gold', 'silver', 'post', 'ho...</td>\n",
              "    </tr>\n",
              "    <tr>\n",
              "      <th>29</th>\n",
              "      <td>By Sarah Jones on Tue, Nov 1st, 2016 at 11:48 ...</td>\n",
              "      <td>1</td>\n",
              "      <td>920</td>\n",
              "      <td>['sarah', 'jones', 'tue', 'nov', 'veteran', 's...</td>\n",
              "    </tr>\n",
              "  </tbody>\n",
              "</table>\n",
              "</div>"
            ],
            "text/plain": [
              "                                                 text  ...                                   Lemmatised_words\n",
              "0   President Donald Trump signaled his support fo...  ...  ['president', 'donald', 'trump', 'signal', 'su...\n",
              "1   Trump and Brexit Defeat Globalism, for Now Any...  ...  ['trump', 'brexit', 'defeat', 'globalism', 'an...\n",
              "2   NASA is getting new looks at Jupiter, from clo...  ...  ['nasa', 'get', 'new', 'look', 'jupiter', 'clo...\n",
              "3   (Before It's News)\\nAs advanced as our Job Pos...  ...  ['news', 'advance', 'job', 'post', 'analytics'...\n",
              "4   In my timeline it was Michael Barage, Rump and...  ...  ['timeline', 'michael', 'barage', 'rump', 'bil...\n",
              "5   In the tech business, you often invent the pro...  ...  ['tech', 'business', 'often', 'invent', 'produ...\n",
              "6   WASHINGTON  —   Navy SEALs led an unsuccessful...  ...  ['washington', 'navy', 'seal', 'lead', 'unsucc...\n",
              "7   “Be ye therefore perfect . . . even as your Fa...  ...  ['ye', 'therefore', 'perfect', 'even', 'father...\n",
              "8                                                      ...                                                 []\n",
              "9   Images reveal crashed Schiaparelli Mars lander...  ...  ['image', 'reveal', 'crash', 'schiaparelli', '...\n",
              "10  The   RB singer Chris Brown was arrested by th...  ...  ['rb', 'singer', 'chris', 'brown', 'arrest', '...\n",
              "11  LONDON  —   Joe Corré, the son of Malcolm McLa...  ...  ['london', 'joe', 'corré', 'son', 'malcolm', '...\n",
              "12  Tweet Widget A Black Agenda Radio commentary b...  ...  ['tweet', 'widget', 'black', 'agenda', 'radio'...\n",
              "13  1861 Views October 29, 2016 10 Comments Guest ...  ...  ['view', 'october', 'comment', 'guest', 'post'...\n",
              "14    The Top 5 Conspiracy Theories That Were Prov...  ...  ['top', 'conspiracy', 'theory', 'prove', 'true...\n",
              "15  On Tuesday’s “Good Morning America,”   George ...  ...  ['tuesday', 'good', 'morning', 'america', 'geo...\n",
              "16  Share on Facebook Share on Twitter Human histo...  ...  ['share', 'facebook', 'share', 'twitter', 'hum...\n",
              "17  By Tera Graham\\nWe spend an overwhelming amoun...  ...  ['tera', 'graham', 'spend', 'overwhelming', 'a...\n",
              "18  By Lasha Darkmoon on November 1, 2016 Tom Leon...  ...  ['lasha', 'darkmoon', 'november', 'tom', 'leon...\n",
              "19  Home / BREAKING NEWS / DAPL Protesters Proven ...  ...  ['home', 'break', 'news', 'dapl', 'protester',...\n",
              "20  Updated, 10:34 a. m. Good morning on this temp...  ...  ['updated', 'good', 'morning', 'temperate', 't...\n",
              "21  Senator John McCain, the 2008 Republican presi...  ...  ['senator', 'john', 'mccain', 'republican', 'p...\n",
              "22  \\nAn absolutely astonishing Security Council (...  ...  ['absolutely', 'astonishing', 'security', 'cou...\n",
              "23  \\nThe Deep State’s most prescient elements mus...  ...  ['deep', 'state', 'prescient', 'element', 'mus...\n",
              "24  RIO DE JANEIRO  —   Soon after the first news ...  ...  ['rio', 'de', 'janeiro', 'soon', 'first', 'new...\n",
              "25  LOS ANGELES  —     anthropomorphic food. Meryl...  ...  ['los', 'angeles', 'anthropomorphic', 'food', ...\n",
              "26  by Michael Pento, Market Oracle : \\nOn electio...  ...  ['michael', 'pento', 'market', 'oracle', 'elec...\n",
              "27  ABOARD WAVERTREE IN KILL VAN KULL  —   In the ...  ...  ['aboard', 'wavertree', 'kill', 'van', 'kull',...\n",
              "28  Ying and Yang (the Gold and Silver Set-Up) Pos...  ...  ['ying', 'yang', 'gold', 'silver', 'post', 'ho...\n",
              "29  By Sarah Jones on Tue, Nov 1st, 2016 at 11:48 ...  ...  ['sarah', 'jones', 'tue', 'nov', 'veteran', 's...\n",
              "\n",
              "[30 rows x 4 columns]"
            ]
          },
          "metadata": {
            "tags": []
          },
          "execution_count": 201
        }
      ]
    },
    {
      "cell_type": "code",
      "metadata": {
        "colab": {
          "base_uri": "https://localhost:8080/",
          "height": 399
        },
        "id": "go_NIOwixVqp",
        "outputId": "92f05139-ab88-490a-916d-79638a8f3a50"
      },
      "source": [
        "df_raw_tfid[\"text2\"]=\"null\"\n",
        "df_raw_tfid"
      ],
      "execution_count": null,
      "outputs": [
        {
          "output_type": "execute_result",
          "data": {
            "text/html": [
              "<div>\n",
              "<style scoped>\n",
              "    .dataframe tbody tr th:only-of-type {\n",
              "        vertical-align: middle;\n",
              "    }\n",
              "\n",
              "    .dataframe tbody tr th {\n",
              "        vertical-align: top;\n",
              "    }\n",
              "\n",
              "    .dataframe thead th {\n",
              "        text-align: right;\n",
              "    }\n",
              "</style>\n",
              "<table border=\"1\" class=\"dataframe\">\n",
              "  <thead>\n",
              "    <tr style=\"text-align: right;\">\n",
              "      <th></th>\n",
              "      <th>text</th>\n",
              "      <th>label</th>\n",
              "      <th>TotalWords</th>\n",
              "      <th>Lemmatised_words</th>\n",
              "      <th>text2</th>\n",
              "    </tr>\n",
              "  </thead>\n",
              "  <tbody>\n",
              "    <tr>\n",
              "      <th>0</th>\n",
              "      <td>President Donald Trump signaled his support fo...</td>\n",
              "      <td>0</td>\n",
              "      <td>144</td>\n",
              "      <td>['president', 'donald', 'trump', 'signal', 'su...</td>\n",
              "      <td>null</td>\n",
              "    </tr>\n",
              "    <tr>\n",
              "      <th>1</th>\n",
              "      <td>Trump and Brexit Defeat Globalism, for Now Any...</td>\n",
              "      <td>1</td>\n",
              "      <td>1104</td>\n",
              "      <td>['trump', 'brexit', 'defeat', 'globalism', 'an...</td>\n",
              "      <td>null</td>\n",
              "    </tr>\n",
              "    <tr>\n",
              "      <th>2</th>\n",
              "      <td>NASA is getting new looks at Jupiter, from clo...</td>\n",
              "      <td>0</td>\n",
              "      <td>286</td>\n",
              "      <td>['nasa', 'get', 'new', 'look', 'jupiter', 'clo...</td>\n",
              "      <td>null</td>\n",
              "    </tr>\n",
              "    <tr>\n",
              "      <th>3</th>\n",
              "      <td>(Before It's News)\\nAs advanced as our Job Pos...</td>\n",
              "      <td>1</td>\n",
              "      <td>244</td>\n",
              "      <td>['news', 'advance', 'job', 'post', 'analytics'...</td>\n",
              "      <td>null</td>\n",
              "    </tr>\n",
              "    <tr>\n",
              "      <th>4</th>\n",
              "      <td>In my timeline it was Michael Barage, Rump and...</td>\n",
              "      <td>1</td>\n",
              "      <td>45</td>\n",
              "      <td>['timeline', 'michael', 'barage', 'rump', 'bil...</td>\n",
              "      <td>null</td>\n",
              "    </tr>\n",
              "    <tr>\n",
              "      <th>...</th>\n",
              "      <td>...</td>\n",
              "      <td>...</td>\n",
              "      <td>...</td>\n",
              "      <td>...</td>\n",
              "      <td>...</td>\n",
              "    </tr>\n",
              "    <tr>\n",
              "      <th>2995</th>\n",
              "      <td>‹ › Arnaldo Rodgers is a trained and educated ...</td>\n",
              "      <td>1</td>\n",
              "      <td>268</td>\n",
              "      <td>['arnaldo', 'rodgers', 'trained', 'educated', ...</td>\n",
              "      <td>null</td>\n",
              "    </tr>\n",
              "    <tr>\n",
              "      <th>2996</th>\n",
              "      <td>.@CLewandowski_: ”I think Jim Comey is in big ...</td>\n",
              "      <td>0</td>\n",
              "      <td>198</td>\n",
              "      <td>['think', 'jim', 'comey', 'big', 'trouble', 'j...</td>\n",
              "      <td>null</td>\n",
              "    </tr>\n",
              "    <tr>\n",
              "      <th>2997</th>\n",
              "      <td>The stock market reached yet another new high ...</td>\n",
              "      <td>0</td>\n",
              "      <td>969</td>\n",
              "      <td>['stock', 'market', 'reach', 'yet', 'another',...</td>\n",
              "      <td>null</td>\n",
              "    </tr>\n",
              "    <tr>\n",
              "      <th>2998</th>\n",
              "      <td>Fastaqim Positions Overrun, Fighters Detained ...</td>\n",
              "      <td>1</td>\n",
              "      <td>207</td>\n",
              "      <td>['fastaqim', 'position', 'overrun', 'fighter',...</td>\n",
              "      <td>null</td>\n",
              "    </tr>\n",
              "    <tr>\n",
              "      <th>2999</th>\n",
              "      <td>The Trump Election Will Spark More Individual ...</td>\n",
              "      <td>1</td>\n",
              "      <td>926</td>\n",
              "      <td>['trump', 'election', 'spark', 'individual', '...</td>\n",
              "      <td>null</td>\n",
              "    </tr>\n",
              "  </tbody>\n",
              "</table>\n",
              "<p>3000 rows × 5 columns</p>\n",
              "</div>"
            ],
            "text/plain": [
              "                                                   text  ...  text2\n",
              "0     President Donald Trump signaled his support fo...  ...   null\n",
              "1     Trump and Brexit Defeat Globalism, for Now Any...  ...   null\n",
              "2     NASA is getting new looks at Jupiter, from clo...  ...   null\n",
              "3     (Before It's News)\\nAs advanced as our Job Pos...  ...   null\n",
              "4     In my timeline it was Michael Barage, Rump and...  ...   null\n",
              "...                                                 ...  ...    ...\n",
              "2995  ‹ › Arnaldo Rodgers is a trained and educated ...  ...   null\n",
              "2996  .@CLewandowski_: ”I think Jim Comey is in big ...  ...   null\n",
              "2997  The stock market reached yet another new high ...  ...   null\n",
              "2998  Fastaqim Positions Overrun, Fighters Detained ...  ...   null\n",
              "2999  The Trump Election Will Spark More Individual ...  ...   null\n",
              "\n",
              "[3000 rows x 5 columns]"
            ]
          },
          "metadata": {
            "tags": []
          },
          "execution_count": 202
        }
      ]
    },
    {
      "cell_type": "code",
      "metadata": {
        "colab": {
          "base_uri": "https://localhost:8080/",
          "height": 399
        },
        "id": "XJD2oTOR36_y",
        "outputId": "bfe330a4-2621-4fbb-839f-10bcc4872158"
      },
      "source": [
        "df_raw_tfid[\"text2\"]=df_raw_tfid[\"text\"].replace(to_replace=r\"[^A-Za-z0-9\\-]\", value=r\" \", regex=True)\n",
        "\n",
        "\n",
        "\n",
        "# Exclude stopwords with Python's list comprehension and pandas.DataFrame.apply.\n",
        "df_raw_tfid[\"text2\"] = df_raw_tfid[\"text2\"].apply(lambda x: ' '.join([word for word in x.lower().split() if word not in (stopwords_list)]))\n",
        "df_raw_tfid"
      ],
      "execution_count": null,
      "outputs": [
        {
          "output_type": "execute_result",
          "data": {
            "text/html": [
              "<div>\n",
              "<style scoped>\n",
              "    .dataframe tbody tr th:only-of-type {\n",
              "        vertical-align: middle;\n",
              "    }\n",
              "\n",
              "    .dataframe tbody tr th {\n",
              "        vertical-align: top;\n",
              "    }\n",
              "\n",
              "    .dataframe thead th {\n",
              "        text-align: right;\n",
              "    }\n",
              "</style>\n",
              "<table border=\"1\" class=\"dataframe\">\n",
              "  <thead>\n",
              "    <tr style=\"text-align: right;\">\n",
              "      <th></th>\n",
              "      <th>text</th>\n",
              "      <th>label</th>\n",
              "      <th>TotalWords</th>\n",
              "      <th>Lemmatised_words</th>\n",
              "      <th>text2</th>\n",
              "    </tr>\n",
              "  </thead>\n",
              "  <tbody>\n",
              "    <tr>\n",
              "      <th>0</th>\n",
              "      <td>President Donald Trump signaled his support fo...</td>\n",
              "      <td>0</td>\n",
              "      <td>144</td>\n",
              "      <td>['president', 'donald', 'trump', 'signal', 'su...</td>\n",
              "      <td>president donald trump signaled support activi...</td>\n",
              "    </tr>\n",
              "    <tr>\n",
              "      <th>1</th>\n",
              "      <td>Trump and Brexit Defeat Globalism, for Now Any...</td>\n",
              "      <td>1</td>\n",
              "      <td>1104</td>\n",
              "      <td>['trump', 'brexit', 'defeat', 'globalism', 'an...</td>\n",
              "      <td>trump brexit defeat globalism anyway 14 2016 t...</td>\n",
              "    </tr>\n",
              "    <tr>\n",
              "      <th>2</th>\n",
              "      <td>NASA is getting new looks at Jupiter, from clo...</td>\n",
              "      <td>0</td>\n",
              "      <td>286</td>\n",
              "      <td>['nasa', 'get', 'new', 'look', 'jupiter', 'clo...</td>\n",
              "      <td>nasa getting new looks jupiter close far away ...</td>\n",
              "    </tr>\n",
              "    <tr>\n",
              "      <th>3</th>\n",
              "      <td>(Before It's News)\\nAs advanced as our Job Pos...</td>\n",
              "      <td>1</td>\n",
              "      <td>244</td>\n",
              "      <td>['news', 'advance', 'job', 'post', 'analytics'...</td>\n",
              "      <td>news advanced job posting analytics become inc...</td>\n",
              "    </tr>\n",
              "    <tr>\n",
              "      <th>4</th>\n",
              "      <td>In my timeline it was Michael Barage, Rump and...</td>\n",
              "      <td>1</td>\n",
              "      <td>45</td>\n",
              "      <td>['timeline', 'michael', 'barage', 'rump', 'bil...</td>\n",
              "      <td>timeline michael barage rump billary mandella ...</td>\n",
              "    </tr>\n",
              "    <tr>\n",
              "      <th>...</th>\n",
              "      <td>...</td>\n",
              "      <td>...</td>\n",
              "      <td>...</td>\n",
              "      <td>...</td>\n",
              "      <td>...</td>\n",
              "    </tr>\n",
              "    <tr>\n",
              "      <th>2995</th>\n",
              "      <td>‹ › Arnaldo Rodgers is a trained and educated ...</td>\n",
              "      <td>1</td>\n",
              "      <td>268</td>\n",
              "      <td>['arnaldo', 'rodgers', 'trained', 'educated', ...</td>\n",
              "      <td>arnaldo rodgers trained educated psychologist ...</td>\n",
              "    </tr>\n",
              "    <tr>\n",
              "      <th>2996</th>\n",
              "      <td>.@CLewandowski_: ”I think Jim Comey is in big ...</td>\n",
              "      <td>0</td>\n",
              "      <td>198</td>\n",
              "      <td>['think', 'jim', 'comey', 'big', 'trouble', 'j...</td>\n",
              "      <td>clewandowski think jim comey big trouble jim c...</td>\n",
              "    </tr>\n",
              "    <tr>\n",
              "      <th>2997</th>\n",
              "      <td>The stock market reached yet another new high ...</td>\n",
              "      <td>0</td>\n",
              "      <td>969</td>\n",
              "      <td>['stock', 'market', 'reach', 'yet', 'another',...</td>\n",
              "      <td>stock market reached yet another new high wedn...</td>\n",
              "    </tr>\n",
              "    <tr>\n",
              "      <th>2998</th>\n",
              "      <td>Fastaqim Positions Overrun, Fighters Detained ...</td>\n",
              "      <td>1</td>\n",
              "      <td>207</td>\n",
              "      <td>['fastaqim', 'position', 'overrun', 'fighter',...</td>\n",
              "      <td>fastaqim positions overrun fighters detained j...</td>\n",
              "    </tr>\n",
              "    <tr>\n",
              "      <th>2999</th>\n",
              "      <td>The Trump Election Will Spark More Individual ...</td>\n",
              "      <td>1</td>\n",
              "      <td>926</td>\n",
              "      <td>['trump', 'election', 'spark', 'individual', '...</td>\n",
              "      <td>trump election spark individual collective hea...</td>\n",
              "    </tr>\n",
              "  </tbody>\n",
              "</table>\n",
              "<p>3000 rows × 5 columns</p>\n",
              "</div>"
            ],
            "text/plain": [
              "                                                   text  ...                                              text2\n",
              "0     President Donald Trump signaled his support fo...  ...  president donald trump signaled support activi...\n",
              "1     Trump and Brexit Defeat Globalism, for Now Any...  ...  trump brexit defeat globalism anyway 14 2016 t...\n",
              "2     NASA is getting new looks at Jupiter, from clo...  ...  nasa getting new looks jupiter close far away ...\n",
              "3     (Before It's News)\\nAs advanced as our Job Pos...  ...  news advanced job posting analytics become inc...\n",
              "4     In my timeline it was Michael Barage, Rump and...  ...  timeline michael barage rump billary mandella ...\n",
              "...                                                 ...  ...                                                ...\n",
              "2995  ‹ › Arnaldo Rodgers is a trained and educated ...  ...  arnaldo rodgers trained educated psychologist ...\n",
              "2996  .@CLewandowski_: ”I think Jim Comey is in big ...  ...  clewandowski think jim comey big trouble jim c...\n",
              "2997  The stock market reached yet another new high ...  ...  stock market reached yet another new high wedn...\n",
              "2998  Fastaqim Positions Overrun, Fighters Detained ...  ...  fastaqim positions overrun fighters detained j...\n",
              "2999  The Trump Election Will Spark More Individual ...  ...  trump election spark individual collective hea...\n",
              "\n",
              "[3000 rows x 5 columns]"
            ]
          },
          "metadata": {
            "tags": []
          },
          "execution_count": 203
        }
      ]
    },
    {
      "cell_type": "code",
      "metadata": {
        "id": "phPL2YrMIYx2"
      },
      "source": [
        "from nltk import tokenize\n",
        "\n",
        "token_space = tokenize.WhitespaceTokenizer()\n",
        "\n",
        "def counter(text, column_text, quantity):\n",
        " \n",
        "    all_words = ' '.join([text for text in text[column_text]])\n",
        "   \n",
        "\n",
        "    token_phrase = token_space.tokenize(all_words)\n",
        "    frequency = nltk.FreqDist(token_phrase)\n",
        "    df_frequency = pd.DataFrame({\"Word\": list(frequency.keys()),\n",
        "                                   \"Frequency\": list(frequency.values())})\n",
        "    df_frequency = df_frequency.nlargest(columns = \"Frequency\", n = quantity)\n",
        "    plt.figure(figsize=(12,8))\n",
        "    ax = sns.barplot(data = df_frequency, x = \"Word\", y = \"Frequency\", color = 'blue')\n",
        "    ax.set(ylabel = \"Count\")\n",
        "    plt.xticks(rotation='vertical')\n",
        "    plt.show()"
      ],
      "execution_count": null,
      "outputs": []
    },
    {
      "cell_type": "code",
      "metadata": {
        "colab": {
          "base_uri": "https://localhost:8080/",
          "height": 548
        },
        "id": "gfsqq5WnIf9a",
        "outputId": "8498ee8f-9a9d-4252-eb51-f16cf579dbed"
      },
      "source": [
        "\n",
        "# Most frequent words in fake news\n",
        "counter(df_raw_tfid[df_raw_tfid[\"label\"] == 1], \"text2\", 20)"
      ],
      "execution_count": null,
      "outputs": [
        {
          "output_type": "display_data",
          "data": {
            "image/png": "[encoded data removed]",
            "text/plain": [
              "<Figure size 864x576 with 1 Axes>"
            ]
          },
          "metadata": {
            "tags": [],
            "needs_background": "light"
          }
        }
      ]
    },
    {
      "cell_type": "code",
      "metadata": {
        "colab": {
          "base_uri": "https://localhost:8080/",
          "height": 534
        },
        "id": "JdVFtUcY6rcx",
        "outputId": "58863562-f7a6-407f-b9c1-58ba542e52aa"
      },
      "source": [
        "# Most frequent words in real news\n",
        "counter(df_raw_tfid[df_raw_tfid[\"label\"] == 0], \"text2\", 20)"
      ],
      "execution_count": null,
      "outputs": [
        {
          "output_type": "display_data",
          "data": {
            "image/png": "[encoded data removed]",
            "text/plain": [
              "<Figure size 864x576 with 1 Axes>"
            ]
          },
          "metadata": {
            "tags": [],
            "needs_background": "light"
          }
        }
      ]
    },
    {
      "cell_type": "code",
      "metadata": {
        "colab": {
          "base_uri": "https://localhost:8080/",
          "height": 399
        },
        "id": "XMJyHa38sFBa",
        "outputId": "ee7ed332-ee85-4b3c-e738-113ff97993b2"
      },
      "source": [
        "df_raw_tfid[df_raw_tfid[\"label\"] == 1]"
      ],
      "execution_count": null,
      "outputs": [
        {
          "output_type": "execute_result",
          "data": {
            "text/html": [
              "<div>\n",
              "<style scoped>\n",
              "    .dataframe tbody tr th:only-of-type {\n",
              "        vertical-align: middle;\n",
              "    }\n",
              "\n",
              "    .dataframe tbody tr th {\n",
              "        vertical-align: top;\n",
              "    }\n",
              "\n",
              "    .dataframe thead th {\n",
              "        text-align: right;\n",
              "    }\n",
              "</style>\n",
              "<table border=\"1\" class=\"dataframe\">\n",
              "  <thead>\n",
              "    <tr style=\"text-align: right;\">\n",
              "      <th></th>\n",
              "      <th>text</th>\n",
              "      <th>label</th>\n",
              "      <th>TotalWords</th>\n",
              "      <th>Lemmatised_words</th>\n",
              "      <th>text2</th>\n",
              "    </tr>\n",
              "  </thead>\n",
              "  <tbody>\n",
              "    <tr>\n",
              "      <th>1</th>\n",
              "      <td>Trump and Brexit Defeat Globalism, for Now Any...</td>\n",
              "      <td>1</td>\n",
              "      <td>1104</td>\n",
              "      <td>['trump', 'brexit', 'defeat', 'globalism', 'an...</td>\n",
              "      <td>trump brexit defeat globalism anyway 14 2016 t...</td>\n",
              "    </tr>\n",
              "    <tr>\n",
              "      <th>3</th>\n",
              "      <td>(Before It's News)\\nAs advanced as our Job Pos...</td>\n",
              "      <td>1</td>\n",
              "      <td>244</td>\n",
              "      <td>['news', 'advance', 'job', 'post', 'analytics'...</td>\n",
              "      <td>news advanced job posting analytics become inc...</td>\n",
              "    </tr>\n",
              "    <tr>\n",
              "      <th>4</th>\n",
              "      <td>In my timeline it was Michael Barage, Rump and...</td>\n",
              "      <td>1</td>\n",
              "      <td>45</td>\n",
              "      <td>['timeline', 'michael', 'barage', 'rump', 'bil...</td>\n",
              "      <td>timeline michael barage rump billary mandella ...</td>\n",
              "    </tr>\n",
              "    <tr>\n",
              "      <th>7</th>\n",
              "      <td>“Be ye therefore perfect . . . even as your Fa...</td>\n",
              "      <td>1</td>\n",
              "      <td>774</td>\n",
              "      <td>['ye', 'therefore', 'perfect', 'even', 'father...</td>\n",
              "      <td>ye therefore perfect even father heaven perfec...</td>\n",
              "    </tr>\n",
              "    <tr>\n",
              "      <th>8</th>\n",
              "      <td></td>\n",
              "      <td>1</td>\n",
              "      <td>0</td>\n",
              "      <td>[]</td>\n",
              "      <td></td>\n",
              "    </tr>\n",
              "    <tr>\n",
              "      <th>...</th>\n",
              "      <td>...</td>\n",
              "      <td>...</td>\n",
              "      <td>...</td>\n",
              "      <td>...</td>\n",
              "      <td>...</td>\n",
              "    </tr>\n",
              "    <tr>\n",
              "      <th>2993</th>\n",
              "      <td>Короткая ссылка  25 Совет РАН по космосу утвер...</td>\n",
              "      <td>1</td>\n",
              "      <td>148</td>\n",
              "      <td>['короткая', 'ссылка', 'совет', 'ран', 'по', '...</td>\n",
              "      <td>25 - 10 - - 2 5 1 5 2013</td>\n",
              "    </tr>\n",
              "    <tr>\n",
              "      <th>2994</th>\n",
              "      <td>By Lance Schuttler\\nOn November 8th, 2016, hun...</td>\n",
              "      <td>1</td>\n",
              "      <td>669</td>\n",
              "      <td>['lance', 'schuttler', 'november', 'hundred', ...</td>\n",
              "      <td>lance schuttler november 8th 2016 hundreds pos...</td>\n",
              "    </tr>\n",
              "    <tr>\n",
              "      <th>2995</th>\n",
              "      <td>‹ › Arnaldo Rodgers is a trained and educated ...</td>\n",
              "      <td>1</td>\n",
              "      <td>268</td>\n",
              "      <td>['arnaldo', 'rodgers', 'trained', 'educated', ...</td>\n",
              "      <td>arnaldo rodgers trained educated psychologist ...</td>\n",
              "    </tr>\n",
              "    <tr>\n",
              "      <th>2998</th>\n",
              "      <td>Fastaqim Positions Overrun, Fighters Detained ...</td>\n",
              "      <td>1</td>\n",
              "      <td>207</td>\n",
              "      <td>['fastaqim', 'position', 'overrun', 'fighter',...</td>\n",
              "      <td>fastaqim positions overrun fighters detained j...</td>\n",
              "    </tr>\n",
              "    <tr>\n",
              "      <th>2999</th>\n",
              "      <td>The Trump Election Will Spark More Individual ...</td>\n",
              "      <td>1</td>\n",
              "      <td>926</td>\n",
              "      <td>['trump', 'election', 'spark', 'individual', '...</td>\n",
              "      <td>trump election spark individual collective hea...</td>\n",
              "    </tr>\n",
              "  </tbody>\n",
              "</table>\n",
              "<p>1700 rows × 5 columns</p>\n",
              "</div>"
            ],
            "text/plain": [
              "                                                   text  ...                                              text2\n",
              "1     Trump and Brexit Defeat Globalism, for Now Any...  ...  trump brexit defeat globalism anyway 14 2016 t...\n",
              "3     (Before It's News)\\nAs advanced as our Job Pos...  ...  news advanced job posting analytics become inc...\n",
              "4     In my timeline it was Michael Barage, Rump and...  ...  timeline michael barage rump billary mandella ...\n",
              "7     “Be ye therefore perfect . . . even as your Fa...  ...  ye therefore perfect even father heaven perfec...\n",
              "8                                                        ...                                                   \n",
              "...                                                 ...  ...                                                ...\n",
              "2993  Короткая ссылка  25 Совет РАН по космосу утвер...  ...                           25 - 10 - - 2 5 1 5 2013\n",
              "2994  By Lance Schuttler\\nOn November 8th, 2016, hun...  ...  lance schuttler november 8th 2016 hundreds pos...\n",
              "2995  ‹ › Arnaldo Rodgers is a trained and educated ...  ...  arnaldo rodgers trained educated psychologist ...\n",
              "2998  Fastaqim Positions Overrun, Fighters Detained ...  ...  fastaqim positions overrun fighters detained j...\n",
              "2999  The Trump Election Will Spark More Individual ...  ...  trump election spark individual collective hea...\n",
              "\n",
              "[1700 rows x 5 columns]"
            ]
          },
          "metadata": {
            "tags": []
          },
          "execution_count": 207
        }
      ]
    },
    {
      "cell_type": "code",
      "metadata": {
        "id": "Q96_JRB9Hmg4"
      },
      "source": [
        "bi_class['TotalWords'] = bi_class['text'].str.split().str.len()"
      ],
      "execution_count": null,
      "outputs": []
    },
    {
      "cell_type": "code",
      "metadata": {
        "id": "LfXyOWUFHmg4"
      },
      "source": [
        "X = df_raw_tfid[['Lemmatised_words', 'TotalWords','text']]\n",
        "\n",
        "Y= df_raw_tfid['label']"
      ],
      "execution_count": null,
      "outputs": []
    },
    {
      "cell_type": "code",
      "metadata": {
        "id": "9cdi4aeEHmg5"
      },
      "source": [
        "X_train, X_test, y_train, y_test = train_test_split(X, Y, test_size=0.25)"
      ],
      "execution_count": null,
      "outputs": []
    },
    {
      "cell_type": "code",
      "metadata": {
        "colab": {
          "base_uri": "https://localhost:8080/",
          "height": 194
        },
        "id": "080lRwHhHmg5",
        "outputId": "b81adca9-4e7c-430a-a726-105759968acf"
      },
      "source": [
        "X_train.head()"
      ],
      "execution_count": null,
      "outputs": [
        {
          "output_type": "execute_result",
          "data": {
            "text/html": [
              "<div>\n",
              "<style scoped>\n",
              "    .dataframe tbody tr th:only-of-type {\n",
              "        vertical-align: middle;\n",
              "    }\n",
              "\n",
              "    .dataframe tbody tr th {\n",
              "        vertical-align: top;\n",
              "    }\n",
              "\n",
              "    .dataframe thead th {\n",
              "        text-align: right;\n",
              "    }\n",
              "</style>\n",
              "<table border=\"1\" class=\"dataframe\">\n",
              "  <thead>\n",
              "    <tr style=\"text-align: right;\">\n",
              "      <th></th>\n",
              "      <th>Lemmatised_words</th>\n",
              "      <th>TotalWords</th>\n",
              "      <th>text</th>\n",
              "    </tr>\n",
              "  </thead>\n",
              "  <tbody>\n",
              "    <tr>\n",
              "      <th>1733</th>\n",
              "      <td>['washington', 'kellyanne', 'conway', 'counsel...</td>\n",
              "      <td>431</td>\n",
              "      <td>WASHINGTON  —   Kellyanne Conway, counselor to...</td>\n",
              "    </tr>\n",
              "    <tr>\n",
              "      <th>2078</th>\n",
              "      <td>['headline', 'news', 'report', 'flood', 'accou...</td>\n",
              "      <td>568</td>\n",
              "      <td>Headlines and news reports have been flooded w...</td>\n",
              "    </tr>\n",
              "    <tr>\n",
              "      <th>2132</th>\n",
              "      <td>['jane', 'bailey', 'jane', 'bailey', 'author',...</td>\n",
              "      <td>1381</td>\n",
              "      <td>Jane Bailey Jane Bailey is a self-published au...</td>\n",
              "    </tr>\n",
              "    <tr>\n",
              "      <th>1923</th>\n",
              "      <td>['obama', 'secret', 'muslim', 'list', 'enemy',...</td>\n",
              "      <td>1170</td>\n",
              "      <td>Obama’s Secret Muslim List Why enemies of Isra...</td>\n",
              "    </tr>\n",
              "    <tr>\n",
              "      <th>1913</th>\n",
              "      <td>['woman', 'trend', 'guess', 'suddenly', 'seem'...</td>\n",
              "      <td>804</td>\n",
              "      <td>Are women trending? I guess they are! Suddenly...</td>\n",
              "    </tr>\n",
              "  </tbody>\n",
              "</table>\n",
              "</div>"
            ],
            "text/plain": [
              "                                       Lemmatised_words  ...                                               text\n",
              "1733  ['washington', 'kellyanne', 'conway', 'counsel...  ...  WASHINGTON  —   Kellyanne Conway, counselor to...\n",
              "2078  ['headline', 'news', 'report', 'flood', 'accou...  ...  Headlines and news reports have been flooded w...\n",
              "2132  ['jane', 'bailey', 'jane', 'bailey', 'author',...  ...  Jane Bailey Jane Bailey is a self-published au...\n",
              "1923  ['obama', 'secret', 'muslim', 'list', 'enemy',...  ...  Obama’s Secret Muslim List Why enemies of Isra...\n",
              "1913  ['woman', 'trend', 'guess', 'suddenly', 'seem'...  ...  Are women trending? I guess they are! Suddenly...\n",
              "\n",
              "[5 rows x 3 columns]"
            ]
          },
          "metadata": {
            "tags": []
          },
          "execution_count": 211
        }
      ]
    },
    {
      "cell_type": "code",
      "metadata": {
        "colab": {
          "base_uri": "https://localhost:8080/"
        },
        "id": "zI2qGRMkHmg5",
        "outputId": "c64f834f-3d21-48e2-d955-e791d4fbdc9c"
      },
      "source": [
        "y_train.head()"
      ],
      "execution_count": null,
      "outputs": [
        {
          "output_type": "execute_result",
          "data": {
            "text/plain": [
              "1733    0\n",
              "2078    1\n",
              "2132    1\n",
              "1923    1\n",
              "1913    0\n",
              "Name: label, dtype: int64"
            ]
          },
          "metadata": {
            "tags": []
          },
          "execution_count": 212
        }
      ]
    },
    {
      "cell_type": "code",
      "metadata": {
        "id": "foAnLYqoHmg5"
      },
      "source": [
        "\n",
        "classifier_biclass = Pipeline([\n",
        "    ('features', FeatureUnion([\n",
        "        ('text', Pipeline([\n",
        "            ('colext', TextSelector('text')),\n",
        "            ('tfidf', TfidfVectorizer(analyzer='word',preprocessor=preprocess, tokenizer=Tokenizer, stop_words=stopwords_list,\n",
        "                     min_df=.0025, max_df=0.25, ngram_range=(1,3))),\n",
        "                       ('svd', TruncatedSVD(algorithm='randomized', n_components=300)),\n",
        "            \n",
        "        ])),\n",
        "        ('words', Pipeline([\n",
        "            ('wordext', NumberSelector('TotalWords')),\n",
        "            ('wscaler', StandardScaler()),\n",
        "        ])),\n",
        "    ])),\n",
        "    ('clf', LogisticRegression(solver='liblinear', random_state=0)),\n",
        "    ])"
      ],
      "execution_count": null,
      "outputs": []
    },
    {
      "cell_type": "code",
      "metadata": {
        "colab": {
          "base_uri": "https://localhost:8080/"
        },
        "id": "kA78-HraHmg6",
        "outputId": "c6b91502-c029-4f39-f15f-7ec6a5637d3b"
      },
      "source": [
        "a=classifier_biclass.fit(X_train, y_train)\n",
        "a_predictions = a.predict(X_test)\n",
        "\n",
        "\n",
        "print_scores(a_predictions)"
      ],
      "execution_count": null,
      "outputs": [
        {
          "output_type": "stream",
          "text": [
            "Accuracy:  0.916\n",
            "              precision    recall  f1-score   support\n",
            "\n",
            "           0       0.93      0.86      0.89       305\n",
            "           1       0.91      0.95      0.93       445\n",
            "\n",
            "    accuracy                           0.92       750\n",
            "   macro avg       0.92      0.91      0.91       750\n",
            "weighted avg       0.92      0.92      0.92       750\n",
            "\n",
            "[[263  42]\n",
            " [ 21 424]]\n"
          ],
          "name": "stdout"
        }
      ]
    },
    {
      "cell_type": "code",
      "metadata": {
        "colab": {
          "base_uri": "https://localhost:8080/"
        },
        "id": "LLrlraWAHmg6",
        "outputId": "02ed7de5-6b97-4616-ba0f-8bc8f986d803"
      },
      "source": [
        "score3=accuracy_score(y_test,a_predictions)\n",
        "LRS=round(score3*100,2)\n",
        "print(f'Accuracy: {LRS}%')"
      ],
      "execution_count": null,
      "outputs": [
        {
          "output_type": "stream",
          "text": [
            "Accuracy: 91.6%\n"
          ],
          "name": "stdout"
        }
      ]
    },
    {
      "cell_type": "code",
      "metadata": {
        "colab": {
          "base_uri": "https://localhost:8080/",
          "height": 194
        },
        "id": "fNQgh5YNHmg6",
        "outputId": "731b6719-582b-4a6b-8bad-dbaa822e8def"
      },
      "source": [
        "X_test.head()"
      ],
      "execution_count": null,
      "outputs": [
        {
          "output_type": "execute_result",
          "data": {
            "text/html": [
              "<div>\n",
              "<style scoped>\n",
              "    .dataframe tbody tr th:only-of-type {\n",
              "        vertical-align: middle;\n",
              "    }\n",
              "\n",
              "    .dataframe tbody tr th {\n",
              "        vertical-align: top;\n",
              "    }\n",
              "\n",
              "    .dataframe thead th {\n",
              "        text-align: right;\n",
              "    }\n",
              "</style>\n",
              "<table border=\"1\" class=\"dataframe\">\n",
              "  <thead>\n",
              "    <tr style=\"text-align: right;\">\n",
              "      <th></th>\n",
              "      <th>Lemmatised_words</th>\n",
              "      <th>TotalWords</th>\n",
              "      <th>text</th>\n",
              "    </tr>\n",
              "  </thead>\n",
              "  <tbody>\n",
              "    <tr>\n",
              "      <th>1274</th>\n",
              "      <td>['november', 'nuclear', 'weapon', 'foreign', '...</td>\n",
              "      <td>203</td>\n",
              "      <td>November 11, 2016 Nuclear weapons: how foreign...</td>\n",
              "    </tr>\n",
              "    <tr>\n",
              "      <th>1933</th>\n",
              "      <td>['great', 'wall', 'con', 'job', 'part', 'recov...</td>\n",
              "      <td>280</td>\n",
              "      <td>The Great Wall Street/Washington Con Job: Part...</td>\n",
              "    </tr>\n",
              "    <tr>\n",
              "      <th>954</th>\n",
              "      <td>['photo', 'u', 'army', 'cc', 'list', 'notewort...</td>\n",
              "      <td>2034</td>\n",
              "      <td>Photo by The U.S. Army | CC BY 2.0 \\n\\nHere is...</td>\n",
              "    </tr>\n",
              "    <tr>\n",
              "      <th>620</th>\n",
              "      <td>['comment', 'megyn', 'kelly', 'seem', 'think',...</td>\n",
              "      <td>842</td>\n",
              "      <td>0 comments \\nMegyn Kelly seems to think that s...</td>\n",
              "    </tr>\n",
              "    <tr>\n",
              "      <th>936</th>\n",
              "      <td>['videos', 'police', 'department', 'refuse', '...</td>\n",
              "      <td>1163</td>\n",
              "      <td>Videos Police Departments Refuse Participation...</td>\n",
              "    </tr>\n",
              "  </tbody>\n",
              "</table>\n",
              "</div>"
            ],
            "text/plain": [
              "                                       Lemmatised_words  ...                                               text\n",
              "1274  ['november', 'nuclear', 'weapon', 'foreign', '...  ...  November 11, 2016 Nuclear weapons: how foreign...\n",
              "1933  ['great', 'wall', 'con', 'job', 'part', 'recov...  ...  The Great Wall Street/Washington Con Job: Part...\n",
              "954   ['photo', 'u', 'army', 'cc', 'list', 'notewort...  ...  Photo by The U.S. Army | CC BY 2.0 \\n\\nHere is...\n",
              "620   ['comment', 'megyn', 'kelly', 'seem', 'think',...  ...  0 comments \\nMegyn Kelly seems to think that s...\n",
              "936   ['videos', 'police', 'department', 'refuse', '...  ...  Videos Police Departments Refuse Participation...\n",
              "\n",
              "[5 rows x 3 columns]"
            ]
          },
          "metadata": {
            "tags": []
          },
          "execution_count": 216
        }
      ]
    },
    {
      "cell_type": "code",
      "metadata": {
        "id": "X_AcIRbdA4A_"
      },
      "source": [
        ""
      ],
      "execution_count": null,
      "outputs": []
    },
    {
      "cell_type": "code",
      "metadata": {
        "colab": {
          "base_uri": "https://localhost:8080/",
          "height": 295
        },
        "id": "zkF1el8hHmg6",
        "outputId": "0f52bd1a-b8bd-44f6-a24f-0e3fc2dca80e"
      },
      "source": [
        "matrix=confusion_matrix(y_test, a_predictions) # getting the results of confusion matrix from the classification.\n",
        "sns.heatmap(matrix, annot = True,fmt='g')       # printing the matrix\n",
        "plt.title('Logistic Regression  Confusion-Matrix')\n",
        "plt.ylabel('True labels')\n",
        "plt.xlabel('Predicted labels');"
      ],
      "execution_count": null,
      "outputs": [
        {
          "output_type": "display_data",
          "data": {
            "image/png": "[encoded data removed]",
            "text/plain": [
              "<Figure size 432x288 with 2 Axes>"
            ]
          },
          "metadata": {
            "tags": [],
            "needs_background": "light"
          }
        }
      ]
    },
    {
      "cell_type": "code",
      "metadata": {
        "colab": {
          "base_uri": "https://localhost:8080/"
        },
        "id": "Rb8dNcbuHmg7",
        "outputId": "c8fbf10a-b4f5-41a6-cff0-9ad296aefb44"
      },
      "source": [
        "classifier_biclass.set_params(clf=GaussianNB())\n",
        "b=classifier_biclass.fit(X_train, y_train)\n",
        "b_predictions = b.predict(X_test)\n",
        "print_scores(b_predictions)"
      ],
      "execution_count": null,
      "outputs": [
        {
          "output_type": "stream",
          "text": [
            "Accuracy:  0.6053333333333333\n",
            "              precision    recall  f1-score   support\n",
            "\n",
            "           0       0.51      0.97      0.67       305\n",
            "           1       0.95      0.36      0.52       445\n",
            "\n",
            "    accuracy                           0.61       750\n",
            "   macro avg       0.73      0.66      0.59       750\n",
            "weighted avg       0.77      0.61      0.58       750\n",
            "\n",
            "[[296   9]\n",
            " [287 158]]\n"
          ],
          "name": "stdout"
        }
      ]
    },
    {
      "cell_type": "code",
      "metadata": {
        "colab": {
          "base_uri": "https://localhost:8080/"
        },
        "id": "WKH16RtTHmg7",
        "outputId": "f0945783-7bd1-40ff-e04f-60be6e796775"
      },
      "source": [
        "score3=accuracy_score(y_test,b_predictions)\n",
        "GNB=round(score3*100,2)\n",
        "print(f'Accuracy: {GNB}%')"
      ],
      "execution_count": null,
      "outputs": [
        {
          "output_type": "stream",
          "text": [
            "Accuracy: 60.53%\n"
          ],
          "name": "stdout"
        }
      ]
    },
    {
      "cell_type": "code",
      "metadata": {
        "colab": {
          "base_uri": "https://localhost:8080/",
          "height": 295
        },
        "id": "445Nd9fMHmg7",
        "outputId": "05016f80-a053-4fd6-e29b-a32e094b63ad"
      },
      "source": [
        "matrix=confusion_matrix(y_test, b_predictions) # getting the results of confusion matrix from the classification.\n",
        "sns.heatmap(matrix, annot = True,fmt='g')       # printing the matrix\n",
        "plt.title('Gaussian Naives Baiyes binary class Confusion-Matrix')\n",
        "plt.ylabel('True labels')\n",
        "plt.xlabel('Predicted labels');"
      ],
      "execution_count": null,
      "outputs": [
        {
          "output_type": "display_data",
          "data": {
            "image/png": "[encoded data removed]",
            "text/plain": [
              "<Figure size 432x288 with 2 Axes>"
            ]
          },
          "metadata": {
            "tags": [],
            "needs_background": "light"
          }
        }
      ]
    },
    {
      "cell_type": "code",
      "metadata": {
        "colab": {
          "base_uri": "https://localhost:8080/"
        },
        "id": "eo64ty3qHmg8",
        "outputId": "a5df3488-f004-490d-bd98-c53e08533872"
      },
      "source": [
        "classifier_biclass.set_params(clf=svm.SVC(C=1.0, kernel='linear', degree=3, gamma='auto',probability=True))\n",
        "c=classifier_biclass.fit(X_train, y_train)\n",
        "c_predictions = c.predict(X_test)\n",
        "\n",
        "print_scores(c_predictions)"
      ],
      "execution_count": null,
      "outputs": [
        {
          "output_type": "stream",
          "text": [
            "Accuracy:  0.9226666666666666\n",
            "              precision    recall  f1-score   support\n",
            "\n",
            "           0       0.91      0.90      0.90       305\n",
            "           1       0.93      0.94      0.93       445\n",
            "\n",
            "    accuracy                           0.92       750\n",
            "   macro avg       0.92      0.92      0.92       750\n",
            "weighted avg       0.92      0.92      0.92       750\n",
            "\n",
            "[[275  30]\n",
            " [ 28 417]]\n"
          ],
          "name": "stdout"
        }
      ]
    },
    {
      "cell_type": "code",
      "metadata": {
        "colab": {
          "base_uri": "https://localhost:8080/"
        },
        "id": "QXaMzJLQHmg8",
        "outputId": "c6ca03e4-70b7-470a-91b5-8eb06f044969"
      },
      "source": [
        "score3=accuracy_score(y_test,c_predictions)\n",
        "SVM=round(score3*100,2)\n",
        "print(f'Accuracy: {SVM}%')"
      ],
      "execution_count": null,
      "outputs": [
        {
          "output_type": "stream",
          "text": [
            "Accuracy: 92.27%\n"
          ],
          "name": "stdout"
        }
      ]
    },
    {
      "cell_type": "code",
      "metadata": {
        "colab": {
          "base_uri": "https://localhost:8080/",
          "height": 295
        },
        "id": "aQarLJ3kHmg9",
        "outputId": "9882ac93-362f-4e9c-abf3-e6a9f1d4b69b"
      },
      "source": [
        "matrix=confusion_matrix(y_test, c_predictions) # getting the results of confusion matrix from the classification.\n",
        "sns.heatmap(matrix, annot = True,fmt='g')       # printing the matrix\n",
        "plt.title('SVM binary class Confusion-Matrix')\n",
        "plt.ylabel('True labels')\n",
        "plt.xlabel('Predicted labels');"
      ],
      "execution_count": null,
      "outputs": [
        {
          "output_type": "display_data",
          "data": {
            "image/png": "[encoded data removed]",
            "text/plain": [
              "<Figure size 432x288 with 2 Axes>"
            ]
          },
          "metadata": {
            "tags": [],
            "needs_background": "light"
          }
        }
      ]
    },
    {
      "cell_type": "code",
      "metadata": {
        "colab": {
          "base_uri": "https://localhost:8080/"
        },
        "id": "VpkYggOlHmg9",
        "outputId": "65e78731-3704-4e35-8897-a4a34d571fd3"
      },
      "source": [
        "labels={'LogisticRegressorClassifier':LRS,'GaussianNBClassifier':GNB,'SVM':SVM}\n",
        "for model,accuracy in labels.items():\n",
        "    print(str(model)+' : '+str(accuracy))"
      ],
      "execution_count": null,
      "outputs": [
        {
          "output_type": "stream",
          "text": [
            "LogisticRegressorClassifier : 91.6\n",
            "GaussianNBClassifier : 60.53\n",
            "SVM : 92.27\n"
          ],
          "name": "stdout"
        }
      ]
    },
    {
      "cell_type": "code",
      "metadata": {
        "colab": {
          "base_uri": "https://localhost:8080/",
          "height": 545
        },
        "id": "fYljCn3bHmg-",
        "outputId": "2786afa5-4c1a-47b5-e476-ebbe75b722e1"
      },
      "source": [
        "plt.figure(figsize=(10,8))\n",
        "plt.title('Comparing Accuracy of ML Models',fontsize=20)\n",
        "colors=['red','yellow','green']\n",
        "plt.xticks(fontsize=10,color='blue')\n",
        "plt.yticks(fontsize=20,color='blue')\n",
        "plt.ylabel('Accuracy',fontsize=20)\n",
        "plt.xlabel('Models',fontsize=20)\n",
        "plt.bar(labels.keys(),labels.values(),edgecolor='black',color=colors, linewidth=2,alpha=0.5)"
      ],
      "execution_count": null,
      "outputs": [
        {
          "output_type": "execute_result",
          "data": {
            "text/plain": [
              "<BarContainer object of 3 artists>"
            ]
          },
          "metadata": {
            "tags": []
          },
          "execution_count": 225
        },
        {
          "output_type": "display_data",
          "data": {
            "image/png": "[encoded data removed]",
            "text/plain": [
              "<Figure size 720x576 with 1 Axes>"
            ]
          },
          "metadata": {
            "tags": [],
            "needs_background": "light"
          }
        }
      ]
    },
    {
      "cell_type": "code",
      "metadata": {
        "id": "cg3z1CmeUxwy"
      },
      "source": [
        "\n",
        "def plot_roc_multi(X_test, y_true, models,save=False):\n",
        "    plt.figure(figsize=(10,6))\n",
        "    for name, model in models.items():\n",
        "        \n",
        "           \n",
        "        \n",
        "        \n",
        "        proba = model.predict_proba(X_test)[:, 1]\n",
        "        prediction =  model.predict(X_test)\n",
        "        fpr, tpr, thresh = metrics.roc_curve(y_true, proba)\n",
        "        accuracy = accuracy_score(y_true, prediction)\n",
        "            # roc_auc = auc(fpr, tpr)\n",
        "        label = \"%s - Accuracy %0.2f\" % (name, accuracy)\n",
        "        plt.plot(fpr, tpr, label=label)\n",
        "        \n",
        "\n",
        "    # 45 degree line\n",
        "    xx = np.linspace(0, 1.0, 20)\n",
        "    plt.plot(xx, xx)\n",
        "\n",
        "    plt.xlabel(\"FPR\")\n",
        "    plt.ylabel(\"TPR\")\n",
        "    plt.title(\"ROC curves\")\n",
        "    plt.legend()\n",
        "    if save:\n",
        "        plt.savefig('ROC_Curve')"
      ],
      "execution_count": null,
      "outputs": []
    },
    {
      "cell_type": "code",
      "metadata": {
        "id": "tiDnKC0uaac9"
      },
      "source": [
        "from sklearn import metrics"
      ],
      "execution_count": null,
      "outputs": []
    },
    {
      "cell_type": "code",
      "metadata": {
        "id": "K6KdsFqVHmg-"
      },
      "source": [
        "classifier_grid = Pipeline([\n",
        "    ('features', FeatureUnion([\n",
        "        ('text', Pipeline([\n",
        "            ('colext', TextSelector('text')),\n",
        "            ('tfidf', TfidfVectorizer(analyzer='char_wb', preprocessor=preprocess, tokenizer=Tokenizer, stop_words='english',\n",
        "                     min_df=.0025, max_df=0.25, ngram_range=(1,3))),\n",
        "            ('svd', TruncatedSVD(algorithm='randomized', n_components=300)), #for XGB\n",
        "        ])),\n",
        "        ('words', Pipeline([\n",
        "            ('wordext', NumberSelector('TotalWords')),\n",
        "            ('wscaler', StandardScaler()),\n",
        "        ])),\n",
        "    ])),\n",
        "    ('clf',None),\n",
        "    ])\n",
        "    \n",
        "param_grid={\n",
        "   # 'selector__k': [100, 50,150],\n",
        "    'clf': [LogisticRegression(solver='liblinear', random_state=0),\n",
        "    svm.SVC(C=1.0, kernel='linear', degree=3, gamma='auto',probability=True),GaussianNB() ],\n",
        "}\n"
      ],
      "execution_count": null,
      "outputs": []
    },
    {
      "cell_type": "code",
      "metadata": {
        "colab": {
          "base_uri": "https://localhost:8080/",
          "height": 399
        },
        "id": "MvUVFt-OHJOl",
        "outputId": "c6eda9fd-e2f4-41ad-f1e0-1fe01fc937e5"
      },
      "source": [
        "X_test"
      ],
      "execution_count": null,
      "outputs": [
        {
          "output_type": "execute_result",
          "data": {
            "text/html": [
              "<div>\n",
              "<style scoped>\n",
              "    .dataframe tbody tr th:only-of-type {\n",
              "        vertical-align: middle;\n",
              "    }\n",
              "\n",
              "    .dataframe tbody tr th {\n",
              "        vertical-align: top;\n",
              "    }\n",
              "\n",
              "    .dataframe thead th {\n",
              "        text-align: right;\n",
              "    }\n",
              "</style>\n",
              "<table border=\"1\" class=\"dataframe\">\n",
              "  <thead>\n",
              "    <tr style=\"text-align: right;\">\n",
              "      <th></th>\n",
              "      <th>Lemmatised_words</th>\n",
              "      <th>TotalWords</th>\n",
              "      <th>text</th>\n",
              "    </tr>\n",
              "  </thead>\n",
              "  <tbody>\n",
              "    <tr>\n",
              "      <th>1274</th>\n",
              "      <td>['november', 'nuclear', 'weapon', 'foreign', '...</td>\n",
              "      <td>203</td>\n",
              "      <td>November 11, 2016 Nuclear weapons: how foreign...</td>\n",
              "    </tr>\n",
              "    <tr>\n",
              "      <th>1933</th>\n",
              "      <td>['great', 'wall', 'con', 'job', 'part', 'recov...</td>\n",
              "      <td>280</td>\n",
              "      <td>The Great Wall Street/Washington Con Job: Part...</td>\n",
              "    </tr>\n",
              "    <tr>\n",
              "      <th>954</th>\n",
              "      <td>['photo', 'u', 'army', 'cc', 'list', 'notewort...</td>\n",
              "      <td>2034</td>\n",
              "      <td>Photo by The U.S. Army | CC BY 2.0 \\n\\nHere is...</td>\n",
              "    </tr>\n",
              "    <tr>\n",
              "      <th>620</th>\n",
              "      <td>['comment', 'megyn', 'kelly', 'seem', 'think',...</td>\n",
              "      <td>842</td>\n",
              "      <td>0 comments \\nMegyn Kelly seems to think that s...</td>\n",
              "    </tr>\n",
              "    <tr>\n",
              "      <th>936</th>\n",
              "      <td>['videos', 'police', 'department', 'refuse', '...</td>\n",
              "      <td>1163</td>\n",
              "      <td>Videos Police Departments Refuse Participation...</td>\n",
              "    </tr>\n",
              "    <tr>\n",
              "      <th>...</th>\n",
              "      <td>...</td>\n",
              "      <td>...</td>\n",
              "      <td>...</td>\n",
              "    </tr>\n",
              "    <tr>\n",
              "      <th>856</th>\n",
              "      <td>['clinton', 'campaign', 'stun', 'fbi', 'report...</td>\n",
              "      <td>345</td>\n",
              "      <td>Clinton Campaign STUNNED As FBI Reportedly Reo...</td>\n",
              "    </tr>\n",
              "    <tr>\n",
              "      <th>2250</th>\n",
              "      <td>['print', 'marco', 'rubio', 'patrick', 'murphy...</td>\n",
              "      <td>160</td>\n",
              "      <td>Print \\nAs Marco Rubio and Patrick Murphy squa...</td>\n",
              "    </tr>\n",
              "    <tr>\n",
              "      <th>852</th>\n",
              "      <td>['emma', 'morano', 'last', 'surviving', 'perso...</td>\n",
              "      <td>371</td>\n",
              "      <td>Emma Morano, the last surviving person hailing...</td>\n",
              "    </tr>\n",
              "    <tr>\n",
              "      <th>1663</th>\n",
              "      <td>['tweet', 'widget', 'b', 'bar', 'editor', 'sen...</td>\n",
              "      <td>1059</td>\n",
              "      <td>Tweet Widget b y BAR editor and senior columni...</td>\n",
              "    </tr>\n",
              "    <tr>\n",
              "      <th>1925</th>\n",
              "      <td>['dear', 'milo', 'one', 'write', 'fan', 'lette...</td>\n",
              "      <td>1055</td>\n",
              "      <td>Dear MILO  —   I’m not one to write fan letter...</td>\n",
              "    </tr>\n",
              "  </tbody>\n",
              "</table>\n",
              "<p>750 rows × 3 columns</p>\n",
              "</div>"
            ],
            "text/plain": [
              "                                       Lemmatised_words  ...                                               text\n",
              "1274  ['november', 'nuclear', 'weapon', 'foreign', '...  ...  November 11, 2016 Nuclear weapons: how foreign...\n",
              "1933  ['great', 'wall', 'con', 'job', 'part', 'recov...  ...  The Great Wall Street/Washington Con Job: Part...\n",
              "954   ['photo', 'u', 'army', 'cc', 'list', 'notewort...  ...  Photo by The U.S. Army | CC BY 2.0 \\n\\nHere is...\n",
              "620   ['comment', 'megyn', 'kelly', 'seem', 'think',...  ...  0 comments \\nMegyn Kelly seems to think that s...\n",
              "936   ['videos', 'police', 'department', 'refuse', '...  ...  Videos Police Departments Refuse Participation...\n",
              "...                                                 ...  ...                                                ...\n",
              "856   ['clinton', 'campaign', 'stun', 'fbi', 'report...  ...  Clinton Campaign STUNNED As FBI Reportedly Reo...\n",
              "2250  ['print', 'marco', 'rubio', 'patrick', 'murphy...  ...  Print \\nAs Marco Rubio and Patrick Murphy squa...\n",
              "852   ['emma', 'morano', 'last', 'surviving', 'perso...  ...  Emma Morano, the last surviving person hailing...\n",
              "1663  ['tweet', 'widget', 'b', 'bar', 'editor', 'sen...  ...  Tweet Widget b y BAR editor and senior columni...\n",
              "1925  ['dear', 'milo', 'one', 'write', 'fan', 'lette...  ...  Dear MILO  —   I’m not one to write fan letter...\n",
              "\n",
              "[750 rows x 3 columns]"
            ]
          },
          "metadata": {
            "tags": []
          },
          "execution_count": 229
        }
      ]
    },
    {
      "cell_type": "code",
      "metadata": {
        "id": "ygtJtNoZHmg-",
        "colab": {
          "base_uri": "https://localhost:8080/"
        },
        "outputId": "3b18107c-36e4-4486-ae30-b5ffdbcab84c"
      },
      "source": [
        "search = GridSearchCV(classifier_grid, cv = StratifiedKFold(n_splits=5, random_state=0,shuffle=True), \n",
        "                      return_train_score = False, \n",
        "                      scoring = ['accuracy', 'precision_weighted', 'recall_weighted', 'f1_weighted'],\n",
        "                      refit = 'f1_weighted',\n",
        "                      param_grid = param_grid)\n",
        "\n",
        "search.fit(X_train, y_train)\n",
        " "
      ],
      "execution_count": null,
      "outputs": [
        {
          "output_type": "execute_result",
          "data": {
            "text/plain": [
              "GridSearchCV(cv=StratifiedKFold(n_splits=5, random_state=0, shuffle=True),\n",
              "             error_score=nan,\n",
              "             estimator=Pipeline(memory=None,\n",
              "                                steps=[('features',\n",
              "                                        FeatureUnion(n_jobs=None,\n",
              "                                                     transformer_list=[('text',\n",
              "                                                                        Pipeline(memory=None,\n",
              "                                                                                 steps=[('colext',\n",
              "                                                                                         TextSelector(field='text')),\n",
              "                                                                                        ('tfidf',\n",
              "                                                                                         TfidfVectorizer(analyzer='char_wb',\n",
              "                                                                                                         binary=False,\n",
              "                                                                                                         decode_error='strict',\n",
              "                                                                                                         dtype=<class 'num...\n",
              "                                     decision_function_shape='ovr', degree=3,\n",
              "                                     gamma='auto', kernel='linear', max_iter=-1,\n",
              "                                     probability=True, random_state=None,\n",
              "                                     shrinking=True, tol=0.001, verbose=False),\n",
              "                                 GaussianNB(priors=None, var_smoothing=1e-09)]},\n",
              "             pre_dispatch='2*n_jobs', refit='f1_weighted',\n",
              "             return_train_score=False,\n",
              "             scoring=['accuracy', 'precision_weighted', 'recall_weighted',\n",
              "                      'f1_weighted'],\n",
              "             verbose=0)"
            ]
          },
          "metadata": {
            "tags": []
          },
          "execution_count": 230
        }
      ]
    },
    {
      "cell_type": "code",
      "metadata": {
        "id": "vt636rdnHmg_",
        "colab": {
          "base_uri": "https://localhost:8080/",
          "height": 256
        },
        "outputId": "79a7ae65-3aaf-4dc8-b32f-6043d8a5f912"
      },
      "source": [
        "pd.DataFrame(search.cv_results_)"
      ],
      "execution_count": null,
      "outputs": [
        {
          "output_type": "execute_result",
          "data": {
            "text/html": [
              "<div>\n",
              "<style scoped>\n",
              "    .dataframe tbody tr th:only-of-type {\n",
              "        vertical-align: middle;\n",
              "    }\n",
              "\n",
              "    .dataframe tbody tr th {\n",
              "        vertical-align: top;\n",
              "    }\n",
              "\n",
              "    .dataframe thead th {\n",
              "        text-align: right;\n",
              "    }\n",
              "</style>\n",
              "<table border=\"1\" class=\"dataframe\">\n",
              "  <thead>\n",
              "    <tr style=\"text-align: right;\">\n",
              "      <th></th>\n",
              "      <th>mean_fit_time</th>\n",
              "      <th>std_fit_time</th>\n",
              "      <th>mean_score_time</th>\n",
              "      <th>std_score_time</th>\n",
              "      <th>param_clf</th>\n",
              "      <th>params</th>\n",
              "      <th>split0_test_accuracy</th>\n",
              "      <th>split1_test_accuracy</th>\n",
              "      <th>split2_test_accuracy</th>\n",
              "      <th>split3_test_accuracy</th>\n",
              "      <th>split4_test_accuracy</th>\n",
              "      <th>mean_test_accuracy</th>\n",
              "      <th>std_test_accuracy</th>\n",
              "      <th>rank_test_accuracy</th>\n",
              "      <th>split0_test_precision_weighted</th>\n",
              "      <th>split1_test_precision_weighted</th>\n",
              "      <th>split2_test_precision_weighted</th>\n",
              "      <th>split3_test_precision_weighted</th>\n",
              "      <th>split4_test_precision_weighted</th>\n",
              "      <th>mean_test_precision_weighted</th>\n",
              "      <th>std_test_precision_weighted</th>\n",
              "      <th>rank_test_precision_weighted</th>\n",
              "      <th>split0_test_recall_weighted</th>\n",
              "      <th>split1_test_recall_weighted</th>\n",
              "      <th>split2_test_recall_weighted</th>\n",
              "      <th>split3_test_recall_weighted</th>\n",
              "      <th>split4_test_recall_weighted</th>\n",
              "      <th>mean_test_recall_weighted</th>\n",
              "      <th>std_test_recall_weighted</th>\n",
              "      <th>rank_test_recall_weighted</th>\n",
              "      <th>split0_test_f1_weighted</th>\n",
              "      <th>split1_test_f1_weighted</th>\n",
              "      <th>split2_test_f1_weighted</th>\n",
              "      <th>split3_test_f1_weighted</th>\n",
              "      <th>split4_test_f1_weighted</th>\n",
              "      <th>mean_test_f1_weighted</th>\n",
              "      <th>std_test_f1_weighted</th>\n",
              "      <th>rank_test_f1_weighted</th>\n",
              "    </tr>\n",
              "  </thead>\n",
              "  <tbody>\n",
              "    <tr>\n",
              "      <th>0</th>\n",
              "      <td>30.328162</td>\n",
              "      <td>0.455250</td>\n",
              "      <td>7.755028</td>\n",
              "      <td>0.619877</td>\n",
              "      <td>LogisticRegression(C=1.0, class_weight=None, d...</td>\n",
              "      <td>{'clf': LogisticRegression(C=1.0, class_weight...</td>\n",
              "      <td>0.942222</td>\n",
              "      <td>0.951111</td>\n",
              "      <td>0.933333</td>\n",
              "      <td>0.944444</td>\n",
              "      <td>0.940000</td>\n",
              "      <td>0.942222</td>\n",
              "      <td>0.005795</td>\n",
              "      <td>2</td>\n",
              "      <td>0.942814</td>\n",
              "      <td>0.951768</td>\n",
              "      <td>0.933299</td>\n",
              "      <td>0.945214</td>\n",
              "      <td>0.940064</td>\n",
              "      <td>0.942632</td>\n",
              "      <td>0.006064</td>\n",
              "      <td>2</td>\n",
              "      <td>0.942222</td>\n",
              "      <td>0.951111</td>\n",
              "      <td>0.933333</td>\n",
              "      <td>0.944444</td>\n",
              "      <td>0.940000</td>\n",
              "      <td>0.942222</td>\n",
              "      <td>0.005795</td>\n",
              "      <td>2</td>\n",
              "      <td>0.942042</td>\n",
              "      <td>0.950959</td>\n",
              "      <td>0.933297</td>\n",
              "      <td>0.944251</td>\n",
              "      <td>0.939914</td>\n",
              "      <td>0.942092</td>\n",
              "      <td>0.005751</td>\n",
              "      <td>2</td>\n",
              "    </tr>\n",
              "    <tr>\n",
              "      <th>1</th>\n",
              "      <td>34.341699</td>\n",
              "      <td>0.505246</td>\n",
              "      <td>7.963194</td>\n",
              "      <td>0.614107</td>\n",
              "      <td>SVC(C=1.0, break_ties=False, cache_size=200, c...</td>\n",
              "      <td>{'clf': SVC(C=1.0, break_ties=False, cache_siz...</td>\n",
              "      <td>0.940000</td>\n",
              "      <td>0.960000</td>\n",
              "      <td>0.944444</td>\n",
              "      <td>0.948889</td>\n",
              "      <td>0.948889</td>\n",
              "      <td>0.948444</td>\n",
              "      <td>0.006652</td>\n",
              "      <td>1</td>\n",
              "      <td>0.939986</td>\n",
              "      <td>0.960722</td>\n",
              "      <td>0.944424</td>\n",
              "      <td>0.948981</td>\n",
              "      <td>0.948924</td>\n",
              "      <td>0.948607</td>\n",
              "      <td>0.006911</td>\n",
              "      <td>1</td>\n",
              "      <td>0.940000</td>\n",
              "      <td>0.960000</td>\n",
              "      <td>0.944444</td>\n",
              "      <td>0.948889</td>\n",
              "      <td>0.948889</td>\n",
              "      <td>0.948444</td>\n",
              "      <td>0.006652</td>\n",
              "      <td>1</td>\n",
              "      <td>0.939950</td>\n",
              "      <td>0.959875</td>\n",
              "      <td>0.944430</td>\n",
              "      <td>0.948816</td>\n",
              "      <td>0.948902</td>\n",
              "      <td>0.948395</td>\n",
              "      <td>0.006622</td>\n",
              "      <td>1</td>\n",
              "    </tr>\n",
              "    <tr>\n",
              "      <th>2</th>\n",
              "      <td>30.568783</td>\n",
              "      <td>0.506116</td>\n",
              "      <td>7.926197</td>\n",
              "      <td>0.640950</td>\n",
              "      <td>GaussianNB(priors=None, var_smoothing=1e-09)</td>\n",
              "      <td>{'clf': GaussianNB(priors=None, var_smoothing=...</td>\n",
              "      <td>0.848889</td>\n",
              "      <td>0.844444</td>\n",
              "      <td>0.777778</td>\n",
              "      <td>0.873333</td>\n",
              "      <td>0.848889</td>\n",
              "      <td>0.838667</td>\n",
              "      <td>0.032099</td>\n",
              "      <td>3</td>\n",
              "      <td>0.848759</td>\n",
              "      <td>0.851121</td>\n",
              "      <td>0.789038</td>\n",
              "      <td>0.874948</td>\n",
              "      <td>0.857422</td>\n",
              "      <td>0.844258</td>\n",
              "      <td>0.029092</td>\n",
              "      <td>3</td>\n",
              "      <td>0.848889</td>\n",
              "      <td>0.844444</td>\n",
              "      <td>0.777778</td>\n",
              "      <td>0.873333</td>\n",
              "      <td>0.848889</td>\n",
              "      <td>0.838667</td>\n",
              "      <td>0.032099</td>\n",
              "      <td>3</td>\n",
              "      <td>0.848807</td>\n",
              "      <td>0.844965</td>\n",
              "      <td>0.771127</td>\n",
              "      <td>0.873618</td>\n",
              "      <td>0.849383</td>\n",
              "      <td>0.837580</td>\n",
              "      <td>0.034741</td>\n",
              "      <td>3</td>\n",
              "    </tr>\n",
              "  </tbody>\n",
              "</table>\n",
              "</div>"
            ],
            "text/plain": [
              "   mean_fit_time  std_fit_time  ...  std_test_f1_weighted  rank_test_f1_weighted\n",
              "0      30.328162      0.455250  ...              0.005751                      2\n",
              "1      34.341699      0.505246  ...              0.006622                      1\n",
              "2      30.568783      0.506116  ...              0.034741                      3\n",
              "\n",
              "[3 rows x 38 columns]"
            ]
          },
          "metadata": {
            "tags": []
          },
          "execution_count": 231
        }
      ]
    },
    {
      "cell_type": "code",
      "metadata": {
        "id": "bm8Ilx_3Hmg_",
        "colab": {
          "base_uri": "https://localhost:8080/",
          "height": 710
        },
        "outputId": "471dae3a-6396-44e0-f6f9-b527a1af5156"
      },
      "source": [
        "predictions = search.predict(X_test)\n",
        "\n",
        "print(\"Accuracy: \", accuracy_score(y_test, predictions))\n",
        "print(classification_report(y_test, predictions))\n",
        "print(confusion_matrix(y_test, predictions))\n",
        "\n",
        "confusion_matrix_heatmap(confusion_matrix(y_test,predictions), search.classes_)"
      ],
      "execution_count": null,
      "outputs": [
        {
          "output_type": "stream",
          "text": [
            "Accuracy:  0.9533333333333334\n",
            "              precision    recall  f1-score   support\n",
            "\n",
            "           0       0.92      0.96      0.94       305\n",
            "           1       0.97      0.95      0.96       445\n",
            "\n",
            "    accuracy                           0.95       750\n",
            "   macro avg       0.95      0.96      0.95       750\n",
            "weighted avg       0.95      0.95      0.95       750\n",
            "\n",
            "[[294  11]\n",
            " [ 24 421]]\n"
          ],
          "name": "stdout"
        },
        {
          "output_type": "display_data",
          "data": {
            "image/png": "[encoded data removed]",
            "text/plain": [
              "<Figure size 720x576 with 2 Axes>"
            ]
          },
          "metadata": {
            "tags": [],
            "needs_background": "light"
          }
        }
      ]
    },
    {
      "cell_type": "code",
      "metadata": {
        "id": "5YDA3NkiHmg_",
        "colab": {
          "base_uri": "https://localhost:8080/",
          "height": 610
        },
        "outputId": "d688af15-19d3-4832-95b7-866833fd9262"
      },
      "source": [
        "confusion_matrix_percent_heatmap(confusion_matrix(y_test,predictions), search.classes_)"
      ],
      "execution_count": null,
      "outputs": [
        {
          "output_type": "display_data",
          "data": {
            "image/png": "[encoded data removed]",
            "text/plain": [
              "<Figure size 720x720 with 2 Axes>"
            ]
          },
          "metadata": {
            "tags": [],
            "needs_background": "light"
          }
        }
      ]
    },
    {
      "cell_type": "code",
      "metadata": {
        "id": "z7PKItYLHmhA",
        "colab": {
          "base_uri": "https://localhost:8080/"
        },
        "outputId": "12e48041-bfed-4bd5-ac89-2ab8bb4c884a"
      },
      "source": [
        "print(search.best_estimator_ )"
      ],
      "execution_count": null,
      "outputs": [
        {
          "output_type": "stream",
          "text": [
            "Pipeline(memory=None,\n",
            "         steps=[('features',\n",
            "                 FeatureUnion(n_jobs=None,\n",
            "                              transformer_list=[('text',\n",
            "                                                 Pipeline(memory=None,\n",
            "                                                          steps=[('colext',\n",
            "                                                                  TextSelector(field='text')),\n",
            "                                                                 ('tfidf',\n",
            "                                                                  TfidfVectorizer(analyzer='char_wb',\n",
            "                                                                                  binary=False,\n",
            "                                                                                  decode_error='strict',\n",
            "                                                                                  dtype=<class 'numpy.float64'>,\n",
            "                                                                                  encoding='utf-8',\n",
            "                                                                                  input='content',\n",
            "                                                                                  lowercase=True,\n",
            "                                                                                  max_df=0.25,\n",
            "                                                                                  max_features=None,\n",
            "                                                                                  min_df=...\n",
            "                                                                  StandardScaler(copy=True,\n",
            "                                                                                 with_mean=True,\n",
            "                                                                                 with_std=True))],\n",
            "                                                          verbose=False))],\n",
            "                              transformer_weights=None, verbose=False)),\n",
            "                ('clf',\n",
            "                 SVC(C=1.0, break_ties=False, cache_size=200, class_weight=None,\n",
            "                     coef0=0.0, decision_function_shape='ovr', degree=3,\n",
            "                     gamma='auto', kernel='linear', max_iter=-1,\n",
            "                     probability=True, random_state=None, shrinking=True,\n",
            "                     tol=0.001, verbose=False))],\n",
            "         verbose=False)\n"
          ],
          "name": "stdout"
        }
      ]
    },
    {
      "cell_type": "code",
      "metadata": {
        "id": "4OOq5etIXavA",
        "colab": {
          "base_uri": "https://localhost:8080/",
          "height": 404
        },
        "outputId": "4840ed82-37a9-4638-979e-d1e0ee19b6f4"
      },
      "source": [
        "models = {\n",
        "    \"Best Model\": search.best_estimator_ \n",
        "}\n",
        "\n",
        "plot_roc_multi(X_test, y_test, models, save=True)"
      ],
      "execution_count": null,
      "outputs": [
        {
          "output_type": "display_data",
          "data": {
            "image/png": "[encoded data removed]",
            "text/plain": [
              "<Figure size 720x432 with 1 Axes>"
            ]
          },
          "metadata": {
            "tags": [],
            "needs_background": "light"
          }
        }
      ]
    },
    {
      "cell_type": "code",
      "metadata": {
        "id": "2WaeXrKUHmhA",
        "colab": {
          "base_uri": "https://localhost:8080/"
        },
        "outputId": "a4beee5e-82e0-4357-f18a-1c5ca06bcd57"
      },
      "source": [
        "search.best_score_"
      ],
      "execution_count": null,
      "outputs": [
        {
          "output_type": "execute_result",
          "data": {
            "text/plain": [
              "0.9483945881641912"
            ]
          },
          "metadata": {
            "tags": []
          },
          "execution_count": 236
        }
      ]
    },
    {
      "cell_type": "code",
      "metadata": {
        "id": "LXLZptjIHmhA",
        "colab": {
          "base_uri": "https://localhost:8080/"
        },
        "outputId": "d15916e0-20d7-445c-ee14-76ee6de9c07d"
      },
      "source": [
        "print(search.best_params_) \n"
      ],
      "execution_count": null,
      "outputs": [
        {
          "output_type": "stream",
          "text": [
            "{'clf': SVC(C=1.0, break_ties=False, cache_size=200, class_weight=None, coef0=0.0,\n",
            "    decision_function_shape='ovr', degree=3, gamma='auto', kernel='linear',\n",
            "    max_iter=-1, probability=True, random_state=None, shrinking=True, tol=0.001,\n",
            "    verbose=False)}\n"
          ],
          "name": "stdout"
        }
      ]
    },
    {
      "cell_type": "code",
      "metadata": {
        "id": "Sv6uqHs4HmhB",
        "colab": {
          "base_uri": "https://localhost:8080/"
        },
        "outputId": "a1fa6e5e-9b89-4af9-ba14-70d6fdb10fe8"
      },
      "source": [
        "print(search.scorer_)"
      ],
      "execution_count": null,
      "outputs": [
        {
          "output_type": "stream",
          "text": [
            "{'accuracy': make_scorer(accuracy_score), 'precision_weighted': make_scorer(precision_score, pos_label=None, average=weighted), 'recall_weighted': make_scorer(recall_score, pos_label=None, average=weighted), 'f1_weighted': make_scorer(f1_score, pos_label=None, average=weighted)}\n"
          ],
          "name": "stdout"
        }
      ]
    },
    {
      "cell_type": "code",
      "metadata": {
        "id": "5V5plfgcbwmx"
      },
      "source": [
        "    def predict_proba(self, X):\n",
        "        \"\"\"\n",
        "        Return probability estimates for the test vector X.\n",
        "        Parameters\n",
        "        ----------\n",
        "        X : array-like of shape (n_samples, n_features)\n",
        "        Returns\n",
        "        -------\n",
        "        C : array-like of shape (n_samples, n_classes)\n",
        "            Returns the probability of the samples for each class in\n",
        "            the model. The columns correspond to the classes in sorted\n",
        "            order, as they appear in the attribute :term:`classes_`.\n",
        "        \"\"\"\n",
        "        return np.exp(self.predict_log_proba(X))"
      ],
      "execution_count": null,
      "outputs": []
    },
    {
      "cell_type": "code",
      "metadata": {
        "id": "LoaCjg_ib7DB",
        "colab": {
          "base_uri": "https://localhost:8080/"
        },
        "outputId": "4e36f6ed-343b-42f1-cf0f-1f25d31d3f61"
      },
      "source": [
        "x=predict_proba(search.best_estimator_ , X_test)\n",
        "x"
      ],
      "execution_count": null,
      "outputs": [
        {
          "output_type": "execute_result",
          "data": {
            "text/plain": [
              "array([[2.00671738e-02, 9.79932826e-01],\n",
              "       [2.26149391e-09, 9.99999998e-01],\n",
              "       [1.86845684e-07, 9.99999813e-01],\n",
              "       ...,\n",
              "       [7.20244826e-01, 2.79755174e-01],\n",
              "       [2.84609631e-06, 9.99997154e-01],\n",
              "       [9.59035818e-01, 4.09641818e-02]])"
            ]
          },
          "metadata": {
            "tags": []
          },
          "execution_count": 240
        }
      ]
    },
    {
      "cell_type": "code",
      "metadata": {
        "id": "9JpayYRIcb7X",
        "colab": {
          "base_uri": "https://localhost:8080/"
        },
        "outputId": "d3e9ad6e-a2ca-4cea-ee6f-8b1d37714e8e"
      },
      "source": [
        "x[0,0]+x[0,1]"
      ],
      "execution_count": null,
      "outputs": [
        {
          "output_type": "execute_result",
          "data": {
            "text/plain": [
              "0.9999999999999999"
            ]
          },
          "metadata": {
            "tags": []
          },
          "execution_count": 241
        }
      ]
    },
    {
      "cell_type": "code",
      "metadata": {
        "id": "I6wgrXM5HmhB",
        "colab": {
          "base_uri": "https://localhost:8080/"
        },
        "outputId": "ade1694c-a5b4-4f59-9ed2-114ee88ce271"
      },
      "source": [
        "from google.colab import drive\n",
        "drive.mount('/content/gdrive')"
      ],
      "execution_count": null,
      "outputs": [
        {
          "output_type": "stream",
          "text": [
            "Drive already mounted at /content/gdrive; to attempt to forcibly remount, call drive.mount(\"/content/gdrive\", force_remount=True).\n"
          ],
          "name": "stdout"
        }
      ]
    },
    {
      "cell_type": "code",
      "metadata": {
        "id": "9JAtoXo6HmhB",
        "colab": {
          "base_uri": "https://localhost:8080/"
        },
        "outputId": "14b9a871-35a3-4201-b303-849f8202ff31"
      },
      "source": [
        "!ls /content/gdrive/My Drive"
      ],
      "execution_count": null,
      "outputs": [
        {
          "output_type": "stream",
          "text": [
            "ls: cannot access '/content/gdrive/My': No such file or directory\n",
            "ls: cannot access 'Drive': No such file or directory\n"
          ],
          "name": "stdout"
        }
      ]
    },
    {
      "cell_type": "code",
      "metadata": {
        "id": "Pt-ZnNHbQi_k",
        "colab": {
          "base_uri": "https://localhost:8080/"
        },
        "outputId": "37db6e35-59f1-47f6-bd4f-07cc19ad5f7e"
      },
      "source": [
        "pip install torch"
      ],
      "execution_count": null,
      "outputs": [
        {
          "output_type": "stream",
          "text": [
            "Requirement already satisfied: torch in /usr/local/lib/python3.7/dist-packages (1.8.1+cu101)\n",
            "Requirement already satisfied: typing-extensions in /usr/local/lib/python3.7/dist-packages (from torch) (3.7.4.3)\n",
            "Requirement already satisfied: numpy in /usr/local/lib/python3.7/dist-packages (from torch) (1.19.5)\n"
          ],
          "name": "stdout"
        }
      ]
    },
    {
      "cell_type": "code",
      "metadata": {
        "id": "2snqTo-OHmhB"
      },
      "source": [
        "\n",
        "path = \"/content/gdrive/My Drive/collab/fnd.pkl\" \n"
      ],
      "execution_count": null,
      "outputs": []
    },
    {
      "cell_type": "code",
      "metadata": {
        "id": "qetbETtHFLVe"
      },
      "source": [
        ""
      ],
      "execution_count": null,
      "outputs": []
    },
    {
      "cell_type": "code",
      "metadata": {
        "id": "Gbe20YlBQaq1",
        "colab": {
          "base_uri": "https://localhost:8080/"
        },
        "outputId": "42836d90-b13a-42f3-9778-f0c07cad1f62"
      },
      "source": [
        "import joblib\n",
        "joblib.dump(search.best_estimator_,\"fnd.pkl\")\n",
        "joblib.dump(search.best_estimator_, path, compress = 1)"
      ],
      "execution_count": null,
      "outputs": [
        {
          "output_type": "execute_result",
          "data": {
            "text/plain": [
              "['/content/gdrive/My Drive/collab/fnd.pkl']"
            ]
          },
          "metadata": {
            "tags": []
          },
          "execution_count": 252
        }
      ]
    },
    {
      "cell_type": "code",
      "metadata": {
        "id": "D17EpN2QV2IR",
        "colab": {
          "base_uri": "https://localhost:8080/"
        },
        "outputId": "8fadc12b-9716-420f-b97f-714743802cd7"
      },
      "source": [
        "loaded_model = joblib.load(path)\n",
        "result = loaded_model.predict(X_test)\n",
        "print(result)"
      ],
      "execution_count": null,
      "outputs": [
        {
          "output_type": "stream",
          "text": [
            "[1 1 1 0 1 1 1 1 1 0 0 1 0 1 1 1 1 1 1 0 1 1 1 1 1 1 1 1 1 1 0 0 1 0 1 1 0\n",
            " 1 1 0 0 0 0 1 1 1 0 0 1 1 1 0 1 1 1 1 1 1 1 1 1 0 0 1 0 1 1 1 0 1 1 0 0 1\n",
            " 0 1 0 1 1 0 1 1 0 0 0 1 1 1 1 1 0 0 0 1 0 1 1 0 1 0 0 0 1 1 0 1 1 1 1 0 0\n",
            " 0 1 1 0 0 1 1 0 1 0 1 0 1 0 0 1 0 0 0 1 0 1 1 0 0 1 0 1 0 1 1 1 1 1 0 0 0\n",
            " 1 0 1 0 1 1 1 1 1 0 1 0 0 1 1 0 1 0 0 1 1 1 1 0 0 1 1 1 0 0 1 0 1 0 0 0 1\n",
            " 1 0 1 0 1 0 1 1 0 0 0 0 0 0 1 1 1 1 0 1 0 1 0 0 0 0 1 0 0 0 1 1 1 0 1 1 0\n",
            " 1 0 0 0 0 0 1 0 1 0 1 1 1 0 1 0 1 1 1 1 1 0 1 0 1 1 1 1 0 0 1 0 0 0 1 1 1\n",
            " 1 0 0 0 0 1 0 1 0 1 0 0 1 1 0 0 1 1 1 0 1 1 1 0 1 0 0 0 0 1 0 1 0 1 1 1 0\n",
            " 1 0 0 1 1 1 1 0 0 0 0 1 1 1 0 0 1 0 0 0 1 1 1 1 1 1 0 1 0 1 0 0 0 1 0 1 0\n",
            " 0 0 0 1 1 0 0 1 0 0 0 0 1 0 1 0 0 1 1 0 0 1 1 0 1 1 1 0 1 1 0 0 0 0 1 1 1\n",
            " 1 1 1 0 1 0 1 1 1 1 0 1 1 1 1 0 1 1 1 0 0 0 1 0 0 0 1 0 1 1 1 1 0 1 1 0 1\n",
            " 0 1 0 1 0 1 1 1 1 1 0 1 1 1 0 1 0 0 0 0 1 1 0 0 1 1 0 1 1 1 1 0 1 0 1 1 1\n",
            " 0 1 1 1 1 1 0 1 0 1 1 1 0 1 0 0 0 1 0 1 0 0 1 1 0 1 1 0 1 0 0 1 0 0 0 1 1\n",
            " 1 1 1 0 0 1 1 0 1 0 0 0 1 1 1 1 1 0 0 0 1 0 0 1 1 1 1 1 1 1 1 0 1 0 1 1 0\n",
            " 1 0 1 1 0 1 1 1 1 0 0 0 1 1 1 0 0 1 0 1 0 1 1 1 1 0 1 1 1 0 0 1 0 1 0 1 0\n",
            " 1 1 0 0 0 0 0 1 1 1 1 0 1 0 0 1 1 1 1 1 1 0 1 1 1 0 1 1 0 0 0 1 1 0 1 0 1\n",
            " 0 1 1 1 1 0 1 1 0 0 0 0 1 1 0 1 0 1 1 0 1 1 1 1 1 0 1 1 1 0 0 0 0 0 1 1 1\n",
            " 1 0 0 1 1 1 1 1 0 1 0 1 1 1 0 1 1 1 1 1 1 0 1 0 0 1 1 0 1 1 1 1 0 0 0 1 1\n",
            " 0 1 1 0 1 1 0 0 1 0 1 1 1 1 0 0 1 1 0 1 0 0 1 1 0 1 1 1 1 0 1 1 0 1 0 1 1\n",
            " 0 0 1 0 1 1 0 0 1 1 0 1 1 0 0 1 0 0 1 1 0 1 1 0 1 1 1 1 1 1 1 0 0 0 1 0 0\n",
            " 0 0 0 1 1 1 1 0 1 0]\n"
          ],
          "name": "stdout"
        }
      ]
    },
    {
      "cell_type": "code",
      "metadata": {
        "colab": {
          "base_uri": "https://localhost:8080/"
        },
        "id": "aY4hVQXKNUSR",
        "outputId": "34967ba1-0b84-4207-8a26-65e5ad704aef"
      },
      "source": [
        "a=loaded_model.predict_proba(X_test)\n",
        "a"
      ],
      "execution_count": null,
      "outputs": [
        {
          "output_type": "execute_result",
          "data": {
            "text/plain": [
              "array([[2.00671738e-02, 9.79932826e-01],\n",
              "       [2.26149391e-09, 9.99999998e-01],\n",
              "       [1.86845684e-07, 9.99999813e-01],\n",
              "       ...,\n",
              "       [7.20244826e-01, 2.79755174e-01],\n",
              "       [2.84609631e-06, 9.99997154e-01],\n",
              "       [9.59035818e-01, 4.09641818e-02]])"
            ]
          },
          "metadata": {
            "tags": []
          },
          "execution_count": 248
        }
      ]
    },
    {
      "cell_type": "code",
      "metadata": {
        "id": "CwzgTu83VvT3",
        "colab": {
          "base_uri": "https://localhost:8080/"
        },
        "outputId": "72fd6440-21e6-48ff-ddaa-3fead397a474"
      },
      "source": [
        "y_test"
      ],
      "execution_count": null,
      "outputs": [
        {
          "output_type": "execute_result",
          "data": {
            "text/plain": [
              "1274    1\n",
              "1933    1\n",
              "954     1\n",
              "620     1\n",
              "936     1\n",
              "       ..\n",
              "856     1\n",
              "2250    1\n",
              "852     0\n",
              "1663    1\n",
              "1925    0\n",
              "Name: label, Length: 750, dtype: int64"
            ]
          },
          "metadata": {
            "tags": []
          },
          "execution_count": 249
        }
      ]
    },
    {
      "cell_type": "code",
      "metadata": {
        "id": "JIKBEhsS2SCo",
        "colab": {
          "base_uri": "https://localhost:8080/"
        },
        "outputId": "df8556fd-17a2-46d9-f9c3-47523cdbb0ae"
      },
      "source": [
        "y_train"
      ],
      "execution_count": null,
      "outputs": [
        {
          "output_type": "execute_result",
          "data": {
            "text/plain": [
              "1733    0\n",
              "2078    1\n",
              "2132    1\n",
              "1923    1\n",
              "1913    0\n",
              "       ..\n",
              "1329    0\n",
              "726     1\n",
              "1307    0\n",
              "235     0\n",
              "1088    0\n",
              "Name: label, Length: 2250, dtype: int64"
            ]
          },
          "metadata": {
            "tags": []
          },
          "execution_count": 250
        }
      ]
    },
    {
      "cell_type": "code",
      "metadata": {
        "id": "y_O2Py522X7l"
      },
      "source": [
        ""
      ],
      "execution_count": null,
      "outputs": []
    }
  ]
}